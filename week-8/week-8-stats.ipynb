{
 "cells": [
  {
   "cell_type": "code",
   "id": "initial_id",
   "metadata": {
    "collapsed": true,
    "jupyter": {
     "outputs_hidden": true
    },
    "ExecuteTime": {
     "end_time": "2024-04-16T16:52:41.536041Z",
     "start_time": "2024-04-16T16:52:41.533845Z"
    }
   },
   "source": [
    "import numpy as np\n",
    "import pandas as pd"
   ],
   "outputs": [],
   "execution_count": 79
  },
  {
   "cell_type": "markdown",
   "id": "43862f1118a722e3",
   "metadata": {},
   "source": [
    "# Part 1: moves resulting in food being eaten after 10 and 50 generations"
   ]
  },
  {
   "cell_type": "code",
   "id": "84f622f3e7886ac9",
   "metadata": {
    "ExecuteTime": {
     "end_time": "2024-04-16T16:52:41.542121Z",
     "start_time": "2024-04-16T16:52:41.537509Z"
    }
   },
   "source": [
    "data = pd.DataFrame(  # These results were manually copied from the 'Observer tab in netlogo'\n",
    "    data=[[1462, 58859], [2372, 56620]],\n",
    "    index=[\"Gen 11\", \"Gen 51\"],\n",
    "    columns=[\"Moves resulting in food eaten\", \"Moves not resulting in food eaten\"],\n",
    ")\n",
    "data"
   ],
   "outputs": [
    {
     "data": {
      "text/plain": [
       "        Moves resulting in food eaten  Moves not resulting in food eaten\n",
       "Gen 11                           1462                              58859\n",
       "Gen 51                           2372                              56620"
      ],
      "text/html": [
       "<div>\n",
       "<style scoped>\n",
       "    .dataframe tbody tr th:only-of-type {\n",
       "        vertical-align: middle;\n",
       "    }\n",
       "\n",
       "    .dataframe tbody tr th {\n",
       "        vertical-align: top;\n",
       "    }\n",
       "\n",
       "    .dataframe thead th {\n",
       "        text-align: right;\n",
       "    }\n",
       "</style>\n",
       "<table border=\"1\" class=\"dataframe\">\n",
       "  <thead>\n",
       "    <tr style=\"text-align: right;\">\n",
       "      <th></th>\n",
       "      <th>Moves resulting in food eaten</th>\n",
       "      <th>Moves not resulting in food eaten</th>\n",
       "    </tr>\n",
       "  </thead>\n",
       "  <tbody>\n",
       "    <tr>\n",
       "      <th>Gen 11</th>\n",
       "      <td>1462</td>\n",
       "      <td>58859</td>\n",
       "    </tr>\n",
       "    <tr>\n",
       "      <th>Gen 51</th>\n",
       "      <td>2372</td>\n",
       "      <td>56620</td>\n",
       "    </tr>\n",
       "  </tbody>\n",
       "</table>\n",
       "</div>"
      ]
     },
     "execution_count": 80,
     "metadata": {},
     "output_type": "execute_result"
    }
   ],
   "execution_count": 80
  },
  {
   "cell_type": "code",
   "id": "2b9655774e32a11b",
   "metadata": {
    "ExecuteTime": {
     "end_time": "2024-04-16T16:52:41.546569Z",
     "start_time": "2024-04-16T16:52:41.543496Z"
    }
   },
   "source": [
    "from scipy.stats import chi2_contingency\n",
    "\n",
    "print(chi2_contingency(data).pvalue)\n",
    "print(chi2_contingency(data).pvalue < 0.05)\n",
    "print(chi2_contingency(data).pvalue < 0.01)"
   ],
   "outputs": [
    {
     "name": "stdout",
     "output_type": "stream",
     "text": [
      "4.986119766767448e-55\n",
      "True\n",
      "True\n"
     ]
    }
   ],
   "execution_count": 81
  },
  {
   "cell_type": "markdown",
   "id": "9171548d673e032c",
   "metadata": {},
   "source": [
    "# Part 2: distribution of food eaten per tick"
   ]
  },
  {
   "cell_type": "markdown",
   "id": "83a14658d1d23c9",
   "metadata": {},
   "source": [
    "Readings taken at generation 50"
   ]
  },
  {
   "cell_type": "code",
   "id": "808f422e431e8567",
   "metadata": {
    "ExecuteTime": {
     "end_time": "2024-04-16T16:52:41.650470Z",
     "start_time": "2024-04-16T16:52:41.551425Z"
    }
   },
   "source": [
    "ticks = np.genfromtxt(\"ticks.txt\")\n",
    "ticks = ticks[~np.isnan(ticks)]"
   ],
   "outputs": [],
   "execution_count": 82
  },
  {
   "cell_type": "code",
   "id": "3e8708e58038ff46",
   "metadata": {
    "ExecuteTime": {
     "end_time": "2024-04-16T16:52:41.773695Z",
     "start_time": "2024-04-16T16:52:41.652994Z"
    }
   },
   "source": [
    "import seaborn as sns\n",
    "\n",
    "sns.histplot(ticks)"
   ],
   "outputs": [
    {
     "data": {
      "text/plain": [
       "<Axes: ylabel='Count'>"
      ]
     },
     "execution_count": 83,
     "metadata": {},
     "output_type": "execute_result"
    },
    {
     "data": {
      "text/plain": [
       "<Figure size 640x480 with 1 Axes>"
      ],
      "image/png": "[encoded data removed]"
     },
     "metadata": {},
     "output_type": "display_data"
    }
   ],
   "execution_count": 83
  },
  {
   "cell_type": "code",
   "id": "d5f4fcb8413dc863",
   "metadata": {
    "ExecuteTime": {
     "end_time": "2024-04-16T16:52:41.776785Z",
     "start_time": "2024-04-16T16:52:41.774540Z"
    }
   },
   "source": [
    "print(f\"Mean number of plants eaten: {np.mean(ticks)}\")\n",
    "print(f\"Variance: {np.var(ticks)}\")"
   ],
   "outputs": [
    {
     "name": "stdout",
     "output_type": "stream",
     "text": [
      "Mean number of plants eaten: 0.3738604835513278\n",
      "Variance: 0.3791542207254103\n"
     ]
    }
   ],
   "execution_count": 84
  },
  {
   "cell_type": "markdown",
   "id": "ec1f24ab1ec6a033",
   "metadata": {},
   "source": [
    "## It can be seen that while the mean and variance aren't exactly equal (to an extent beyond floating point arithmetic error), they are close, suggesting that this distribution will resemble a poisson distribution"
   ]
  },
  {
   "cell_type": "code",
   "id": "eea3619c7f1c9c96",
   "metadata": {
    "ExecuteTime": {
     "end_time": "2024-04-16T16:52:41.881129Z",
     "start_time": "2024-04-16T16:52:41.777878Z"
    }
   },
   "source": [
    "import math\n",
    "import matplotlib.pyplot as plt\n",
    "\n",
    "x_axis = np.arange(0, 5, 1)\n",
    "\n",
    "\n",
    "def poisson(x, mu):\n",
    "    return ((mu**x) * np.exp(-1 * mu)) / (math.factorial(x))\n",
    "\n",
    "\n",
    "y = [poisson(x, 0.5) for x in x_axis]\n",
    "plt.scatter(x_axis, y, label=\"True poisson distribution with mean 0.5\", alpha=0.5)\n",
    "unique_tick_counts = np.unique(ticks)\n",
    "food_per_tick_probabilities = [\n",
    "    len(ticks[ticks == count]) / len(ticks) for count in unique_tick_counts\n",
    "]\n",
    "plt.scatter(\n",
    "    unique_tick_counts,\n",
    "    food_per_tick_probabilities,\n",
    "    label=\"Actual distribution of plants eaten\",\n",
    "    marker=\"x\",\n",
    ")\n",
    "plt.legend()"
   ],
   "outputs": [
    {
     "data": {
      "text/plain": [
       "<matplotlib.legend.Legend at 0x29d931460>"
      ]
     },
     "execution_count": 85,
     "metadata": {},
     "output_type": "execute_result"
    },
    {
     "data": {
      "text/plain": [
       "<Figure size 640x480 with 1 Axes>"
      ],
      "image/png": "[encoded data removed]"
     },
     "metadata": {},
     "output_type": "display_data"
    }
   ],
   "execution_count": 85
  },
  {
   "cell_type": "markdown",
   "id": "6012c0d78ae901cc",
   "metadata": {},
   "source": [
    "# Visually, the distribution matches that of a poisson distribution with the same mean"
   ]
  }
 ],
 "metadata": {
  "kernelspec": {
   "display_name": "Python 3 (ipykernel)",
   "language": "python",
   "name": "python3"
  },
  "language_info": {
   "codemirror_mode": {
    "name": "ipython",
    "version": 3
   },
   "file_extension": ".py",
   "mimetype": "text/x-python",
   "name": "python",
   "nbconvert_exporter": "python",
   "pygments_lexer": "ipython3",
   "version": "3.9.6"
  }
 },
 "nbformat": 4,
 "nbformat_minor": 5
}
