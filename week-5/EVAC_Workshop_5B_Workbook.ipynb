{
 "cells": [
  {
   "cell_type": "markdown",
   "metadata": {
    "id": "q7jTURszSJhA"
   },
   "source": [
    "# <span style=\"color:blue\">EVAC Workshop 5B: Evolving an AI to play Pong</span>"
   ]
  },
  {
   "cell_type": "markdown",
   "metadata": {
    "id": "3796ArhVSJhC"
   },
   "source": [
    "**Module leader**\n",
    "\n",
    "Simon O'Keefe: simon.okeefe@york.ac.uk\n",
    "\n",
    "**Graduate Teaching Assistants**\n",
    "\n",
    "Danny Roberts: danny.roberts@york.ac.uk\n",
    "\n",
    "Tianda Sun: tianda.sun@york.ac.uk"
   ]
  },
  {
   "cell_type": "markdown",
   "metadata": {
    "id": "EcUfoYjDSJhD"
   },
   "source": [
    "## <span style=\"color:#0073e6\">Learning objectives</span>"
   ]
  },
  {
   "cell_type": "markdown",
   "metadata": {
    "id": "PIVTRyXISJhD"
   },
   "source": [
    "- To understand how to apply evolutionary algorithms to traditionally reinforcement learning scenarios\n",
    "- Understand how to evolve a simple game AI by evolving neural networks"
   ]
  },
  {
   "cell_type": "markdown",
   "metadata": {
    "id": "6C7BckY0SJhE"
   },
   "source": [
    "# <span style=\"color:blue\">Practical Instructions</span>"
   ]
  },
  {
   "cell_type": "markdown",
   "metadata": {
    "id": "SsUuxMArSJhE"
   },
   "source": [
    "Below is a Pong game implementation. If you want to have a quick play of Pong online, you can do so at pong-2.com. The version of the game implemented here is slightly different in that the angle that the ball comes off the bat depends on where it hits the bat.\n",
    "\n",
    "A simple AI has been included in the code, and will control the hard-coded AI of the left bat (the left bat AI simply moves towards the vertical position of the ball).\n",
    "\n",
    "\n",
    "Your task is to evolve a neural network AI for the right bat, which can outperform the left bat."
   ]
  },
  {
   "cell_type": "markdown",
   "metadata": {
    "id": "igZacNRHSJhF"
   },
   "source": [
    "The code to execute your neural network AI can be placed in the 'R_move_AI(self, AIbrain):' function of the Pong game. All you need to do here is let your neural network decide, in each timestep, whether to move the bat up or down (or do nothing)."
   ]
  },
  {
   "cell_type": "markdown",
   "metadata": {
    "id": "aeaZN3hnSJhF"
   },
   "source": [
    "The game uses the Turtle library for displaying the simple graphics on screen. Turtle is a native Python package (so you don't need to install it). You do not need to understand that in detail, but you can find out more here: https://realpython.com/beginners-guide-python-turtle/\n",
    "\n",
    "The 'undrawn turtle' class, that is defined below, has many of the same functions as the Turtle class. But we have included it here because it allows us to run the game 'headless' -- without drawing anything to screen -- to speed up evolution."
   ]
  },
  {
   "cell_type": "markdown",
   "metadata": {
    "id": "gjq5yuWUSJhF"
   },
   "source": [
    "# <span style=\"color:blue\">Pong implementation</span>"
   ]
  },
  {
   "cell_type": "code",
   "execution_count": 52,
   "metadata": {
    "ExecuteTime": {
     "end_time": "2024-03-15T17:14:42.301882Z",
     "start_time": "2024-03-15T17:14:42.299742Z"
    },
    "id": "I6qvx5VTSJhF"
   },
   "outputs": [],
   "source": [
    "from turtle import Turtle, Screen, Shape\n",
    "import random\n",
    "import math\n",
    "import numpy as np"
   ]
  },
  {
   "cell_type": "markdown",
   "metadata": {
    "id": "8Jw0R5LBSJhG"
   },
   "source": [
    "Custom class that we use for creating game agents ('turtles') without having to draw them to the screen, as we would if we used the Turtle class. It simply stores the x and y position of the agent/turtle, along with it's current angle (not used here) and x and y position in the previous timestep. It also has functions to move the agent."
   ]
  },
  {
   "cell_type": "code",
   "execution_count": 53,
   "metadata": {
    "ExecuteTime": {
     "end_time": "2024-03-15T17:14:42.326100Z",
     "start_time": "2024-03-15T17:14:42.322818Z"
    },
    "id": "-3GA6d4RSJhG"
   },
   "outputs": [],
   "source": [
    "class UndrawnTurtle:  # We use this to keep track of the turtles/agents without having to draw them\n",
    "    def __init__(self):\n",
    "        self.x, self.y, self.x_prev, self.y_prev, self.angle = 0.0, 0.0, 0.0, 0.0, 0.0\n",
    "\n",
    "    def position(self):\n",
    "        return self.x, self.y\n",
    "\n",
    "    def xcor(self):\n",
    "        return self.x\n",
    "\n",
    "    def ycor(self):\n",
    "        return self.y\n",
    "\n",
    "    def xcor_prev(self):\n",
    "        return self.x_prev\n",
    "\n",
    "    def ycor_prev(self):\n",
    "        self.y_prev = self.y\n",
    "        return self.y_prev\n",
    "\n",
    "    def setx(self, xcor):\n",
    "        self.x_prev = self.x\n",
    "        self.x = xcor\n",
    "\n",
    "    def sety(self, ycor):\n",
    "        self.y = ycor\n",
    "\n",
    "    def forward(self, distance):\n",
    "        angle_radians = math.radians(self.angle)\n",
    "        self.x_prev = self.x\n",
    "        self.y_prev = self.y\n",
    "        self.x += math.cos(angle_radians) * distance\n",
    "        self.y += math.sin(angle_radians) * distance\n",
    "\n",
    "    def backward(self, distance):\n",
    "        self.forward(-distance)\n",
    "\n",
    "    def right(self, angle):\n",
    "        self.angle -= angle\n",
    "\n",
    "    def left(self, angle):\n",
    "        self.angle += angle\n",
    "\n",
    "    def setpos(self, x, y=None):\n",
    "        # Can be passed either a tuple or two numbers\n",
    "        self.x_prev = self.x\n",
    "        self.y_prev = self.y\n",
    "        if y is None:\n",
    "            self.x = x[0]\n",
    "            self.y = y[1]\n",
    "        else:\n",
    "            self.x = x\n",
    "            self.y = y"
   ]
  },
  {
   "cell_type": "markdown",
   "metadata": {
    "id": "3ymc8t2lSJhG"
   },
   "source": [
    "# <span style=\"color:blue\">Class for drawing the game to the screen</span>"
   ]
  },
  {
   "cell_type": "markdown",
   "metadata": {
    "id": "Ad05isDuSJhH"
   },
   "source": [
    "This class uses the Turtle library to draw individuals to screen. This is used if we do not use the headless mode, and want to watch the game being played by our AI. **You do not need to understand this code block and can skip it for the purpose of the workshop.**"
   ]
  },
  {
   "cell_type": "code",
   "execution_count": 54,
   "metadata": {
    "ExecuteTime": {
     "end_time": "2024-03-15T17:14:42.340950Z",
     "start_time": "2024-03-15T17:14:42.335526Z"
    },
    "id": "ckflw2t4SJhH"
   },
   "outputs": [],
   "source": [
    "class DisplayGame:\n",
    "    def __init__(self, window_height, window_width, bat_w_half, bat_h_half):\n",
    "        # SCREEN\n",
    "        self.screen = Screen()\n",
    "        self.screen.setup(window_height, window_width)  # width, height\n",
    "        self.screen.tracer(0)  # We will handle displaying of frames ourselves\n",
    "\n",
    "        # PLAY ARENA\n",
    "        self.play_top = window_height / 2 - 80  # top of screen minus 100 units\n",
    "        self.play_bottom = -window_height / 2 + 80  # 100 from bottom\n",
    "        self.play_left = -window_width / 2 + 50  # 50 from left\n",
    "        self.play_right = window_width / 2 - 50  # 50 from right\n",
    "\n",
    "        self.area = Turtle()\n",
    "        self.area.hideturtle()\n",
    "\n",
    "        # batS\n",
    "        self.L = Turtle()\n",
    "        self.R = Turtle()\n",
    "        self.L.penup()\n",
    "        self.R.penup()\n",
    "\n",
    "        # bats shape\n",
    "        self.bat_shape = Shape(\"compound\")\n",
    "        self.bat_points = (\n",
    "            (-bat_h_half, -bat_w_half),\n",
    "            (-bat_h_half, bat_w_half),\n",
    "            (bat_h_half, bat_w_half),\n",
    "            (bat_h_half, -bat_w_half),\n",
    "        )\n",
    "        self.bat_shape.addcomponent(self.bat_points, \"blue\")\n",
    "        self.screen.register_shape(\"bat\", self.bat_shape)\n",
    "        self.L.shape(\"bat\")\n",
    "        self.R.shape(\"bat\")\n",
    "\n",
    "        # SCORE\n",
    "        self.score_turtle = Turtle()\n",
    "        self.score_turtle.penup()\n",
    "        self.score_turtle.hideturtle()\n",
    "\n",
    "        # BALL\n",
    "        self.ball = Turtle()\n",
    "        self.ball.penup()\n",
    "        self.ball.shape(\"circle\")  # Use the built-in shape \"circle\"\n",
    "        self.ball.color(\"blue\")\n",
    "        self.ball.shapesize(0.5, 0.5)  # Stretch it to half default size\n",
    "\n",
    "        self.reset()\n",
    "\n",
    "    def reset(self):\n",
    "        self.area.penup()\n",
    "        self.area.goto(self.play_right, self.play_top)\n",
    "        self.area.pendown()\n",
    "        self.area.goto(self.play_left, self.play_top)\n",
    "        self.area.goto(self.play_left, self.play_bottom)\n",
    "        self.area.goto(self.play_right, self.play_bottom)\n",
    "        self.area.goto(self.play_right, self.play_top)\n",
    "\n",
    "        # Move bats into position\n",
    "        self.L.setx(self.play_left + 10)\n",
    "        self.R.setx(self.play_right - 10)\n",
    "\n",
    "        self.update_score(0, 0)\n",
    "        self.screen.update()\n",
    "\n",
    "    def update_ball_position(self, ball_x_pos, ball_y_pos):\n",
    "        self.ball.setpos(ball_x_pos, ball_y_pos)\n",
    "\n",
    "    def update_L_bat_position(self, L_x_pos, L_y_pos):\n",
    "        self.L.setpos(L_x_pos, L_y_pos)\n",
    "\n",
    "    def update_R_bat_position(self, R_x_pos, R_y_pos):\n",
    "        self.R.setpos(R_x_pos, R_y_pos)\n",
    "\n",
    "    def update_score(self, L_score, R_score):\n",
    "        self.score_turtle.clear()\n",
    "        self.score_turtle.goto(\n",
    "            -self.screen.window_width() / 4, self.screen.window_height() / 2 - 40\n",
    "        )\n",
    "        self.score_turtle.write(L_score, align=\"center\", font=(\"Arial\", 32, \"bold\"))\n",
    "        self.score_turtle.goto(\n",
    "            self.screen.window_width() / 4, self.screen.window_height() / 2 - 40\n",
    "        )\n",
    "        self.score_turtle.write(R_score, align=\"center\", font=(\"Arial\", 32, \"bold\"))"
   ]
  },
  {
   "cell_type": "markdown",
   "metadata": {
    "id": "S56pvBCPSJhH"
   },
   "source": [
    "# <span style=\"color:blue\">This is the class containing all the game code</span>"
   ]
  },
  {
   "cell_type": "markdown",
   "metadata": {
    "id": "6xbmV1IoSJhI"
   },
   "source": [
    "This is the code for how the basic Pong game works. Have a quick look over it so that you understand the general process. The very last function (**R_move_AI**) is where you pass and run your neural network for controlling the bat on the right. The left bat already has hard-coded AI."
   ]
  },
  {
   "cell_type": "code",
   "execution_count": 55,
   "metadata": {
    "ExecuteTime": {
     "end_time": "2024-03-15T17:14:42.349380Z",
     "start_time": "2024-03-15T17:14:42.341717Z"
    },
    "id": "vLhiMRj_SJhI",
    "outputId": "54a72cca-89c3-446d-ac69-417300944b1c"
   },
   "outputs": [],
   "source": [
    "class Pong:\n",
    "    def __init__(self):\n",
    "        self.window_height = 600\n",
    "        self.window_width = 550\n",
    "\n",
    "        # PLAY ARENA\n",
    "        self.play_top = self.window_height / 2 - 80  # top of screen minus 100 units\n",
    "        self.play_bottom = -self.window_height / 2 + 80  # 100 from bottom\n",
    "        self.play_left = -self.window_width / 2 + 50  # 50 from left\n",
    "        self.play_right = self.window_width / 2 - 50  # 50 from right\n",
    "\n",
    "        self.area = UndrawnTurtle()\n",
    "\n",
    "        # batS\n",
    "        self.L = UndrawnTurtle()\n",
    "        self.R = UndrawnTurtle()\n",
    "\n",
    "        # bat size\n",
    "        self.bat_w_half = 5\n",
    "        self.bat_h_half = 35\n",
    "\n",
    "        # BALL\n",
    "        self.ball = UndrawnTurtle()\n",
    "        self.ball_radius = 10 * 0.5\n",
    "\n",
    "        self.ball_move_horiz = 0  # current x speed\n",
    "        self.ball_move_vert = 0  # current y speed\n",
    "        self.slow_ball_speed = 3\n",
    "        self.fast_ball_speed = self.slow_ball_speed * 2\n",
    "\n",
    "        self.ball_speed = self.slow_ball_speed\n",
    "        self.maxBounceAngleRadians = 1.04  # ~60 degrees\n",
    "\n",
    "        self.reset()\n",
    "\n",
    "    def reset(self):\n",
    "        # Move bats into position\n",
    "        self.L.setx(self.play_left + 10)\n",
    "        self.R.setx(self.play_right - 10)\n",
    "\n",
    "        self.bat_L_move_direction = 0  # L bat movement direction in next frame\n",
    "        self.bat_R_move_direction = 0  # R bat movement direction in next frame\n",
    "\n",
    "        self.bat_move_vert = 5\n",
    "\n",
    "        self.score_L = 0\n",
    "        self.score_R = 0\n",
    "\n",
    "        # if random.random() > 0.5:\n",
    "        #     self.direction_horiz = 1\n",
    "        # else:\n",
    "        #     self.direction_horiz = -1\n",
    "\n",
    "        self.direction_horiz = (\n",
    "            1  # Try to fix the starting direction to make games more repeatable\n",
    "        )\n",
    "        self.start_ball_direction = self.direction_horiz\n",
    "\n",
    "        self.reset_ball()\n",
    "\n",
    "    def bat_is_allowed_to_move_here(self, new_y_pos):\n",
    "        if self.play_bottom > new_y_pos - self.bat_h_half:\n",
    "            return False\n",
    "        if new_y_pos + self.bat_h_half > self.play_top:\n",
    "            return False\n",
    "        return True\n",
    "\n",
    "    def update_bat_positions(self):\n",
    "        L_new_y_pos = self.L.ycor() + (self.bat_L_move_direction * self.bat_move_vert)\n",
    "        R_new_y_pos = self.R.ycor() + (self.bat_R_move_direction * self.bat_move_vert)\n",
    "        if self.bat_is_allowed_to_move_here(L_new_y_pos):\n",
    "            self.L.sety(L_new_y_pos)\n",
    "        if self.bat_is_allowed_to_move_here(R_new_y_pos):\n",
    "            self.R.sety(R_new_y_pos)\n",
    "\n",
    "    def L_up(self):\n",
    "        self.bat_L_move_direction = 1\n",
    "\n",
    "    def L_down(self):\n",
    "        self.bat_L_move_direction = -1\n",
    "\n",
    "    def L_off(self):\n",
    "        self.bat_L_move_direction = 0\n",
    "\n",
    "    def R_up(self):\n",
    "        self.bat_R_move_direction = 1\n",
    "\n",
    "    def R_down(self):\n",
    "        self.bat_R_move_direction = -1\n",
    "\n",
    "    def R_off(self):\n",
    "        self.bat_R_move_direction = 0\n",
    "\n",
    "    def check_if_someone_scores(self):\n",
    "        if (self.ball.xcor() + self.ball_radius) >= self.play_right:\n",
    "            self.score_L += 1\n",
    "            self.reset_ball()\n",
    "            return True\n",
    "        elif self.play_left >= (self.ball.xcor() - self.ball_radius):\n",
    "            self.score_R += 1\n",
    "            self.reset_ball()\n",
    "            return True\n",
    "        else:\n",
    "            return False\n",
    "\n",
    "    def ball_collides_with_bat(self, bat):\n",
    "        self.ball_speed = (\n",
    "            self.fast_ball_speed\n",
    "        )  # Set it to full speed after the first hit\n",
    "        x_distance = abs(bat.xcor() - self.ball.xcor())\n",
    "        y_distance = abs(bat.ycor() - self.ball.ycor())\n",
    "        overlap_horizontally = self.ball_radius + self.bat_w_half >= x_distance\n",
    "        overlap_vertically = self.ball_radius + self.bat_h_half >= y_distance\n",
    "        return overlap_horizontally and overlap_vertically\n",
    "\n",
    "    def update_ball_position(self):\n",
    "        if (self.ball.ycor() + self.ball_radius > self.play_top) and (\n",
    "            self.ball_move_vert > 0\n",
    "        ):\n",
    "            self.ball_move_vert *= -1\n",
    "        elif (self.play_bottom > self.ball.ycor() - self.ball_radius) and (\n",
    "            self.ball_move_vert < 0\n",
    "        ):\n",
    "            self.ball_move_vert *= -1\n",
    "\n",
    "        if self.ball_collides_with_bat(self.L) and self.ball_move_horiz < 0:\n",
    "            relativeIntersectY = self.ball.ycor() - self.L.ycor()\n",
    "            normalizedRelativeIntersectionY = relativeIntersectY / self.bat_h_half\n",
    "            bounceAngle = normalizedRelativeIntersectionY * self.maxBounceAngleRadians\n",
    "            self.ball_move_vert = self.ball_speed * math.sin(bounceAngle)\n",
    "            self.ball_move_horiz = self.ball_speed * math.cos(bounceAngle)\n",
    "        elif self.ball_collides_with_bat(self.R) and self.ball_move_horiz > 0:\n",
    "            relativeIntersectY = self.ball.ycor() - self.R.ycor()\n",
    "            normalizedRelativeIntersectionY = relativeIntersectY / self.bat_h_half\n",
    "            bounceAngle = normalizedRelativeIntersectionY * self.maxBounceAngleRadians\n",
    "            self.ball_move_vert = self.ball_speed * math.sin(bounceAngle)\n",
    "            self.ball_move_horiz = self.ball_speed * -math.cos(bounceAngle)\n",
    "\n",
    "        self.ball.setx(self.ball.xcor() + self.ball_move_horiz)\n",
    "        self.ball.sety(self.ball.ycor() + self.ball_move_vert)\n",
    "\n",
    "    def reset_ball(self):\n",
    "        self.ball_speed = self.slow_ball_speed\n",
    "\n",
    "        if self.start_ball_direction == 1:\n",
    "            self.direction_horiz = -1\n",
    "            self.start_ball_direction = -1\n",
    "            self.ball.setpos(\n",
    "                (self.window_width / 2) - 100, (self.window_height / 2) - 50\n",
    "            )\n",
    "        else:\n",
    "            self.direction_horiz = 1\n",
    "            self.start_ball_direction = 1\n",
    "            self.ball.setpos(\n",
    "                (-self.window_width / 2) + 100, (self.window_height / 2) - 50\n",
    "            )\n",
    "\n",
    "        bounceAngle = random.uniform(0.2, self.maxBounceAngleRadians)\n",
    "\n",
    "        self.ball_move_vert = self.ball_speed * math.sin(bounceAngle)\n",
    "        self.ball_move_horiz = self.ball_speed * (\n",
    "            self.direction_horiz * math.cos(bounceAngle)\n",
    "        )\n",
    "\n",
    "    def L_move_AI(self):  # Simple AI for moving the left bat\n",
    "        if self.ball.xcor() < 60:\n",
    "            if self.L.ycor() < (self.ball.ycor() - 40):\n",
    "                self.bat_L_move_direction = 1\n",
    "            elif self.L.ycor() > (self.ball.ycor() + 40):\n",
    "                self.bat_L_move_direction = -1\n",
    "            else:\n",
    "                self.bat_L_move_direction = 0\n",
    "\n",
    "    #    def R_move_AI(self): # Simple AI for moving the right bat\n",
    "    #        if self.ball.xcor() > -60:\n",
    "    #            if self.R.ycor() < (self.ball.ycor() -35 ):\n",
    "    #                self.bat_R_move_direction = 1\n",
    "    #            elif self.R.ycor() > (self.ball.ycor() + 35 ):\n",
    "    #                self.bat_R_move_direction = -1\n",
    "    #            else:\n",
    "    #                self.bat_R_move_direction = 0\n",
    "\n",
    "    def R_move_AI(self, AIbrain):\n",
    "        next_move = AIbrain.feedForward(\n",
    "            [\n",
    "                abs(self.ball.x_prev - self.ball.xcor()),\n",
    "                abs(self.ball.y_prev - self.ball.ycor()),\n",
    "                self.ball.ycor(),\n",
    "                self.ball.xcor(),\n",
    "                self.L.ycor(),\n",
    "            ]\n",
    "        )\n",
    "        next_move = np.array(next_move)\n",
    "        next_move = np.argmax(next_move, axis=0)\n",
    "        match next_move:\n",
    "            case 0:\n",
    "                self.bat_R_move_direction = 1\n",
    "            case 1:\n",
    "                self.bat_R_move_direction = -1\n",
    "            case 2:\n",
    "                self.bat_R_move_direction = 0"
   ]
  },
  {
   "cell_type": "markdown",
   "metadata": {
    "id": "2EOznE8zSJhJ"
   },
   "source": [
    "The function below is responsible for setting up and running through and entire game (e.g. an **evaluation**).  This function returns the values that you will use for your **fitness** (i.e. the result of a run of the game). I have set it here to be the difference between our score and the opponent's score. This is so that our bat pays a solid defence and attack game. But you might want to change this. You could make this just the score of our bat for a more offensive game, or use genuinely multi-objective optimization, where you maximize our bat's score and minimize the opponent's score.\n",
    "\n",
    "Note: This Pong implementation uses Python's native Turtles package for displaying the game. However, this is only used if you call the game with Headless=False. It would be very slow to run evolutionary evaluations with the screen showing, so use Headless=True for evolving, and Headless = False for displaying your best evolved solution."
   ]
  },
  {
   "cell_type": "markdown",
   "metadata": {
    "id": "qi7G-q5zSJhJ"
   },
   "source": [
    "Note 2: If you want to see the game working before coding your EA then you could uncomment the code for the right back 'R_move_AI' and run playgame with 'headless=True'."
   ]
  },
  {
   "cell_type": "code",
   "execution_count": 56,
   "metadata": {
    "ExecuteTime": {
     "end_time": "2024-03-15T17:14:42.352420Z",
     "start_time": "2024-03-15T17:14:42.350186Z"
    },
    "id": "utpUgM__SJhK"
   },
   "outputs": [],
   "source": [
    "def playGame(\n",
    "    PongGame: Pong, AIbrain, headless=False, maxTimesteps=1000\n",
    "):  # Pass your evolved AI in to here\n",
    "    PongGame.reset()\n",
    "    timesteps = 0\n",
    "    if not headless:\n",
    "        pongDisplay = DisplayGame(\n",
    "            pongGame.window_height,\n",
    "            pongGame.window_width,\n",
    "            pongGame.bat_w_half,\n",
    "            pongGame.bat_h_half,\n",
    "        )\n",
    "\n",
    "    for timesteps in range(maxTimesteps):\n",
    "        pongGame.L_move_AI()\n",
    "        pongGame.R_move_AI(AIbrain)\n",
    "        pongGame.update_bat_positions()\n",
    "        pongGame.update_ball_position()\n",
    "        score_changed = pongGame.check_if_someone_scores()\n",
    "\n",
    "        # Let your algorithm decide on its move here (the options are L.up, L.down, or L.off)\n",
    "        if not headless:\n",
    "            pongDisplay.update_ball_position(pongGame.ball.xcor(), pongGame.ball.ycor())\n",
    "            pongDisplay.update_L_bat_position(pongGame.L.xcor(), pongGame.L.ycor())\n",
    "            pongDisplay.update_R_bat_position(pongGame.R.xcor(), pongGame.R.ycor())\n",
    "            if score_changed:\n",
    "                pongDisplay.update_score(pongGame.score_L, pongGame.score_R)\n",
    "            pongDisplay.screen.update()\n",
    "    return (pongGame.score_R - pongGame.score_L,)"
   ]
  },
  {
   "cell_type": "markdown",
   "metadata": {
    "id": "PLicZJH5SJhK"
   },
   "source": [
    "# <span style=\"color:blue\">Neural network code</span>"
   ]
  },
  {
   "cell_type": "markdown",
   "metadata": {
    "id": "YghI1zI1SJhK"
   },
   "source": [
    "The code below defines a simple MLP with two hard-coded hidden layers. Here, only the first hidden layer receives biases. We have seen this code before in Part A and in the walkthrough. Feel free to change this (or use Tensorflow)."
   ]
  },
  {
   "cell_type": "code",
   "execution_count": 57,
   "metadata": {
    "ExecuteTime": {
     "end_time": "2024-03-15T17:14:42.356965Z",
     "start_time": "2024-03-15T17:14:42.352915Z"
    },
    "id": "lFU88R_jSJhK"
   },
   "outputs": [],
   "source": [
    "class MLP(object):\n",
    "    def __init__(self, numInput, numHidden1, numHidden2, numOutput):\n",
    "        self.fitness = 0\n",
    "        self.numInput = numInput + 1  # Add bias node from input to hidden layer 1 only\n",
    "        self.numHidden1 = (\n",
    "            numHidden1  # Feel free to adapt the code to add more biases if you wish\n",
    "        )\n",
    "        self.numHidden2 = numHidden2\n",
    "        self.numOutput = numOutput\n",
    "\n",
    "        self.w_i_h1 = np.random.randn(self.numHidden1, self.numInput)\n",
    "        self.w_h1_h2 = np.random.randn(self.numHidden2, self.numHidden1)\n",
    "        self.w_h2_o = np.random.randn(self.numOutput, self.numHidden2)\n",
    "\n",
    "        self.ReLU = lambda x: max(0, x)\n",
    "\n",
    "    def softmax(self, x):\n",
    "        e_x = np.exp(x - np.max(x))\n",
    "        return e_x / e_x.sum()\n",
    "\n",
    "    def sigmoid(self, x):\n",
    "        try:\n",
    "            ans = 1 / (1 + math.exp(-x))\n",
    "        except OverflowError:\n",
    "            ans = float(\"inf\")\n",
    "        return ans\n",
    "\n",
    "    def feedForward(self, inputs):\n",
    "        inputsBias = inputs[:]\n",
    "        inputsBias.insert(len(inputs), 1)  # Add bias input\n",
    "\n",
    "        h1 = np.dot(self.w_i_h1, inputsBias)  # feed input to hidden layer 1\n",
    "        h1 = [self.ReLU(x) for x in h1]  # Activate hidden layer1\n",
    "\n",
    "        h2 = np.dot(self.w_h1_h2, h1)  # feed layer 1 to hidden layer 2\n",
    "        h2 = [self.ReLU(x) for x in h2]  # Activate hidden layer 2\n",
    "\n",
    "        output = np.dot(self.w_h2_o, h2)  # feed to output layer\n",
    "        # output = [self.sigmoid(x) for x in output]   # Activate output layer\n",
    "        return self.softmax(output)\n",
    "\n",
    "    def getWeightsLinear(self):\n",
    "        flat_w_i_h1 = list(self.w_i_h1.flatten())\n",
    "        flat_w_h1_h2 = list(self.w_h1_h2.flatten())\n",
    "        flat_w_h2_o = list(self.w_h2_o.flatten())\n",
    "        return flat_w_i_h1 + flat_w_h1_h2 + flat_w_h2_o\n",
    "\n",
    "    def setWeightsLinear(self, Wgenome):\n",
    "        numWeights_I_H1 = self.numHidden1 * self.numInput\n",
    "        numWeights_H1_H2 = self.numHidden2 * self.numHidden1\n",
    "        numWeights_H2_O = self.numOutput * self.numHidden2  # noqa F841\n",
    "\n",
    "        self.w_i_h1 = np.array(Wgenome[:numWeights_I_H1])\n",
    "        self.w_i_h1 = self.w_i_h1.reshape((self.numHidden1, self.numInput))\n",
    "\n",
    "        self.w_h1_h2 = np.array(\n",
    "            Wgenome[numWeights_I_H1 : (numWeights_H1_H2 + numWeights_I_H1)]\n",
    "        )\n",
    "        self.w_h1_h2 = self.w_h1_h2.reshape((self.numHidden2, self.numHidden1))\n",
    "\n",
    "        self.w_h2_o = np.array(Wgenome[(numWeights_H1_H2 + numWeights_I_H1) :])\n",
    "        self.w_h2_o = self.w_h2_o.reshape((self.numOutput, self.numHidden2))"
   ]
  },
  {
   "cell_type": "markdown",
   "metadata": {
    "id": "fLH_qe66SJhK"
   },
   "source": [
    "# <span style=\"color:blue\">Your genetic algorithm should go here</span>"
   ]
  },
  {
   "cell_type": "markdown",
   "metadata": {
    "id": "Erw8mhdSSJhK"
   },
   "source": [
    "Add your GA here. I've got you started below."
   ]
  },
  {
   "cell_type": "code",
   "execution_count": 58,
   "metadata": {
    "ExecuteTime": {
     "end_time": "2024-03-15T17:14:42.359389Z",
     "start_time": "2024-03-15T17:14:42.357914Z"
    },
    "id": "ZsjzUCTrSJhL"
   },
   "outputs": [],
   "source": [
    "from deap import base\n",
    "from deap import creator\n",
    "from deap import tools"
   ]
  },
  {
   "cell_type": "code",
   "execution_count": 59,
   "metadata": {
    "ExecuteTime": {
     "end_time": "2024-03-15T17:14:42.361640Z",
     "start_time": "2024-03-15T17:14:42.359909Z"
    },
    "id": "SA-rbyoISJhL"
   },
   "outputs": [],
   "source": [
    "random.seed()  # Set a random seed from the clock\n",
    "\n",
    "numInputNodes = 5\n",
    "numHiddenNodes1 = 64\n",
    "numHiddenNodes2 = 23\n",
    "numOutputNodes = 3\n",
    "\n",
    "IND_SIZE = (\n",
    "    ((numInputNodes + 1) * numHiddenNodes1)\n",
    "    + (numHiddenNodes1 * numHiddenNodes2)\n",
    "    + (numHiddenNodes2 * numOutputNodes)\n",
    ")"
   ]
  },
  {
   "cell_type": "code",
   "execution_count": 60,
   "metadata": {
    "ExecuteTime": {
     "end_time": "2024-03-15T17:14:42.363711Z",
     "start_time": "2024-03-15T17:14:42.362212Z"
    },
    "id": "9rZVzrm2SJhL"
   },
   "outputs": [],
   "source": [
    "myNet = MLP(numInputNodes, numHiddenNodes1, numHiddenNodes2, numOutputNodes)"
   ]
  },
  {
   "cell_type": "code",
   "execution_count": 61,
   "metadata": {
    "ExecuteTime": {
     "end_time": "2024-03-15T17:14:42.365451Z",
     "start_time": "2024-03-15T17:14:42.364104Z"
    },
    "id": "S9WniFrVSJhL"
   },
   "outputs": [],
   "source": [
    "pongGame = Pong()"
   ]
  },
  {
   "cell_type": "code",
   "execution_count": 63,
   "metadata": {
    "ExecuteTime": {
     "end_time": "2024-03-15T17:22:14.475730Z",
     "start_time": "2024-03-15T17:16:11.762470Z"
    },
    "id": "wm1oVpfrSJhL"
   },
   "outputs": [
    {
     "name": "stdout",
     "output_type": "stream",
     "text": [
      "avg     \tgen\tmax\tmin\tstd    \n",
      "-2.77333\t0  \t0  \t-4 \t1.13811\n",
      "-2.7    \t1  \t1  \t-4 \t1.11803\n",
      "-2.66667\t2  \t0  \t-4 \t1.12349\n",
      "-2.60667\t3  \t0  \t-4 \t1.19385\n",
      "-2.66667\t4  \t0  \t-4 \t1.2037 \n",
      "-2.7    \t5  \t2  \t-4 \t1.21518\n",
      "-2.54   \t6  \t2  \t-4 \t1.27347\n",
      "-2.45333\t7  \t1  \t-4 \t1.13482\n",
      "-2.77333\t8  \t2  \t-4 \t1.07174\n",
      "-2.64667\t9  \t1  \t-4 \t1.14389\n",
      "-2.58667\t10 \t0  \t-4 \t1.09658\n",
      "-2.6    \t11 \t2  \t-4 \t1.13725\n",
      "-2.56   \t12 \t0  \t-4 \t1.06132\n",
      "-2.56   \t13 \t2  \t-4 \t1.17462\n",
      "-2.4    \t14 \t2  \t-4 \t1.21106\n",
      "-2.51333\t15 \t2  \t-4 \t1.26352\n",
      "-2.4    \t16 \t2  \t-4 \t1.20554\n",
      "-2.49333\t17 \t0  \t-4 \t1.21516\n",
      "-2.48667\t18 \t2  \t-4 \t1.33535\n",
      "-2.51333\t19 \t0  \t-4 \t1.16468\n",
      "-2.42   \t20 \t0  \t-4 \t1.19594\n",
      "-2.48   \t21 \t2  \t-4 \t1.26343\n",
      "-2.56667\t22 \t1  \t-4 \t1.16285\n",
      "-2.44   \t23 \t2  \t-4 \t1.26744\n",
      "-2.32667\t24 \t2  \t-4 \t1.21927\n",
      "-2.48   \t25 \t1  \t-4 \t1.22049\n",
      "-2.15333\t26 \t2  \t-4 \t1.39397\n",
      "-2.09333\t27 \t1  \t-4 \t1.29278\n",
      "-2.25333\t28 \t1  \t-4 \t1.20657\n",
      "-2.2    \t29 \t2  \t-4 \t1.37113\n",
      "-2.16   \t30 \t1  \t-5 \t1.35194\n",
      "-2.09333\t31 \t1  \t-4 \t1.37282\n",
      "-2.32667\t32 \t2  \t-4 \t1.23557\n",
      "-2.27333\t33 \t1  \t-4 \t1.19943\n",
      "-2.36   \t34 \t1  \t-4 \t1.26111\n",
      "-2.05333\t35 \t2  \t-4 \t1.45046\n",
      "-2.54   \t36 \t2  \t-4 \t1.19794\n",
      "-2.34667\t37 \t2  \t-4 \t1.40943\n",
      "-2.19333\t38 \t1  \t-4 \t1.20939\n",
      "-2.45333\t39 \t1  \t-5 \t1.268  \n",
      "-2.52667\t40 \t1  \t-4 \t1.17585\n",
      "-2.42   \t41 \t0  \t-4 \t1.31793\n",
      "-2.39333\t42 \t1  \t-4 \t1.15987\n",
      "-2.42667\t43 \t1  \t-4 \t1.29278\n",
      "-2.44   \t44 \t1  \t-4 \t1.25687\n",
      "-2.64667\t45 \t0  \t-4 \t1.19519\n",
      "-2.65333\t46 \t2  \t-4 \t1.16038\n",
      "-2.52   \t47 \t2  \t-5 \t1.2687 \n",
      "-2.32   \t48 \t1  \t-4 \t1.25603\n",
      "-2.17333\t49 \t2  \t-5 \t1.29998\n",
      "-2.35333\t50 \t1  \t-4 \t1.32734\n",
      "-2.32   \t51 \t1  \t-4 \t1.23461\n",
      "-2.36667\t52 \t1  \t-4 \t1.10403\n",
      "-2.11333\t53 \t2  \t-4 \t1.38822\n",
      "-2.09333\t54 \t2  \t-4 \t1.30816\n",
      "-2.1    \t55 \t1  \t-4 \t1.23693\n",
      "-2.29333\t56 \t1  \t-4 \t1.27826\n",
      "-2.37333\t57 \t0  \t-5 \t1.1636 \n",
      "-2.28667\t58 \t1  \t-4 \t1.34331\n",
      "-1.85333\t59 \t1  \t-4 \t1.36326\n",
      "-2.18   \t60 \t1  \t-4 \t1.34199\n",
      "-1.96667\t61 \t1  \t-4 \t1.38283\n",
      "-2.20667\t62 \t2  \t-4 \t1.31806\n",
      "-2.48667\t63 \t0  \t-4 \t1.17608\n",
      "-2.35333\t64 \t1  \t-4 \t1.30709\n",
      "-2.22   \t65 \t1  \t-4 \t1.19928\n",
      "-2.04667\t66 \t2  \t-4 \t1.45298\n",
      "-2.11333\t67 \t2  \t-4 \t1.364  \n",
      "-2.11333\t68 \t1  \t-4 \t1.37858\n",
      "-2.10667\t69 \t2  \t-5 \t1.29175\n",
      "-2.12   \t70 \t1  \t-4 \t1.40911\n",
      "-2.15333\t71 \t1  \t-5 \t1.31015\n",
      "-2.12667\t72 \t2  \t-4 \t1.353  \n",
      "-2.07333\t73 \t1  \t-4 \t1.4334 \n",
      "-1.94667\t74 \t1  \t-4 \t1.22086\n",
      "-2.17333\t75 \t1  \t-4 \t1.25829\n",
      "-2.17333\t76 \t1  \t-4 \t1.24229\n",
      "-2.22   \t77 \t1  \t-4 \t1.27473\n",
      "-2.45333\t78 \t2  \t-4 \t1.33959\n",
      "-2.58   \t79 \t1  \t-4 \t1.19594\n",
      "-2.16   \t80 \t1  \t-4 \t1.30169\n",
      "-2.34667\t81 \t0  \t-5 \t1.13717\n",
      "-2.4    \t82 \t1  \t-4 \t1.26491\n",
      "-2.4    \t83 \t2  \t-4 \t1.28582\n",
      "-2.3    \t84 \t2  \t-4 \t1.29486\n",
      "-2.14   \t85 \t2  \t-4 \t1.32177\n",
      "-1.87333\t86 \t2  \t-4 \t1.353  \n",
      "-2.09333\t87 \t1  \t-4 \t1.29278\n",
      "-2.23333\t88 \t1  \t-4 \t1.30852\n",
      "-2.26667\t89 \t1  \t-4 \t1.26315\n",
      "-2.25333\t90 \t1  \t-4 \t1.34257\n",
      "-2.14667\t91 \t2  \t-5 \t1.33859\n",
      "-2.14   \t92 \t1  \t-4 \t1.36641\n",
      "-2.18667\t93 \t2  \t-4 \t1.31852\n",
      "-1.86   \t94 \t2  \t-4 \t1.46073\n",
      "-1.90667\t95 \t2  \t-4 \t1.34336\n",
      "-1.90667\t96 \t2  \t-4 \t1.3334 \n",
      "-2.12   \t97 \t2  \t-4 \t1.24857\n",
      "-2.06   \t98 \t2  \t-4 \t1.22327\n",
      "-2.06   \t99 \t2  \t-4 \t1.40584\n"
     ]
    }
   ],
   "source": [
    "creator.create(\"FitnessMax\", base.Fitness, weights=(1.0,))\n",
    "creator.create(\"Individual\", list, fitness=creator.FitnessMax)\n",
    "\n",
    "toolbox = base.Toolbox()\n",
    "toolbox.register(\"attr_float\", random.uniform, -1.0, 1.0)\n",
    "toolbox.register(\n",
    "    \"individual\", tools.initRepeat, creator.Individual, toolbox.attr_float, n=IND_SIZE\n",
    ")\n",
    "toolbox.register(\"population\", tools.initRepeat, list, toolbox.individual)\n",
    "\n",
    "\n",
    "def evaluate(indiv, myNet: MLP, pong_game: Pong):\n",
    "    myNet.setWeightsLinear(indiv)\n",
    "    return playGame(pong_game, myNet, headless=True)\n",
    "\n",
    "\n",
    "pop = toolbox.population(n=150)\n",
    "\n",
    "toolbox.register(\"evaluate\", evaluate)\n",
    "toolbox.register(\"select\", tools.selTournament, tournsize=len(pop))\n",
    "\n",
    "toolbox.register(\"mutate\", tools.mutGaussian, mu=0.0, sigma=0.5, indpb=0.12)\n",
    "\n",
    "# hof = tools.ParetoFront(similar=lambda ind1, ind2 : np.allclose(ind1.fitness.values, ind2.fitness.values))\n",
    "stats = tools.Statistics(key=lambda ind: ind.fitness.values)\n",
    "stats.register(\"avg\", np.mean)\n",
    "stats.register(\"std\", np.std)\n",
    "stats.register(\"min\", np.min)\n",
    "stats.register(\"max\", np.max)\n",
    "logbook = tools.Logbook()\n",
    "\n",
    "\n",
    "fitnesses = [toolbox.evaluate(indiv, myNet, pongGame) for indiv in pop]\n",
    "for ind, fit in zip(pop, fitnesses):\n",
    "    ind.fitness.values = fit\n",
    "NGEN = 100\n",
    "\n",
    "for g in range(NGEN):\n",
    "    offspring = toolbox.select(pop, len(pop))\n",
    "    offspring = list(map(toolbox.clone, offspring))\n",
    "\n",
    "    for mutant in offspring:\n",
    "        toolbox.mutate(mutant)\n",
    "        del mutant.fitness.values\n",
    "\n",
    "    invalid_ind = [ind for ind in offspring if not ind.fitness.valid]\n",
    "    fitnesses = [toolbox.evaluate(indiv, myNet, pongGame) for indiv in invalid_ind]\n",
    "    for ind, fit in zip(invalid_ind, fitnesses):\n",
    "        ind.fitness.values = fit\n",
    "\n",
    "    pop[:] = offspring\n",
    "    record = stats.compile(pop)\n",
    "    # hof.update(pop)\n",
    "    logbook.record(gen=g, **record)\n",
    "    print(logbook.stream)"
   ]
  },
  {
   "cell_type": "markdown",
   "metadata": {
    "id": "pjmtL1hJSJhL"
   },
   "source": [
    "Note: it might be a good idea to save your population using pickle, so that you can pick up evolution later from the end-point of your current population (see the DEAP webpage, plus info on Python's Pickle package)."
   ]
  },
  {
   "cell_type": "code",
   "execution_count": 64,
   "metadata": {
    "ExecuteTime": {
     "end_time": "2024-03-15T17:22:38.823667Z",
     "start_time": "2024-03-15T17:22:38.743530Z"
    },
    "id": "aolbyHGJSJhL"
   },
   "outputs": [
    {
     "data": {
      "text/plain": "<matplotlib.legend.Legend at 0x135c2a0c0>"
     },
     "execution_count": 64,
     "metadata": {},
     "output_type": "execute_result"
    },
    {
     "data": {
      "image/png": "[encoded data removed]",
      "text/plain": "<Figure size 640x480 with 1 Axes>"
     },
     "metadata": {},
     "output_type": "display_data"
    }
   ],
   "source": [
    "import matplotlib.pyplot as plt\n",
    "\n",
    "logbook.header = \"gen\", \"avg\", \"evals\", \"std\", \"min\", \"max\"\n",
    "\n",
    "%matplotlib inline\n",
    "gen = logbook.select(\"gen\")\n",
    "avgs = logbook.select(\"avg\")\n",
    "stds = logbook.select(\"std\")\n",
    "fig, ax1 = plt.subplots()\n",
    "opp = ax1.plot([item for item in avgs], label=\"Mean score difference\")\n",
    "ax1.set_xlabel(\"Generation\")\n",
    "plt.legend()"
   ]
  },
  {
   "cell_type": "code",
   "execution_count": 71,
   "metadata": {
    "ExecuteTime": {
     "end_time": "2024-03-15T17:23:30.793504Z",
     "start_time": "2024-03-15T17:23:22.290027Z"
    },
    "collapsed": false
   },
   "outputs": [
    {
     "data": {
      "text/plain": "(-2,)"
     },
     "execution_count": 71,
     "metadata": {},
     "output_type": "execute_result"
    }
   ],
   "source": [
    "best_ind = tools.selBest(pop, 1)[0]  # hof.items[0]\n",
    "myNet.setWeightsLinear(best_ind)\n",
    "playGame(pongGame, myNet, headless=False)"
   ]
  }
 ],
 "metadata": {
  "colab": {
   "provenance": []
  },
  "kernelspec": {
   "display_name": "Python 3 (ipykernel)",
   "language": "python",
   "name": "python3"
  },
  "language_info": {
   "codemirror_mode": {
    "name": "ipython",
    "version": 3
   },
   "file_extension": ".py",
   "mimetype": "text/x-python",
   "name": "python",
   "nbconvert_exporter": "python",
   "pygments_lexer": "ipython3",
   "version": "3.8.3"
  }
 },
 "nbformat": 4,
 "nbformat_minor": 0
}
