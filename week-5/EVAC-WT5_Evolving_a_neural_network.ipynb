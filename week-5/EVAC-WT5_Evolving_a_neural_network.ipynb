{
 "cells": [
  {
   "cell_type": "markdown",
   "metadata": {},
   "source": [
    "# Walkthrough: Basic neuroevolution\n",
    "\n",
    "In this walkthrough we demonstrate how to evolve weights of a simple MLP neural network. The problem that we will use to demonstrate this is a Python implementation of the legendary mobile game Flappy bird.\n",
    "\n",
    "<img src=\"flappyBird.jpg\" alt=\"Flappy Bird\" width=450>"
   ]
  },
  {
   "cell_type": "markdown",
   "metadata": {},
   "source": [
    "# Defining a simple neural network\n",
    "\n",
    "<img src=\"MLP.jpg\" alt=\"MLP\" width=400>\n",
    "\n",
    "There are packages out there dedicated to producing neural networks, such as Tensorflow and Pytorch. However, for simplicity we will implement our own basic MLP, fully-connected and hard-coded with two hidden layers. For simplicity, I've also only added a single bias to the first hidden layer, but normally you'd have these for each layer.\n",
    "\n",
    "Let's start by defining a class for our network:"
   ]
  },
  {
   "cell_type": "code",
   "execution_count": 1,
   "metadata": {
    "ExecuteTime": {
     "end_time": "2024-03-04T18:29:23.698474Z",
     "start_time": "2024-03-04T18:29:23.657040Z"
    }
   },
   "outputs": [],
   "source": [
    "import numpy as np\n",
    "import math\n",
    "\n",
    "\n",
    "class MLP(object):\n",
    "    def __init__(self, numInput, numHidden1, numHidden2, numOutput):\n",
    "        self.fitness = 0\n",
    "        self.numInput = numInput + 1  # Add bias node from input to hidden layer 1 only\n",
    "        self.numHidden1 = (\n",
    "            numHidden1  # Feel free to adapt the code to add more biases if you wish\n",
    "        )\n",
    "        self.numHidden2 = numHidden2\n",
    "        self.numOutput = numOutput\n",
    "\n",
    "        self.w_i_h1 = np.random.randn(self.numHidden1, self.numInput)\n",
    "        self.w_h1_h2 = np.random.randn(self.numHidden2, self.numHidden1)\n",
    "        self.w_h2_o = np.random.randn(self.numOutput, self.numHidden2)\n",
    "\n",
    "        self.ReLU = lambda x: max(0, x)\n",
    "\n",
    "    def sigmoid(self, x):\n",
    "        try:\n",
    "            ans = 1 / (1 + math.exp(-x))\n",
    "        except OverflowError:\n",
    "            ans = float(\"inf\")\n",
    "        return ans"
   ]
  },
  {
   "cell_type": "markdown",
   "metadata": {},
   "source": [
    "First we define the feedforward function of our network. To do this, we simply take the dot product of the input array and the weights from that input to the next layer of nodes. We then run those weighted sums through the ReLU function in the hidden layer, and the sigmoid in the last layer. This makes it similar to a non-linear regression problem."
   ]
  },
  {
   "cell_type": "code",
   "execution_count": 2,
   "metadata": {
    "ExecuteTime": {
     "end_time": "2024-03-04T18:29:23.707234Z",
     "start_time": "2024-03-04T18:29:23.701631Z"
    }
   },
   "outputs": [],
   "source": [
    "class MLP(MLP):\n",
    "    def feedForward(self, inputs):\n",
    "        inputsBias = inputs[:]\n",
    "        inputsBias.insert(len(inputs), 1)  # Add bias input\n",
    "\n",
    "        h1 = np.dot(self.w_i_h1, inputsBias)  # feed input to hidden layer 1\n",
    "        h1 = [self.ReLU(x) for x in h1]  # Activate hidden layer1\n",
    "\n",
    "        h2 = np.dot(self.w_h1_h2, h1)  # feed layer 1 to hidden layer 2\n",
    "        h2 = [self.ReLU(x) for x in h2]  # Activate hidden layer 2\n",
    "\n",
    "        output = np.dot(self.w_h2_o, h2)  # feed to output layer\n",
    "        output = [self.sigmoid(x) for x in output]  # Activate output layer\n",
    "        return output"
   ]
  },
  {
   "cell_type": "markdown",
   "metadata": {},
   "source": [
    "Next we define functions that allow the genetic algorithm to get and set the weights as a simple one-dimensional list. This means we can then just work with the built-in operators without having to worry about defining our own to work with multidimensional arrays."
   ]
  },
  {
   "cell_type": "code",
   "execution_count": 3,
   "metadata": {
    "ExecuteTime": {
     "end_time": "2024-03-04T18:29:23.715489Z",
     "start_time": "2024-03-04T18:29:23.709378Z"
    }
   },
   "outputs": [],
   "source": [
    "class MLP(MLP):\n",
    "    def getWeightsLinear(self):\n",
    "        flat_w_i_h1 = list(self.w_i_h1.flatten())\n",
    "        flat_w_h1_h2 = list(self.w_h1_h2.flatten())\n",
    "        flat_w_h2_o = list(self.w_h2_o.flatten())\n",
    "        return flat_w_i_h1 + flat_w_h1_h2 + flat_w_h2_o\n",
    "\n",
    "    def setWeightsLinear(self, Wgenome):\n",
    "        numWeights_I_H1 = self.numHidden1 * self.numInput\n",
    "        numWeights_H1_H2 = self.numHidden2 * self.numHidden1\n",
    "        numWeights_H2_O = self.numOutput * self.numHidden2  # noqa F841\n",
    "\n",
    "        self.w_i_h1 = np.array(Wgenome[:numWeights_I_H1])\n",
    "        self.w_i_h1 = self.w_i_h1.reshape((self.numHidden1, self.numInput))\n",
    "\n",
    "        self.w_h1_h2 = np.array(\n",
    "            Wgenome[numWeights_I_H1 : (numWeights_H1_H2 + numWeights_I_H1)]\n",
    "        )\n",
    "        self.w_h1_h2 = self.w_h1_h2.reshape((self.numHidden2, self.numHidden1))\n",
    "\n",
    "        self.w_h2_o = np.array(Wgenome[(numWeights_H1_H2 + numWeights_I_H1) :])\n",
    "        self.w_h2_o = self.w_h2_o.reshape((self.numOutput, self.numHidden2))"
   ]
  },
  {
   "cell_type": "markdown",
   "metadata": {},
   "source": [
    "We will create a multi-layer perceptron with 3 inputs, 3 hidden nodes in hidden layer 1, and 2 in hidden layer 2, and 1 output. "
   ]
  },
  {
   "cell_type": "code",
   "execution_count": 4,
   "metadata": {
    "ExecuteTime": {
     "end_time": "2024-03-04T18:29:23.737447Z",
     "start_time": "2024-03-04T18:29:23.734767Z"
    }
   },
   "outputs": [],
   "source": [
    "myNet = MLP(3, 3, 2, 1)"
   ]
  },
  {
   "cell_type": "markdown",
   "metadata": {},
   "source": [
    "Let's run a test on it."
   ]
  },
  {
   "cell_type": "code",
   "execution_count": 5,
   "metadata": {
    "ExecuteTime": {
     "end_time": "2024-03-04T18:29:23.770069Z",
     "start_time": "2024-03-04T18:29:23.767150Z"
    }
   },
   "outputs": [],
   "source": [
    "a = myNet.getWeightsLinear()"
   ]
  },
  {
   "cell_type": "code",
   "execution_count": 6,
   "metadata": {
    "ExecuteTime": {
     "end_time": "2024-03-04T18:29:23.780183Z",
     "start_time": "2024-03-04T18:29:23.774204Z"
    }
   },
   "outputs": [
    {
     "data": {
      "text/plain": "[-0.22265530250334803,\n -1.7986832686782028,\n 0.4191122464973764,\n -0.5137415257355742,\n -0.5388427723426866,\n 0.24535113847830461,\n -1.6283786797624469,\n -0.38342736775231445,\n 0.32518289974287007,\n 0.1785736820032411,\n -0.28544146409148086,\n 1.49634455425515,\n 1.9228568568082813,\n -0.40185235474171166,\n -0.873244570722347,\n -0.33391020474693706,\n 2.1836646738049597,\n 1.3575033893697959,\n -0.4910968906849715,\n 0.15283573112974685]"
     },
     "execution_count": 6,
     "metadata": {},
     "output_type": "execute_result"
    }
   ],
   "source": [
    "a"
   ]
  },
  {
   "cell_type": "markdown",
   "metadata": {},
   "source": [
    "It takes in a list of size 3 (inputs), and gives a list as output, with each element in the list being the output nodes (here we only have 1)."
   ]
  },
  {
   "cell_type": "code",
   "execution_count": 7,
   "metadata": {
    "ExecuteTime": {
     "end_time": "2024-03-04T18:29:23.785394Z",
     "start_time": "2024-03-04T18:29:23.782645Z"
    }
   },
   "outputs": [],
   "source": [
    "inputs = [0.5, 1.3, 0.1]"
   ]
  },
  {
   "cell_type": "code",
   "execution_count": 8,
   "metadata": {
    "ExecuteTime": {
     "end_time": "2024-03-04T18:29:23.819787Z",
     "start_time": "2024-03-04T18:29:23.816358Z"
    }
   },
   "outputs": [],
   "source": [
    "outcome = myNet.feedForward(inputs)"
   ]
  },
  {
   "cell_type": "markdown",
   "metadata": {},
   "source": [
    "The outcome will be between 0 and 1, due to the sigmoid function. To make this binary we can add a step function as with binary regression."
   ]
  },
  {
   "cell_type": "code",
   "execution_count": 9,
   "metadata": {
    "ExecuteTime": {
     "end_time": "2024-03-04T18:29:23.834350Z",
     "start_time": "2024-03-04T18:29:23.831038Z"
    }
   },
   "outputs": [
    {
     "name": "stdout",
     "output_type": "stream",
     "text": [
      "[0.5954230096750314]\n"
     ]
    }
   ],
   "source": [
    "print(outcome)"
   ]
  },
  {
   "cell_type": "code",
   "execution_count": 10,
   "metadata": {
    "ExecuteTime": {
     "end_time": "2024-03-04T18:29:23.880755Z",
     "start_time": "2024-03-04T18:29:23.875298Z"
    }
   },
   "outputs": [
    {
     "data": {
      "text/plain": "1"
     },
     "execution_count": 10,
     "metadata": {},
     "output_type": "execute_result"
    }
   ],
   "source": [
    "int(outcome[0] > 0.5)"
   ]
  },
  {
   "cell_type": "markdown",
   "metadata": {},
   "source": [
    "# The game"
   ]
  },
  {
   "cell_type": "code",
   "execution_count": 11,
   "metadata": {
    "ExecuteTime": {
     "end_time": "2024-03-04T18:29:24.042278Z",
     "start_time": "2024-03-04T18:29:23.943011Z"
    }
   },
   "outputs": [
    {
     "name": "stdout",
     "output_type": "stream",
     "text": [
      "pygame 2.5.2 (SDL 2.28.3, Python 3.9.6)\n",
      "Hello from the pygame community. https://www.pygame.org/contribute.html\n"
     ]
    }
   ],
   "source": [
    "import pygame"
   ]
  },
  {
   "cell_type": "markdown",
   "metadata": {},
   "source": [
    "The PyGame library is a cross-platform set of Python modules utilized to develop video games. PyGame mainly comprises computer graphics and sound libraries designed to be utilized with the Python programming language."
   ]
  },
  {
   "cell_type": "code",
   "execution_count": 12,
   "metadata": {
    "ExecuteTime": {
     "end_time": "2024-03-04T18:29:24.052447Z",
     "start_time": "2024-03-04T18:29:24.043488Z"
    }
   },
   "outputs": [],
   "source": [
    "import sys\n",
    "\n",
    "\n",
    "class FlappyBird:\n",
    "    def __init__(self):\n",
    "        self.screen = pygame.display.set_mode((400, 708))\n",
    "        self.bird = pygame.Rect(65, 50, 50, 50)\n",
    "        self.background = pygame.image.load(\"assets/background.png\").convert()\n",
    "        self.birdSprites = [\n",
    "            pygame.image.load(\"assets/1.png\").convert_alpha(),\n",
    "            pygame.image.load(\"assets/2.png\").convert_alpha(),\n",
    "            pygame.image.load(\"assets/dead.png\"),\n",
    "        ]\n",
    "        self.wallUp = pygame.image.load(\"assets/bottom.png\").convert_alpha()\n",
    "        self.wallDown = pygame.image.load(\"assets/top.png\").convert_alpha()\n",
    "        self.gap = 130\n",
    "        self.gravity = 5\n",
    "        self.delay = False\n",
    "        self.restart()\n",
    "\n",
    "    def updateWalls(self):\n",
    "        self.wallx -= 5\n",
    "        self.distanceMoved += 5\n",
    "        if self.wallx < -80:\n",
    "            self.wallx = 400\n",
    "            self.counter += 1\n",
    "            self.offset = np.random.randint(-180, 200)\n",
    "\n",
    "    def birdUpdate(self):\n",
    "        if self.jump:\n",
    "            self.jumpSpeed -= 1\n",
    "            self.birdY -= self.jumpSpeed\n",
    "            self.jump -= 1\n",
    "        else:\n",
    "            self.birdY += self.gravity\n",
    "            self.gravity += 0.2\n",
    "        self.bird[1] = self.birdY\n",
    "        upRect = pygame.Rect(\n",
    "            self.wallx,\n",
    "            360 + self.gap - self.offset + 10,\n",
    "            self.wallUp.get_width() - 10,\n",
    "            self.wallUp.get_height(),\n",
    "        )\n",
    "        downRect = pygame.Rect(\n",
    "            self.wallx,\n",
    "            0 - self.gap - self.offset - 10,\n",
    "            self.wallDown.get_width() - 10,\n",
    "            self.wallDown.get_height(),\n",
    "        )\n",
    "\n",
    "        if upRect.colliderect(self.bird):\n",
    "            self.dead = True\n",
    "        if downRect.colliderect(self.bird):\n",
    "            self.dead = True\n",
    "\n",
    "        if not 0 < self.bird[1] < 720:\n",
    "            self.dead = True\n",
    "\n",
    "    def updateScreen(self):\n",
    "        font = pygame.font.SysFont(\"Arial\", 50)\n",
    "        self.screen.fill((255, 255, 255))\n",
    "        self.screen.blit(self.background, (0, 0))\n",
    "        self.wallUpY = 360 + self.gap - self.offset\n",
    "        self.wallDownY = 0 - self.gap - self.offset\n",
    "        self.screen.blit(self.wallUp, (self.wallx, self.wallUpY))\n",
    "        self.screen.blit(self.wallDown, (self.wallx, self.wallDownY))\n",
    "        self.screen.blit(font.render(str(self.counter), -1, (255, 255, 255)), (200, 50))\n",
    "        self.screen.blit(self.birdSprites[self.sprite], (70, self.birdY))\n",
    "\n",
    "    def makeJump(self):\n",
    "        self.jump = 17\n",
    "        self.gravity = 5\n",
    "        self.jumpSpeed = 10\n",
    "\n",
    "    def restart(self):\n",
    "        self.wallx = 400\n",
    "        self.wallUpY = 0\n",
    "        self.wallDownY = 0\n",
    "        self.birdY = 400\n",
    "        self.jump = 0  # A timer for the jump\n",
    "        self.jumpSpeed = 10\n",
    "        self.dead = False\n",
    "        self.sprite = 1\n",
    "        self.distanceMoved = 0\n",
    "        self.counter = 0\n",
    "        self.stepsSinceLastJump = 0\n",
    "        self.offset = np.random.randint(-180, 300)\n",
    "\n",
    "    def run(self, network):\n",
    "        pygame.font.init()\n",
    "\n",
    "        while not self.dead:\n",
    "            for event in pygame.event.get():\n",
    "                if event.type == pygame.QUIT:\n",
    "                    sys.exit()\n",
    "                if (event.type == pygame.KEYDOWN) and not self.dead:\n",
    "                    # self.makeJump()\n",
    "                    if self.delay:\n",
    "                        self.delay = False\n",
    "                    else:\n",
    "                        self.delay = True\n",
    "\n",
    "            if self.delay:\n",
    "                time.sleep(0.01)\n",
    "\n",
    "            # We don't want it going on forever, so set an upper limit\n",
    "            if self.counter == 10:\n",
    "                self.dead = True\n",
    "\n",
    "            self.xdiff = 70 - self.wallx\n",
    "            ydiffUp = self.birdY - self.wallUpY\n",
    "            ydiffDown = self.birdY - self.wallDownY\n",
    "            decision = network.feedForward([self.xdiff, ydiffUp, ydiffDown])\n",
    "\n",
    "            if decision[0] > 0.5 and not self.dead:\n",
    "                self.makeJump()\n",
    "\n",
    "            self.updateScreen()\n",
    "            self.updateWalls()\n",
    "            self.birdUpdate()\n",
    "\n",
    "            pygame.display.update()\n",
    "\n",
    "        return self.distanceMoved"
   ]
  },
  {
   "cell_type": "markdown",
   "metadata": {},
   "source": [
    "# The Genetic Algorithm"
   ]
  },
  {
   "cell_type": "markdown",
   "metadata": {},
   "source": [
    "One approach could be to create a population of neural networks. However, that might be slow (and involve using copy.deepcopy) and not allow you to use DEAP's built in operators. Instead, we will evolve a population of flat lists, representing the neural network weights. We will only need to instantiate a single neural network to evaluate the fitness of those weights."
   ]
  },
  {
   "cell_type": "code",
   "execution_count": 13,
   "metadata": {
    "ExecuteTime": {
     "end_time": "2024-03-04T18:29:24.060502Z",
     "start_time": "2024-03-04T18:29:24.053135Z"
    }
   },
   "outputs": [],
   "source": [
    "from deap import base\n",
    "from deap import creator\n",
    "from deap import tools\n",
    "\n",
    "import random\n",
    "import time"
   ]
  },
  {
   "cell_type": "code",
   "execution_count": 14,
   "metadata": {
    "ExecuteTime": {
     "end_time": "2024-03-04T18:29:24.063922Z",
     "start_time": "2024-03-04T18:29:24.061936Z"
    }
   },
   "outputs": [],
   "source": [
    "numInputNodes = 3\n",
    "numHiddenNodes1 = 3\n",
    "numHiddenNodes2 = 2\n",
    "numOutputNodes = 1\n",
    "\n",
    "IND_SIZE = (\n",
    "    ((numInputNodes + 1) * numHiddenNodes1)\n",
    "    + (numHiddenNodes1 * numHiddenNodes2)\n",
    "    + (numHiddenNodes2 * numOutputNodes)\n",
    ")"
   ]
  },
  {
   "cell_type": "markdown",
   "metadata": {},
   "source": [
    "We now create a single neural network controller that we will use. We will evolve weights and pass them to this network when we need to evaluate their fitness."
   ]
  },
  {
   "cell_type": "code",
   "execution_count": 15,
   "metadata": {
    "ExecuteTime": {
     "end_time": "2024-03-04T18:29:24.066624Z",
     "start_time": "2024-03-04T18:29:24.064645Z"
    }
   },
   "outputs": [],
   "source": [
    "myNet = MLP(numInputNodes, numHiddenNodes1, numHiddenNodes2, numOutputNodes)"
   ]
  },
  {
   "cell_type": "code",
   "execution_count": 16,
   "metadata": {
    "ExecuteTime": {
     "end_time": "2024-03-04T18:29:24.069264Z",
     "start_time": "2024-03-04T18:29:24.067150Z"
    }
   },
   "outputs": [],
   "source": [
    "creator.create(\"FitnessMax\", base.Fitness, weights=(1.0,))\n",
    "creator.create(\"Individual\", list, fitness=creator.FitnessMax)\n",
    "\n",
    "toolbox = base.Toolbox()\n",
    "toolbox.register(\"attr_float\", random.uniform, -1.0, 1.0)\n",
    "toolbox.register(\n",
    "    \"individual\", tools.initRepeat, creator.Individual, toolbox.attr_float, n=IND_SIZE\n",
    ")"
   ]
  },
  {
   "cell_type": "code",
   "execution_count": 17,
   "metadata": {
    "ExecuteTime": {
     "end_time": "2024-03-04T18:29:24.071910Z",
     "start_time": "2024-03-04T18:29:24.070137Z"
    }
   },
   "outputs": [],
   "source": [
    "def evaluate(indiv, myNet, game):\n",
    "    myNet.setWeightsLinear(\n",
    "        indiv\n",
    "    )  # Load the individual's weights into the neural network\n",
    "    game.restart()\n",
    "    fitness = game.run(myNet)  # Evaluate the individual by running the game (discuss)\n",
    "    return (fitness,)"
   ]
  },
  {
   "cell_type": "code",
   "execution_count": 18,
   "metadata": {
    "ExecuteTime": {
     "end_time": "2024-03-04T18:29:24.074395Z",
     "start_time": "2024-03-04T18:29:24.072671Z"
    }
   },
   "outputs": [],
   "source": [
    "toolbox.register(\"evaluate\", evaluate)\n",
    "toolbox.register(\"select\", tools.selTournament, tournsize=3)\n",
    "\n",
    "toolbox.register(\"mutate\", tools.mutGaussian, mu=0.0, sigma=0.5, indpb=0.1)"
   ]
  },
  {
   "cell_type": "code",
   "execution_count": 19,
   "metadata": {
    "ExecuteTime": {
     "end_time": "2024-03-04T18:29:24.076339Z",
     "start_time": "2024-03-04T18:29:24.074959Z"
    }
   },
   "outputs": [],
   "source": [
    "toolbox.register(\"population\", tools.initRepeat, list, toolbox.individual)"
   ]
  },
  {
   "cell_type": "code",
   "execution_count": 20,
   "metadata": {
    "ExecuteTime": {
     "end_time": "2024-03-04T18:29:24.080046Z",
     "start_time": "2024-03-04T18:29:24.078138Z"
    }
   },
   "outputs": [],
   "source": [
    "stats = tools.Statistics(key=lambda ind: ind.fitness.values)\n",
    "stats.register(\"avg\", np.mean)\n",
    "stats.register(\"std\", np.std)\n",
    "stats.register(\"min\", np.min)\n",
    "stats.register(\"max\", np.max)"
   ]
  },
  {
   "cell_type": "code",
   "execution_count": 21,
   "metadata": {
    "ExecuteTime": {
     "end_time": "2024-03-04T18:29:24.082519Z",
     "start_time": "2024-03-04T18:29:24.080687Z"
    }
   },
   "outputs": [],
   "source": [
    "logbook = tools.Logbook()\n",
    "\n",
    "pop = toolbox.population(n=100)"
   ]
  },
  {
   "cell_type": "markdown",
   "metadata": {},
   "source": [
    "We create a single game object. We will use this single object evaluate each of our solutions."
   ]
  },
  {
   "cell_type": "code",
   "execution_count": 22,
   "metadata": {
    "ExecuteTime": {
     "end_time": "2024-03-04T18:29:24.642402Z",
     "start_time": "2024-03-04T18:29:24.083092Z"
    }
   },
   "outputs": [
    {
     "name": "stderr",
     "output_type": "stream",
     "text": [
      "2024-03-04 18:29:24.194 Python[53001:1243580] WARNING: Secure coding is automatically enabled for restorable state! However, not on all supported macOS versions of this application. Opt-in to secure coding explicitly by implementing NSApplicationDelegate.applicationSupportsSecureRestorableState:.\n"
     ]
    },
    {
     "ename": "FileNotFoundError",
     "evalue": "No file 'assets/background.png' found in working directory '/Users/ivanbar/PycharmProjects/EVAC-work/week-5'.",
     "output_type": "error",
     "traceback": [
      "\u001b[0;31m---------------------------------------------------------------------------\u001b[0m",
      "\u001b[0;31mFileNotFoundError\u001b[0m                         Traceback (most recent call last)",
      "Cell \u001b[0;32mIn[22], line 1\u001b[0m\n\u001b[0;32m----> 1\u001b[0m game \u001b[38;5;241m=\u001b[39m \u001b[43mFlappyBird\u001b[49m\u001b[43m(\u001b[49m\u001b[43m)\u001b[49m\n",
      "Cell \u001b[0;32mIn[12], line 5\u001b[0m, in \u001b[0;36mFlappyBird.__init__\u001b[0;34m(self)\u001b[0m\n\u001b[1;32m      3\u001b[0m \u001b[38;5;28mself\u001b[39m\u001b[38;5;241m.\u001b[39mscreen \u001b[38;5;241m=\u001b[39m pygame\u001b[38;5;241m.\u001b[39mdisplay\u001b[38;5;241m.\u001b[39mset_mode((\u001b[38;5;241m400\u001b[39m, \u001b[38;5;241m708\u001b[39m))\n\u001b[1;32m      4\u001b[0m \u001b[38;5;28mself\u001b[39m\u001b[38;5;241m.\u001b[39mbird \u001b[38;5;241m=\u001b[39m pygame\u001b[38;5;241m.\u001b[39mRect(\u001b[38;5;241m65\u001b[39m, \u001b[38;5;241m50\u001b[39m, \u001b[38;5;241m50\u001b[39m, \u001b[38;5;241m50\u001b[39m)\n\u001b[0;32m----> 5\u001b[0m \u001b[38;5;28mself\u001b[39m\u001b[38;5;241m.\u001b[39mbackground \u001b[38;5;241m=\u001b[39m \u001b[43mpygame\u001b[49m\u001b[38;5;241;43m.\u001b[39;49m\u001b[43mimage\u001b[49m\u001b[38;5;241;43m.\u001b[39;49m\u001b[43mload\u001b[49m\u001b[43m(\u001b[49m\u001b[38;5;124;43m\"\u001b[39;49m\u001b[38;5;124;43massets/background.png\u001b[39;49m\u001b[38;5;124;43m\"\u001b[39;49m\u001b[43m)\u001b[49m\u001b[38;5;241m.\u001b[39mconvert()\n\u001b[1;32m      6\u001b[0m \u001b[38;5;28mself\u001b[39m\u001b[38;5;241m.\u001b[39mbirdSprites \u001b[38;5;241m=\u001b[39m [pygame\u001b[38;5;241m.\u001b[39mimage\u001b[38;5;241m.\u001b[39mload(\u001b[38;5;124m\"\u001b[39m\u001b[38;5;124massets/1.png\u001b[39m\u001b[38;5;124m\"\u001b[39m)\u001b[38;5;241m.\u001b[39mconvert_alpha(),\n\u001b[1;32m      7\u001b[0m                     pygame\u001b[38;5;241m.\u001b[39mimage\u001b[38;5;241m.\u001b[39mload(\u001b[38;5;124m\"\u001b[39m\u001b[38;5;124massets/2.png\u001b[39m\u001b[38;5;124m\"\u001b[39m)\u001b[38;5;241m.\u001b[39mconvert_alpha(),\n\u001b[1;32m      8\u001b[0m                     pygame\u001b[38;5;241m.\u001b[39mimage\u001b[38;5;241m.\u001b[39mload(\u001b[38;5;124m\"\u001b[39m\u001b[38;5;124massets/dead.png\u001b[39m\u001b[38;5;124m\"\u001b[39m)]\n\u001b[1;32m      9\u001b[0m \u001b[38;5;28mself\u001b[39m\u001b[38;5;241m.\u001b[39mwallUp \u001b[38;5;241m=\u001b[39m pygame\u001b[38;5;241m.\u001b[39mimage\u001b[38;5;241m.\u001b[39mload(\u001b[38;5;124m\"\u001b[39m\u001b[38;5;124massets/bottom.png\u001b[39m\u001b[38;5;124m\"\u001b[39m)\u001b[38;5;241m.\u001b[39mconvert_alpha()\n",
      "\u001b[0;31mFileNotFoundError\u001b[0m: No file 'assets/background.png' found in working directory '/Users/ivanbar/PycharmProjects/EVAC-work/week-5'."
     ]
    }
   ],
   "source": [
    "game = FlappyBird()"
   ]
  },
  {
   "cell_type": "code",
   "execution_count": null,
   "metadata": {
    "ExecuteTime": {
     "end_time": "2024-03-04T18:29:24.643236Z",
     "start_time": "2024-03-04T18:29:24.643187Z"
    }
   },
   "outputs": [],
   "source": [
    "fitnesses = [toolbox.evaluate(indiv, myNet, game) for indiv in pop]\n",
    "for ind, fit in zip(pop, fitnesses):\n",
    "    ind.fitness.values = fit"
   ]
  },
  {
   "cell_type": "code",
   "execution_count": null,
   "metadata": {
    "scrolled": true
   },
   "outputs": [],
   "source": [
    "NGEN = 20\n",
    "\n",
    "for g in range(NGEN):\n",
    "    print(\"-- Generation %i --\" % g)\n",
    "\n",
    "    offspring = toolbox.select(pop, len(pop))\n",
    "    offspring = list(map(toolbox.clone, offspring))\n",
    "\n",
    "    for mutant in offspring:\n",
    "        toolbox.mutate(mutant)\n",
    "        del mutant.fitness.values\n",
    "\n",
    "    invalid_ind = [ind for ind in offspring if not ind.fitness.valid]\n",
    "    fitnesses = [toolbox.evaluate(indiv, myNet, game) for indiv in invalid_ind]\n",
    "    for ind, fit in zip(invalid_ind, fitnesses):\n",
    "        ind.fitness.values = fit\n",
    "\n",
    "    pop[:] = offspring\n",
    "    record = stats.compile(pop)\n",
    "    logbook.record(gen=g, **record)"
   ]
  },
  {
   "cell_type": "markdown",
   "metadata": {},
   "source": [
    "# Quick examination of the algorithm"
   ]
  },
  {
   "cell_type": "code",
   "execution_count": null,
   "metadata": {},
   "outputs": [],
   "source": [
    "logbook.header = \"gen\", \"avg\", \"evals\", \"std\", \"min\", \"max\""
   ]
  },
  {
   "cell_type": "code",
   "execution_count": null,
   "metadata": {},
   "outputs": [],
   "source": [
    "import matplotlib.pyplot as plt\n",
    "\n",
    "%matplotlib inline\n",
    "gen = logbook.select(\"gen\")\n",
    "avgs = logbook.select(\"avg\")\n",
    "stds = logbook.select(\"std\")"
   ]
  },
  {
   "cell_type": "code",
   "execution_count": null,
   "metadata": {},
   "outputs": [],
   "source": [
    "plt.rc(\"axes\", labelsize=14)\n",
    "plt.rc(\"xtick\", labelsize=14)\n",
    "plt.rc(\"ytick\", labelsize=14)\n",
    "plt.rc(\"legend\", fontsize=14)\n",
    "\n",
    "fig, ax1 = plt.subplots()\n",
    "# line1 = ax1.plot(gen, avgs)\n",
    "line1 = ax1.errorbar(gen, avgs, yerr=stds, errorevery=2)\n",
    "ax1.set_xlabel(\"Generation\")\n",
    "ax1.set_ylabel(\"Mean Fitness\")"
   ]
  },
  {
   "cell_type": "markdown",
   "metadata": {},
   "source": [
    "# Examine the best solution"
   ]
  },
  {
   "cell_type": "code",
   "execution_count": null,
   "metadata": {},
   "outputs": [],
   "source": [
    "indiv1 = tools.selBest(pop, 1)[0]\n",
    "toolbox.evaluate(indiv1, myNet, game)"
   ]
  },
  {
   "cell_type": "markdown",
   "metadata": {},
   "source": [
    "# Points to think about"
   ]
  },
  {
   "cell_type": "markdown",
   "metadata": {},
   "source": [
    "1. The game has some element of chance, depending on how the random generator provides the level. In some games the variation due to chance/luck will be much greater. Where can we alter the code to account for this?\n",
    "2. Could you alter the code to turn connections on and off (a limited way of evolving the topology)?\n",
    "3. We have represented individuals as lists of weights. We have also not used crossover. This is because of the potential competing conventions problem with crossover."
   ]
  },
  {
   "cell_type": "code",
   "execution_count": null,
   "metadata": {},
   "outputs": [],
   "source": []
  }
 ],
 "metadata": {
  "kernelspec": {
   "display_name": "Python 3 (ipykernel)",
   "language": "python",
   "name": "python3"
  },
  "language_info": {
   "codemirror_mode": {
    "name": "ipython",
    "version": 3
   },
   "file_extension": ".py",
   "mimetype": "text/x-python",
   "name": "python",
   "nbconvert_exporter": "python",
   "pygments_lexer": "ipython3",
   "version": "3.9.12"
  }
 },
 "nbformat": 4,
 "nbformat_minor": 4
}
