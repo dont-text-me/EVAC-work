{
  "cells": [
    {
      "cell_type": "markdown",
      "metadata": {
        "id": "kd4zYUgClvDj"
      },
      "source": [
        "# A full example using the simple max-one problem\n",
        "\n",
        "The max-one problem is a simple toy problem that we will use to illustrate a basic GA. Here individuals are represented as bit-strings. Their fitness is evaluated as a function of the number of 1s they have in the bit string. Its clear that the optimum is an all-ones string. Here is an example of what individuals might look like with a string of length 10.\n",
        "\n",
        "![10BitGenome.JPG](data:image/jpeg;base64,/9j/4AAQSkZJRgABAQEAwADAAAD/4RD0RXhpZgAATU0AKgAAAAgABAE7AAIAAAAOAAAISodpAAQAAAABAAAIWJydAAEAAAAcAAAQ0OocAAcAAAgMAAAAPgAAAAAc6gAAAAgAAAAAAAAAAAAAAAAAAAAAAAAAAAAAAAAAAAAAAAAAAAAAAAAAAAAAAAAAAAAAAAAAAAAAAAAAAAAAAAAAAAAAAAAAAAAAAAAAAAAAAAAAAAAAAAAAAAAAAAAAAAAAAAAAAAAAAAAAAAAAAAAAAAAAAAAAAAAAAAAAAAAAAAAAAAAAAAAAAAAAAAAAAAAAAAAAAAAAAAAAAAAAAAAAAAAAAAAAAAAAAAAAAAAAAAAAAAAAAAAAAAAAAAAAAAAAAAAAAAAAAAAAAAAAAAAAAAAAAAAAAAAAAAAAAAAAAAAAAAAAAAAAAAAAAAAAAAAAAAAAAAAAAAAAAAAAAAAAAAAAAAAAAAAAAAAAAAAAAAAAAAAAAAAAAAAAAAAAAAAAAAAAAAAAAAAAAAAAAAAAAAAAAAAAAAAAAAAAAAAAAAAAAAAAAAAAAAAAAAAAAAAAAAAAAAAAAAAAAAAAAAAAAAAAAAAAAAAAAAAAAAAAAAAAAAAAAAAAAAAAAAAAAAAAAAAAAAAAAAAAAAAAAAAAAAAAAAAAAAAAAAAAAAAAAAAAAAAAAAAAAAAAAAAAAAAAAAAAAAAAAAAAAAAAAAAAAAAAAAAAAAAAAAAAAAAAAAAAAAAAAAAAAAAAAAAAAAAAAAAAAAAAAAAAAAAAAAAAAAAAAAAAAAAAAAAAAAAAAAAAAAAAAAAAAAAAAAAAAAAAAAAAAAAAAAAAAAAAAAAAAAAAAAAAAAAAAAAAAAAAAAAAAAAAAAAAAAAAAAAAAAAAAAAAAAAAAAAAAAAAAAAAAAAAAAAAAAAAAAAAAAAAAAAAAAAAAAAAAAAAAAAAAAAAAAAAAAAAAAAAAAAAAAAAAAAAAAAAAAAAAAAAAAAAAAAAAAAAAAAAAAAAAAAAAAAAAAAAAAAAAAAAAAAAAAAAAAAAAAAAAAAAAAAAAAAAAAAAAAAAAAAAAAAAAAAAAAAAAAAAAAAAAAAAAAAAAAAAAAAAAAAAAAAAAAAAAAAAAAAAAAAAAAAAAAAAAAAAAAAAAAAAAAAAAAAAAAAAAAAAAAAAAAAAAAAAAAAAAAAAAAAAAAAAAAAAAAAAAAAAAAAAAAAAAAAAAAAAAAAAAAAAAAAAAAAAAAAAAAAAAAAAAAAAAAAAAAAAAAAAAAAAAAAAAAAAAAAAAAAAAAAAAAAAAAAAAAAAAAAAAAAAAAAAAAAAAAAAAAAAAAAAAAAAAAAAAAAAAAAAAAAAAAAAAAAAAAAAAAAAAAAAAAAAAAAAAAAAAAAAAAAAAAAAAAAAAAAAAAAAAAAAAAAAAAAAAAAAAAAAAAAAAAAAAAAAAAAAAAAAAAAAAAAAAAAAAAAAAAAAAAAAAAAAAAAAAAAAAAAAAAAAAAAAAAAAAAAAAAAAAAAAAAAAAAAAAAAAAAAAAAAAAAAAAAAAAAAAAAAAAAAAAAAAAAAAAAAAAAAAAAAAAAAAAAAAAAAAAAAAAAAAAAAAAAAAAAAAAAAAAAAAAAAAAAAAAAAAAAAAAAAAAAAAAAAAAAAAAAAAAAAAAAAAAAAAAAAAAAAAAAAAAAAAAAAAAAAAAAAAAAAAAAAAAAAAAAAAAAAAAAAAAAAAAAAAAAAAAAAAAAAAAAAAAAAAAAAAAAAAAAAAAAAAAAAAAAAAAAAAAAAAAAAAAAAAAAAAAAAAAAAAAAAAAAAAAAAAAAAAAAAAAAAAAAAAAAAAAAAAAAAAAAAAAAAAAAAAAAAAAAAAAAAAAAAAAAAAAAAAAAAAAAAAAAAAAAAAAAAAAAAAAAAAAAAAAAAAAAAAAAAAAAAAAAAAAAAAAAAAAAAAAAAAAAAAAAAAAAAAAAAAAAAAAAAAAAAAAAAAAAAAAAAAAAAAAAAAAAAAAAAAAAAAAAAAAAAAAAAAAAAAAAAAAAAAAAAAAAAAAAAAAAAAAAAAAAAAAAAAAAAAAAAAAAAAAAAAAAAAAAAAAAAAAAAAAAAAAAAAAAAAAAAAAAAAAAAAAAAAAAAAAAAAAAAAAAAAAAAAAAAAAAAAAAAAAAAAAAAAAAAAAAAAAAAAAAAAAAAAAAAAAAAAAAAAAAAAAAAAAAAAAAAAAAAAAAAAAAAAAAAAAAAAAAAAAAAAAAAAAAAAAAAAAAAAAAAAAAAAAAAAAAAAAAAAAAAAAAAAAAAAAAAAAAAAAAAAAAAAAAAAAAAAAAAAAAAAAAAAAAAAAAAAAAAAAAAAAAAAAAAAAAAAAAAAAAAAAAAAAAAAAAAAAAAAAAAAAAAAAAAAAAAAAAAAAAAAAAAAAAAAAAAAAAAAAAAAAAAAAAAAAAAAAAAAAAAAAAAAAAAAAAAAAAAAAAAAAAAAAAAAAAAAAAAAAAAAAAAAAAAAAAAAAAAAAAAAAAAAAAAAAAAAAAAAAAAAAAAAAAAAAAAAAAAAAAAAAAAAAAAAAAAAAAAAAAAAAAAAAAAAAAAAAAAAAAAAAAAAAAAAAAAAAAAAAAAAAAAAAAAAAAAAAAAAAAAAAAAAAAAAAAAAAAAAAAAAAAAAAAAAAAAAAAAAAAAAAAAAAAAAAAAAAAAAAAAAAAAAAAAAAAAAAAAAAAAAAAAAAAAAAAAAAAAAAAAAAAAAAAAAAAAAAAAAAAAAAAAAAAAAAAAAAAAAAAAAAAAAAAAAAAAAAAAAAAAAAAAAAAAAAAAAAAAAAAAAAAAAAAAAAAAAAAAAAAAAAAAAAAAAAAAAAAAAAAAAAAAAAAAAAAAAAAAAAAAAAAAAAAAAAAAAAAAAAAAAAFNpbW9uIE8nS2VlZmUAAAWQAwACAAAAFAAAEKaQBAACAAAAFAAAELqSkQACAAAAAzkwAACSkgACAAAAAzkwAADqHAAHAAAIDAAACJoAAAAAHOoAAAAIAAAAAAAAAAAAAAAAAAAAAAAAAAAAAAAAAAAAAAAAAAAAAAAAAAAAAAAAAAAAAAAAAAAAAAAAAAAAAAAAAAAAAAAAAAAAAAAAAAAAAAAAAAAAAAAAAAAAAAAAAAAAAAAAAAAAAAAAAAAAAAAAAAAAAAAAAAAAAAAAAAAAAAAAAAAAAAAAAAAAAAAAAAAAAAAAAAAAAAAAAAAAAAAAAAAAAAAAAAAAAAAAAAAAAAAAAAAAAAAAAAAAAAAAAAAAAAAAAAAAAAAAAAAAAAAAAAAAAAAAAAAAAAAAAAAAAAAAAAAAAAAAAAAAAAAAAAAAAAAAAAAAAAAAAAAAAAAAAAAAAAAAAAAAAAAAAAAAAAAAAAAAAAAAAAAAAAAAAAAAAAAAAAAAAAAAAAAAAAAAAAAAAAAAAAAAAAAAAAAAAAAAAAAAAAAAAAAAAAAAAAAAAAAAAAAAAAAAAAAAAAAAAAAAAAAAAAAAAAAAAAAAAAAAAAAAAAAAAAAAAAAAAAAAAAAAAAAAAAAAAAAAAAAAAAAAAAAAAAAAAAAAAAAAAAAAAAAAAAAAAAAAAAAAAAAAAAAAAAAAAAAAAAAAAAAAAAAAAAAAAAAAAAAAAAAAAAAAAAAAAAAAAAAAAAAAAAAAAAAAAAAAAAAAAAAAAAAAAAAAAAAAAAAAAAAAAAAAAAAAAAAAAAAAAAAAAAAAAAAAAAAAAAAAAAAAAAAAAAAAAAAAAAAAAAAAAAAAAAAAAAAAAAAAAAAAAAAAAAAAAAAAAAAAAAAAAAAAAAAAAAAAAAAAAAAAAAAAAAAAAAAAAAAAAAAAAAAAAAAAAAAAAAAAAAAAAAAAAAAAAAAAAAAAAAAAAAAAAAAAAAAAAAAAAAAAAAAAAAAAAAAAAAAAAAAAAAAAAAAAAAAAAAAAAAAAAAAAAAAAAAAAAAAAAAAAAAAAAAAAAAAAAAAAAAAAAAAAAAAAAAAAAAAAAAAAAAAAAAAAAAAAAAAAAAAAAAAAAAAAAAAAAAAAAAAAAAAAAAAAAAAAAAAAAAAAAAAAAAAAAAAAAAAAAAAAAAAAAAAAAAAAAAAAAAAAAAAAAAAAAAAAAAAAAAAAAAAAAAAAAAAAAAAAAAAAAAAAAAAAAAAAAAAAAAAAAAAAAAAAAAAAAAAAAAAAAAAAAAAAAAAAAAAAAAAAAAAAAAAAAAAAAAAAAAAAAAAAAAAAAAAAAAAAAAAAAAAAAAAAAAAAAAAAAAAAAAAAAAAAAAAAAAAAAAAAAAAAAAAAAAAAAAAAAAAAAAAAAAAAAAAAAAAAAAAAAAAAAAAAAAAAAAAAAAAAAAAAAAAAAAAAAAAAAAAAAAAAAAAAAAAAAAAAAAAAAAAAAAAAAAAAAAAAAAAAAAAAAAAAAAAAAAAAAAAAAAAAAAAAAAAAAAAAAAAAAAAAAAAAAAAAAAAAAAAAAAAAAAAAAAAAAAAAAAAAAAAAAAAAAAAAAAAAAAAAAAAAAAAAAAAAAAAAAAAAAAAAAAAAAAAAAAAAAAAAAAAAAAAAAAAAAAAAAAAAAAAAAAAAAAAAAAAAAAAAAAAAAAAAAAAAAAAAAAAAAAAAAAAAAAAAAAAAAAAAAAAAAAAAAAAAAAAAAAAAAAAAAAAAAAAAAAAAAAAAAAAAAAAAAAAAAAAAAAAAAAAAAAAAAAAAAAAAAAAAAAAAAAAAAAAAAAAAAAAAAAAAAAAAAAAAAAAAAAAAAAAAAAAAAAAAAAAAAAAAAAAAAAAAAAAAAAAAAAAAAAAAAAAAAAAAAAAAAAAAAAAAAAAAAAAAAAAAAAAAAAAAAAAAAAAAAAAAAAAAAAAAAAAAAAAAAAAAAAAAAAAAAAAAAAAAAAAAAAAAAAAAAAAAAAAAAAAAAAAAAAAAAAAAAAAAAAAAAAAAAAAAAAAAAAAAAAAAAAAAAAAAAAAAAAAAAAAAAAAAAAAAAAAAAAAAAAAAAAAAAAAAAAAAAAAAAAAAAAAAAAAAAAAAAAAAAAAAAAAAAAAAAAAAAAAAAAAAAAAAAAAAAAAAAAAAAAAAAAAAAAAAAAAAAAAAAAAAAAAAAAAAAAAAAAAAAAAAAAAAAAAAAAAAAAAAAAAAAAAAAAAAAAAAAAAAAAAAAAAAAAAAAAAAAAAAAAAAAAAAAAAAAAAAAAAAAAAAAAAAAAAAAAAAAAAAAAAAAAAAAAAAAAAAAAAAAAAAAAAAAAAAAAAAAAAAAAAAAAAAAAAAAAAAAAAAAAAAAAAAAAAAAAAAAAAAAAAAAAAAAAAAAAAAAAAAAAAAAAAAAAAAAAAAAAAAAAAAAAAAAAAAAAAAAAAAAAAAAAAAAAAAAAAAAAAAAAAAAAAAAAAAAAAAAAAAAAAAAAAAAAAAAAAAAAAAAAAAAAAAAAAAAAAAAAAAAAAAAAAAAAAAAAAAAAAAAAAAAAAAAAAAAAAAAAAAAAAAAAAAAAAAAAAAAAAAAAAAAAAAAAAAAAAAAAAAAAAAAAAAAAAAAAAAAAAAAAAAAAAAAAAAAAAAAAAAAAAAAAAAAAAAAAAAAAAAAAAAAAAAAAAAAAAAAAAAAAAAAAAAAAAAAAAAAAAAAAAAAAAAAAAAAAAAAAAAAAAAAAAAAAAAAAAAAAAAAAAAAAAAAAAAAAAAAAAAAAAAAAAAAAAAAAAAAAAAAAAAAAAAAAAAAAAAAAAAAAAAAAAAAAAAAAAAAAAAAAAAAAAAAAAAAAAAAAAAAAAAAAAAAAAAAAAAAAAAAAAAAAAAAAAAAAAyMDIzOjEwOjI2IDA5OjI3OjQ5ADIwMjM6MTA6MjYgMDk6Mjc6NDkAAABTAGkAbQBvAG4AIABPACcASwBlAGUAZgBlAAAA/+ELIGh0dHA6Ly9ucy5hZG9iZS5jb20veGFwLzEuMC8APD94cGFja2V0IGJlZ2luPSfvu78nIGlkPSdXNU0wTXBDZWhpSHpyZVN6TlRjemtjOWQnPz4NCjx4OnhtcG1ldGEgeG1sbnM6eD0iYWRvYmU6bnM6bWV0YS8iPjxyZGY6UkRGIHhtbG5zOnJkZj0iaHR0cDovL3d3dy53My5vcmcvMTk5OS8wMi8yMi1yZGYtc3ludGF4LW5zIyI+PHJkZjpEZXNjcmlwdGlvbiByZGY6YWJvdXQ9InV1aWQ6ZmFmNWJkZDUtYmEzZC0xMWRhLWFkMzEtZDMzZDc1MTgyZjFiIiB4bWxuczpkYz0iaHR0cDovL3B1cmwub3JnL2RjL2VsZW1lbnRzLzEuMS8iLz48cmRmOkRlc2NyaXB0aW9uIHJkZjphYm91dD0idXVpZDpmYWY1YmRkNS1iYTNkLTExZGEtYWQzMS1kMzNkNzUxODJmMWIiIHhtbG5zOnhtcD0iaHR0cDovL25zLmFkb2JlLmNvbS94YXAvMS4wLyI+PHhtcDpDcmVhdGVEYXRlPjIwMjMtMTAtMjZUMDk6Mjc6NDkuOTAwPC94bXA6Q3JlYXRlRGF0ZT48L3JkZjpEZXNjcmlwdGlvbj48cmRmOkRlc2NyaXB0aW9uIHJkZjphYm91dD0idXVpZDpmYWY1YmRkNS1iYTNkLTExZGEtYWQzMS1kMzNkNzUxODJmMWIiIHhtbG5zOmRjPSJodHRwOi8vcHVybC5vcmcvZGMvZWxlbWVudHMvMS4xLyI+PGRjOmNyZWF0b3I+PHJkZjpTZXEgeG1sbnM6cmRmPSJodHRwOi8vd3d3LnczLm9yZy8xOTk5LzAyLzIyLXJkZi1zeW50YXgtbnMjIj48cmRmOmxpPlNpbW9uIE8nS2VlZmU8L3JkZjpsaT48L3JkZjpTZXE+DQoJCQk8L2RjOmNyZWF0b3I+PC9yZGY6RGVzY3JpcHRpb24+PC9yZGY6UkRGPjwveDp4bXBtZXRhPg0KICAgICAgICAgICAgICAgICAgICAgICAgICAgICAgICAgICAgICAgICAgICAgICAgICAgICAgICAgICAgICAgICAgICAgICAgICAgICAgICAgICAgICAgICAgICAgICAgICAgIAogICAgICAgICAgICAgICAgICAgICAgICAgICAgICAgICAgICAgICAgICAgICAgICAgICAgICAgICAgICAgICAgICAgICAgICAgICAgICAgICAgICAgICAgICAgICAgICAgICAgCiAgICAgICAgICAgICAgICAgICAgICAgICAgICAgICAgICAgICAgICAgICAgICAgICAgICAgICAgICAgICAgICAgICAgICAgICAgICAgICAgICAgICAgICAgICAgICAgICAgICAKICAgICAgICAgICAgICAgICAgICAgICAgICAgICAgICAgICAgICAgICAgICAgICAgICAgICAgICAgICAgICAgICAgICAgICAgICAgICAgICAgICAgICAgICAgICAgICAgICAgIAogICAgICAgICAgICAgICAgICAgICAgICAgICAgICAgICAgICAgICAgICAgICAgICAgICAgICAgICAgICAgICAgICAgICAgICAgICAgICAgICAgICAgICAgICAgICAgICAgICAgCiAgICAgICAgICAgICAgICAgICAgICAgICAgICAgICAgICAgICAgICAgICAgICAgICAgICAgICAgICAgICAgICAgICAgICAgICAgICAgICAgICAgICAgICAgICAgICAgICAgICAKICAgICAgICAgICAgICAgICAgICAgICAgICAgICAgICAgICAgICAgICAgICAgICAgICAgICAgICAgICAgICAgICAgICAgICAgICAgICAgICAgICAgICAgICAgICAgICAgICAgIAogICAgICAgICAgICAgICAgICAgICAgICAgICAgICAgICAgICAgICAgICAgICAgICAgICAgICAgICAgICAgICAgICAgICAgICAgICAgICAgICAgICAgICAgICAgICAgICAgICAgCiAgICAgICAgICAgICAgICAgICAgICAgICAgICAgICAgICAgICAgICAgICAgICAgICAgICAgICAgICAgICAgICAgICAgICAgICAgICAgICAgICAgICAgICAgICAgICAgICAgICAKICAgICAgICAgICAgICAgICAgICAgICAgICAgICAgICAgICAgICAgICAgICAgICAgICAgICAgICAgICAgICAgICAgICAgICAgICAgICAgICAgICAgICAgICAgICAgICAgICAgIAogICAgICAgICAgICAgICAgICAgICAgICAgICAgICAgICAgICAgICAgICAgICAgICAgICAgICAgICAgICAgICAgICAgICAgICAgICAgICAgICAgICAgICAgICAgICAgICAgICAgCiAgICAgICAgICAgICAgICAgICAgICAgICAgICAgICAgICAgICAgICAgICAgICAgICAgICAgICAgICAgICAgICAgICAgICAgICAgICAgICAgICAgICAgICAgICAgICAgICAgICAKICAgICAgICAgICAgICAgICAgICAgICAgICAgICAgICAgICAgICAgICAgICAgICAgICAgICAgICAgICAgICAgICAgICAgICAgICAgICAgICAgICAgICAgICAgICAgICAgICAgIAogICAgICAgICAgICAgICAgICAgICAgICAgICAgICAgICAgICAgICAgICAgICAgICAgICAgICAgICAgICAgICAgICAgICAgICAgICAgICAgICAgICAgICAgICAgICAgICAgICAgCiAgICAgICAgICAgICAgICAgICAgICAgICAgICAgICAgICAgICAgICAgICAgICAgICAgICAgICAgICAgICAgICAgICAgICAgICAgICAgICAgICAgICAgICAgICAgICAgICAgICAKICAgICAgICAgICAgICAgICAgICAgICAgICAgICAgICAgICAgICAgICAgICAgICAgICAgICAgICAgICAgICAgICAgICAgICAgICAgICAgICAgICAgICAgICAgICAgICAgICAgIAogICAgICAgICAgICAgICAgICAgICAgICAgICAgICAgICAgICAgICAgICAgICAgICAgICAgICAgICAgICAgICAgICAgICAgICAgICAgICAgICAgICAgICAgICAgICAgICAgICAgCiAgICAgICAgICAgICAgICAgICAgICAgICAgICAgICAgICAgICAgICAgICAgICAgICAgICAgICAgICAgICAgICAgICAgICAgICAgICAgICAgICAgICAgICAgICAgICAgICAgICAKICAgICAgICAgICAgICAgICAgICAgICAgICAgICAgICAgICAgICAgICAgICAgICAgICAgICAgICAgICAgICAgICAgICAgICAgICAgICAgICAgICAgICAgICAgICAgICAgICAgIAogICAgICAgICAgICAgICAgICAgICAgICAgICAgICAgICAgICAgICAgICAgICAgICAgICAgICAgICAgICAgICAgICAgICAgICAgICAgICAgICAgICAgICAgICAgICAgICAgICAgCiAgICAgICAgICAgICAgICAgICAgICAgICAgICA8P3hwYWNrZXQgZW5kPSd3Jz8+/9sAQwAHBQUGBQQHBgUGCAcHCAoRCwoJCQoVDxAMERgVGhkYFRgXGx4nIRsdJR0XGCIuIiUoKSssKxogLzMvKjInKisq/9sAQwEHCAgKCQoUCwsUKhwYHCoqKioqKioqKioqKioqKioqKioqKioqKioqKioqKioqKioqKioqKioqKioqKioqKioq/8AAEQgAjgKvAwEiAAIRAQMRAf/EAB8AAAEFAQEBAQEBAAAAAAAAAAABAgMEBQYHCAkKC//EALUQAAIBAwMCBAMFBQQEAAABfQECAwAEEQUSITFBBhNRYQcicRQygZGhCCNCscEVUtHwJDNicoIJChYXGBkaJSYnKCkqNDU2Nzg5OkNERUZHSElKU1RVVldYWVpjZGVmZ2hpanN0dXZ3eHl6g4SFhoeIiYqSk5SVlpeYmZqio6Slpqeoqaqys7S1tre4ubrCw8TFxsfIycrS09TV1tfY2drh4uPk5ebn6Onq8fLz9PX29/j5+v/EAB8BAAMBAQEBAQEBAQEAAAAAAAABAgMEBQYHCAkKC//EALURAAIBAgQEAwQHBQQEAAECdwABAgMRBAUhMQYSQVEHYXETIjKBCBRCkaGxwQkjM1LwFWJy0QoWJDThJfEXGBkaJicoKSo1Njc4OTpDREVGR0hJSlNUVVZXWFlaY2RlZmdoaWpzdHV2d3h5eoKDhIWGh4iJipKTlJWWl5iZmqKjpKWmp6ipqrKztLW2t7i5usLDxMXGx8jJytLT1NXW19jZ2uLj5OXm5+jp6vLz9PX29/j5+v/aAAwDAQACEQMRAD8A+kaKKKACiiigAooooAKKKKACiiigAooooAKKKKACiiigAooooAKKKKACiiigAooooAKKKKACiiigAooooAKKKKACiiigAooooAKKKKACiiigAooooAKKKKACiiigAooooAKKKKACiiigAooooAKKKKACiiigAooooAKKKKACiiigAooooAKKKKACiiigAooooAKKKKACiiigAooooAKKKKACiiigAooooAKKKKACiiigAooooAKKKKACiiigAooooAKKKKACiiigAooooAKKKKACiiigAooooAKKKKACiiigAooooAKKKKACiiigAooooAKKKKACiiigAooooAKKKKACiiigAooooAKKKKACiiigAooooAKKKKACiiigAooooAKKKKACiiigAooooAKKKKACiiigAooooAKKKKACiiigAooooAKKKKACiiigAooooAKKKKACiiigAooooAKKKKACsbU/GHhrRb02eseINMsLkKGMNzdxxuAehwSDWzXn+labY6h8ZfGH2+yt7rZZadt86JX25E2cZHHSgDc/4WN4K/6G7Q//AAYxf/FUf8LG8Ff9Ddof/gxi/wDiq0v+Ec0P/oDaf/4Cp/hR/wAI5of/AEBtP/8AAVP8KAM3/hY3gr/obtD/APBjF/8AFUf8LG8Ff9Ddof8A4MYv/iq0v+Ec0P8A6A2n/wDgKn+FH/COaH/0BtP/APAVP8KAM3/hY3gr/obtD/8ABjF/8VR/wsbwV/0N2h/+DGL/AOKrS/4RzQ/+gNp//gKn+FH/AAjmh/8AQG0//wABU/woAzf+FjeCv+hu0P8A8GMX/wAVR/wsbwV/0N2h/wDgxi/+KrnviZoWkQaZoJh0uyjLeIdPRilugypmGQeOh9K7P/hHND/6A2n/APgKn+FAGb/wsbwV/wBDdof/AIMYv/iqP+FjeCv+hu0P/wAGMX/xVaX/AAjmh/8AQG0//wABU/wo/wCEc0P/AKA2n/8AgKn+FAGb/wALG8Ff9Ddof/gxi/8AiqP+FjeCv+hu0P8A8GMX/wAVWl/wjmh/9AbT/wDwFT/Cj/hHND/6A2n/APgKn+FAGb/wsbwV/wBDdof/AIMYv/iqP+FjeCv+hu0P/wAGMX/xVaX/AAjmh/8AQG0//wABU/wpsnhzRBE2NG0/of8Al1T/AAoAz/8AhY3gr/obtD/8GMX/AMVR/wALG8Ff9Ddof/gxi/8AiqwPhLoWk3Hwm8PTXGl2Usr2oLO9ujMx3HqSK7H/AIRzQ/8AoDaf/wCAqf4UAZv/AAsbwV/0N2h/+DGL/wCKo/4WN4K/6G7Q/wDwYxf/ABVaX/COaH/0BtP/APAVP8KP+Ec0P/oDaf8A+Aqf4UAZv/CxvBX/AEN2h/8Agxi/+Ko/4WN4K/6G7Q//AAYxf/FVpf8ACOaH/wBAbT//AAFT/Cj/AIRzQ/8AoDaf/wCAqf4UAZv/AAsbwV/0N2h/+DGL/wCKo/4WN4K/6G7Q/wDwYxf/ABVaX/COaH/0BtP/APAVP8K4y30PST8cr+A6XZGEeHoHEf2dNoY3EozjGM8daAOh/wCFjeCv+hu0P/wYxf8AxVH/AAsbwV/0N2h/+DGL/wCKrS/4RzQ/+gNp/wD4Cp/hR/wjmh/9AbT/APwFT/CgDN/4WN4K/wChu0P/AMGMX/xVH/CxvBX/AEN2h/8Agxi/+KrS/wCEc0P/AKA2n/8AgKn+FH/COaH/ANAbT/8AwFT/AAoAzf8AhY3gr/obtD/8GMX/AMVR/wALG8Ff9Ddof/gxi/8Aiq0v+Ec0P/oDaf8A+Aqf4Uf8I5of/QG0/wD8BU/woAzf+FjeCv8AobtD/wDBjF/8VR/wsbwV/wBDdof/AIMYv/iq43486Lpdp8FdcmtNNs4JV8jbJFAqsP38Y6gV2fh7w9or+GNLZ9IsGZrOEkm2QknYPagBP+FjeCv+hu0P/wAGMX/xVH/CxvBX/Q3aH/4MYv8A4qtL/hHND/6A2n/+Aqf4Uf8ACOaH/wBAbT//AAFT/CgDN/4WN4K/6G7Q/wDwYxf/ABVH/CxvBX/Q3aH/AODGL/4qtL/hHND/AOgNp/8A4Cp/hR/wjmh/9AbT/wDwFT/CgDN/4WN4K/6G7Q//AAYxf/FUf8LG8Ff9Ddof/gxi/wDiq0v+Ec0P/oDaf/4Cp/hR/wAI5of/AEBtP/8AAVP8KAM3/hY3gr/obtD/APBjF/8AFUf8LG8Ff9Ddof8A4MYv/iq888JaPpkn7SPjq2k060eCKztDHE0ClUJjTOBjAr1X/hHND/6A2n/+Aqf4UAZv/CxvBX/Q3aH/AODGL/4qj/hY3gr/AKG7Q/8AwYxf/FVpf8I5of8A0BtP/wDAVP8ACj/hHND/AOgNp/8A4Cp/hQBm/wDCxvBX/Q3aH/4MYv8A4qj/AIWN4K/6G7Q//BjF/wDFVpf8I5of/QG0/wD8BU/wo/4RzQ/+gNp//gKn+FAGb/wsbwV/0N2h/wDgxi/+Ko/4WN4K/wChu0P/AMGMX/xVaX/COaH/ANAbT/8AwFT/AArzv486Lpdp8FdcmtNNs4JV8jbJFAqsP38Y6gUAdl/wsbwV/wBDdof/AIMYv/iqP+FjeCv+hu0P/wAGMX/xVZ/w90DR5vhn4akl0mxeR9KtmZmtkJYmJcknFdF/wjmh/wDQG0//AMBU/wAKAM3/AIWN4K/6G7Q//BjF/wDFUf8ACxvBX/Q3aH/4MYv/AIqtL/hHND/6A2n/APgKn+FH/COaH/0BtP8A/AVP8KAM3/hY3gr/AKG7Q/8AwYxf/FUf8LG8Ff8AQ3aH/wCDGL/4qtL/AIRzQ/8AoDaf/wCAqf4Uf8I5of8A0BtP/wDAVP8ACgDN/wCFjeCv+hu0P/wYxf8AxVH/AAsbwV/0N2h/+DGL/wCKrS/4RzQ/+gNp/wD4Cp/hXlWnaPpjftVatatp1obdfDyOsJgXYG8yPnbjGfegD0P/AIWN4K/6G7Q//BjF/wDFUf8ACxvBX/Q3aH/4MYv/AIqtL/hHND/6A2n/APgKn+FH/COaH/0BtP8A/AVP8KAM3/hY3gr/AKG7Q/8AwYxf/FUf8LG8Ff8AQ3aH/wCDGL/4qtL/AIRzQ/8AoDaf/wCAqf4Uf8I5of8A0BtP/wDAVP8ACgDN/wCFjeCv+hu0P/wYxf8AxVH/AAsbwV/0N2h/+DGL/wCKrS/4RzQ/+gNp/wD4Cp/hR/wjmh/9AbT/APwFT/CgDN/4WN4K/wChu0P/AMGMX/xVH/CxvBX/AEN2h/8Agxi/+KrA+LWhaRb/AAl8Qy2+l2UUi2hKuluikfMOhArr4/DmieUn/Em0/wC6P+XVP8KAM/8A4WN4K/6G7Q//AAYxf/FUf8LG8Ff9Ddof/gxi/wDiq0v+Ec0P/oDaf/4Cp/hR/wAI5of/AEBtP/8AAVP8KAM3/hY3gr/obtD/APBjF/8AFUf8LG8Ff9Ddof8A4MYv/iq0v+Ec0P8A6A2n/wDgKn+FH/COaH/0BtP/APAVP8KAM3/hY3gr/obtD/8ABjF/8VR/wsbwV/0N2h/+DGL/AOKrS/4RzQ/+gNp//gKn+FH/AAjmh/8AQG0//wABU/woAzf+FjeCv+hu0P8A8GMX/wAVR/wsbwV/0N2h/wDgxi/+KrjfhFoulXP/AAmv2jTLOXy/FV6ieZbq21RswoyOB7V6J/wjmh/9AbT/APwFT/CgDN/4WN4K/wChu0P/AMGMX/xVH/CxvBX/AEN2h/8Agxi/+KrS/wCEc0P/AKA2n/8AgKn+FH/COaH/ANAbT/8AwFT/AAoAzf8AhY3gr/obtD/8GMX/AMVR/wALG8Ff9Ddof/gxi/8Aiq0v+Ec0P/oDaf8A+Aqf4Uf8I5of/QG0/wD8BU/woAzf+FjeCv8AobtD/wDBjF/8VVnT/GvhfVr6Oy0vxFpV7dSZ2QW95G7tgZOFByeATVn/AIRzQ/8AoDaf/wCAqf4VyHiXS7Cw+JXgNrGxtrZmvLsMYYVQkfZZOuBQB6DRRRQAUUUUAFFFFABRRRQAUUUUAFcT4f8A+SyeMv8Ary07+U1dtXE+H/8AksnjL/ry07+U1AHbUUUUAFFcf498X6r4cit7Lw3oNxrGq3qt5PG2CEDGWkft14HU+1ZnwY8Z6v438GSah4gMJu0upIiYU2LgHjigD0OiiigDifij/wAgvw//ANjHp3/o8V21cT8Uf+QX4f8A+xj07/0eK7agAooqnq2oppGj3WoSwzTpbRNKYoE3yPgZwq9yaALlFeL6B8UfF+q/F+w0XV9Ii0fS760e4gtJBun2gkBnbsSQfl7V7RQAU2T/AFT/AO6adTZP9U/+6aAON+D/APySDw5/16D/ANCNdpXF/B//AJJB4c/69B/6Ea7SgAoorxiHxN46+JXiXWE8Eaxb6BomlXDWsdw1qs73Ui/eJ3cAfT1oA9norzf4YeONa1jVtb8LeMFh/tzRJQrzQLtSeNvuvjsf8RXpFABXE23/ACXrUP8AsXLf/wBKJa7auJtv+S9ah/2Llv8A+lEtAHbUUUUAFFcz438VXfhfTYDpWi3Ws6hdyGK3t4BhQ2M7pH6KvvXM/Bzxv4h8YQa6vipbdLvT79rbZbptVMAZXqc4OeaAPTKKKKAPNv2gf+SG69/2w/8AR8ddv4c/5FXSv+vKH/0AVxH7QP8AyQ3Xv+2H/o+Ou38Of8irpX/XlD/6AKANKiioL+9h03Trm9um2QW0TSyN6Koyf0FAE9FeIaHq/wAUviNps3iTQNbs9CsGdjY2DWayeagOBvc5IJx2rtfhR48uPHXhZ5tTgW31Sxna1vI0GF8xepHscigDuqKKKAPJPB//ACc34+/68rT/ANFpXrdeSeD/APk5vx9/15Wn/otK9boAKKK5Px34u1Hw1bW1voGhXGs6pfbxbog2wxbcZaR/4R8w470AdZRXnHwY8a61428NX114j8j7Xb3skH7hNqgDHH869HoAK82/aB/5Ibr3/bD/ANHx16TXm37QP/JDde/7Yf8Ao+OgDpfhz/yS/wAL/wDYJtf/AEUtdJXN/Dn/AJJf4X/7BNr/AOilrpKACiivF/HPxv1TSdUih8MaC0mnx6gtlc6lfRssbuWIKRLkE9D83TjpQB7RRUcEnm28chGNyg1JQAV5Jpv/ACdrrH/YuJ/6Mjr1uvJNN/5O11j/ALFxP/RkdAHrdFFFABRXM+N/FV34X0yFtL0W61nULuQxW9vAMKGxndI/RV965f4OeOPEPjBNdj8UrbJdafftb7LdNqpgDK9TnBzzQB6dRRRQBxfxg/5JB4j/AOvQ/wDoQrso/wDVJ/uiuN+MH/JIPEf/AF6H/wBCFdlH/qk/3RQA6iisfxb4jt/CXhLUddvFLxWMJk2A8u3RV/EkD8aANiivDYL34wan4Sbxlb65YW6+SbpNF+xKUMYG7bv+9nHv+NemfD3xhH458E2OuRx+U86YljH8Dg4YfTINAHTUUUUAebfBz/meP+xtvv8A2SvSa82+Dn/M8f8AY233/slek0AFFFeTeJfF/ivxJ8SrnwZ4CvYNLTTYlfUNSkgEzB2GQiqeOn9fTkA9Zoryjwh4x8UaL8SZPAvj26t9QnmthdWOoQxCMyrnBDKOM8H8jXq9ABXE+MP+SkeAf+v27/8ASSSu2rifGH/JSPAP/X7d/wDpJJQB21FFFABRRRQAUUUUAFFFFABRRRQAVxPh/wD5LJ4y/wCvLTv5TV21cT4f/wCSyeMv+vLTv5TUAdtRRRQAyUAxNkfwmvIv2bf+Se3X/YQm/wDQq7Xxq3jlfsw8CporowYXI1PzM5427dn45z7VwXwu8IfEnwI0WmXKaDJo8lw01yyNKZhu67TgDrjqKAPaKKKKAOJ+KP8AyC/D/wD2Menf+jxXbVxPxR/5Bfh//sY9O/8AR4rtqACjr1oqpqv9oDSLr+xfs/8AaHlN9m+058vzMfLuxzjPpQB5P4kAH7VHh0Dj/iSt/wChvXsdeD33g/4u3/j+z8XTJ4YF/Z2xtY0VpvLKkk5I6559a9o0J9VfRbY+IUtk1HYPPFrny93fbnnH1oA0KbJ/qn/3TTqbJ/qn/wB00Acb8H/+SQeHP+vQf+hGu0ri/g//AMkg8Of9eg/9CNdpQAybPkSY67TivIP2ajn4d3e//XDUZvN9d2RXsR5FeM2/hLx58OvEesv4CtdN1TR9WuDcrb3cjRtbSN16dR/QCgB3hpc/tUeLWh+4LCAS/wC9sTH6V7JXnnwy8C6n4eutW17xRcxXOvazN5ty0IwiAdEX2Ga9DoAK4m2/5L1qH/YuW/8A6US121cTbf8AJetQ/wCxct//AEoloA7aiiigBCAeozXj/wAC/wDkNeO/+w/P/wChV33jJ/GCWMB8DJpT3PmHzxqYk27McbdnfPrXmfgTwh8UvCGuXs2zw69rq2om8vstMXUM2XEfAA4zjOaAPb6KBnAz1ooA82/aB/5Ibr3/AGw/9Hx12/hz/kVdK/68of8A0AVxH7QP/JDde/7Yf+j467fw5/yKulf9eUP/AKAKANKuV+KHmf8ACqfE/lfe/syf8thz+ma6qq9/ZQalptzY3ab4LmJopF9VYYI/I0AcX8FTGfhDoJixj7Mucevf9a5X4GA/8JR49aL/AI9zrs+z/vo//Wqtovhz4q+ANKn8M+GItJ1HTd7/AGK/uZGV4FYk/MvcjPvXd/DDwKfAnhYWVxP9pvZ5GnupsffkbqaAO0ooooA8k8H/APJzfj7/AK8rT/0Wlet15J4P/wCTm/H3/Xlaf+i0r1ugApGAKnIzxS1y/jR/GyR2v/CCJo7nLfaRqfme23bs/HOfagDhf2df+Ra1z/sLz/zFexV4p8NfB/xM8D3RtJU0CTTLq8a4uyHlMo3ddnAH517WOnNABXm37QP/ACQ3Xv8Ath/6Pjr0mvNv2gf+SG69/wBsP/R8dAHS/Dn/AJJf4X/7BNr/AOilrpK5v4c/8kv8L/8AYJtf/RS10lABXkP7RKKngvRSqgE67bZwOvD169Xh3xO0n4m+NVXS4/DumR2NlqS3VvOl4d0qoWC5B6ZB5oA9qsv+PGH/AHB/Kp65fwRfeKbvT5V8YaTa6bNGwWEW0xkDrjqc9DmuooAK8k03/k7XWP8AsXE/9GR163Xkmm/8na6x/wBi4n/oyOgD1uiiigBCAeozXjvwN/5GHx5/2Hrj/wBCr0Hxi/i9LCA+Bl0p7nzD5w1MSbdmONuzvn1rzHwN4P8Ail4R16+udnh2S21bUDd3w3SllDNlxHwAOM4zmgD3CikXO0buuOaWgDi/jB/ySDxH/wBeh/8AQhXZR/6pP90Vxvxg/wCSQeI/+vQ/+hCuyj/1Sf7ooAdXmP7Q+/8A4Unq2z7vmQb/AKeav9cV6dWP4t8OW3i3wnqOhXpKxXsJj3gZKHqrD6EA/hQBX8PmD/hALM8eR9hBOOm3Z/hXAfs1CQfCxd/3DdSlPpu/xzWbDoXxfs/CJ8FQx6P9k8o2o1fzGMghPHCf3tvH+c16h4G8KweDPCNlots29bdMM56s3Un8STQB0NFFFAHm3wc/5nj/ALG2+/8AZK9Jrzb4Of8AM8f9jbff+yV6TQAV4x8KTn40fEYS/wCu+3r167fmx+lez15P4k8F+K/D/wASbnxn8P0s7w6lEsd/p925QMyjAdSPYD9fWgCj45Un9pjwWYR84sZjJ/u/Pj9a9mry3wZ4J8SXnj648b+PXtV1FoBbWtpaEmO3iBzjJ6nP9fWvUqACuJ8Yf8lI8A/9ft3/AOkkldtXE+MP+SkeAf8Ar9u//SSSgDtqKKKACiiigAooooAKKKKACiiigArifD//ACWTxl/15ad/Kau2ry8+L9A8J/GPxUfEeqQaeLmysPJ87Pz7RLuxgdsj86APUKK4v/hcHgD/AKGmx/Nv8KP+FweAP+hpsfzb/CgDtKK4v/hcHgD/AKGmx/Nv8KP+FweAP+hpsfzb/CgDtKK4v/hcHgD/AKGmx/Nv8KP+FweAP+hpsfzb/CgBvxR/5Bfh/wD7GPTv/R4rtq8f+IPxN8Gapp+ipp/iG0naDXbG4kCE/LGkoLMeOgHNdZ/wuDwB/wBDTY/m3+FAHaUVxf8AwuDwB/0NNj+bf4Uf8Lg8Af8AQ02P5t/hQB2lFcX/AMLg8Af9DTY/m3+FH/C4PAH/AENNj+bf4UAdpTZP9U/+6a43/hcHgD/oabH82/wpsnxf8AGNgPFNjnB7t/hQA74P/wDJIPDn/XoP/QjXaV5B8Mfid4M0f4Y6FYan4htLa7t7YLLC5bchyeDxXV/8Lg8Af9DTY/m3+FAHaUVxf/C4PAH/AENNj+bf4Uf8Lg8Af9DTY/m3+FAHaUVxf/C4PAH/AENNj+bf4Uf8Lg8Af9DTY/m3+FAHaVxNt/yXrUP+xct//SiWnf8AC4PAH/Q02P5t/hXJQfE7wYvxjvdUbxDaCxfQ4LdZ8ttMgnkYr064IP40Aew0Vxf/AAuDwB/0NNj+bf4Uf8Lg8Af9DTY/m3+FAHaUVxf/AAuDwB/0NNj+bf4Uf8Lg8Af9DTY/m3+FAHaUVxf/AAuDwB/0NNj+bf4Uf8Lg8Af9DTY/m3+FAGV+0D/yQ3Xv+2H/AKPjrt/Dn/Iq6V/15Q/+gCvIvjT8R/CHiD4R6xpmja9a3l7P5PlwRZLNiZGPb0BNdZoXxa8CW3h3ToJ/E1kksVrEjqS2VIQAjpQB6HRXF/8AC4PAH/Q02P5t/hR/wuDwB/0NNj+bf4UAdpRXF/8AC4PAH/Q02P5t/hR/wuDwB/0NNj+bf4UAdpRXF/8AC4PAH/Q02P5t/hR/wuDwB/0NNj+bf4UAcx4P/wCTm/H3/Xlaf+i0r1uvAfC/xB8KWfx+8Z6zc63bRade2tsltctnbKyogYDjsQa9K/4XB4A/6Gmx/Nv8KAO0ori/+FweAP8AoabH82/wo/4XB4A/6Gmx/Nv8KAO0ori/+FweAP8AoabH82/wo/4XB4A/6Gmx/Nv8KAO0rzb9oH/khuvf9sP/AEfHWr/wuDwB/wBDTY/m3+FcJ8afiP4Q8QfCPWNM0bXrW8vZ/J8uCLJZsTIx7egJoA9L+HP/ACS/wv8A9gm1/wDRS10leW+Bvin4I034feH7K+8R2cNzbabbxTRMWyjrGoIPHYit7/hcHgD/AKGmx/Nv8KAO0ori/wDhcHgD/oabH82/wo/4XB4A/wChpsfzb/CgDtKK4v8A4XB4A/6Gmx/Nv8KP+FweAP8AoabH82/woA7SvJNN/wCTtdY/7FxP/RkddP8A8Lg8Af8AQ02P5t/hXmth8QfCsf7Sep69Jrdsuly6Etul0SdjSb0O3p1wD+VAHv1FcX/wuDwB/wBDTY/m3+FH/C4PAH/Q02P5t/hQB2lFcX/wuDwB/wBDTY/m3+FH/C4PAH/Q02P5t/hQB2lFcX/wuDwB/wBDTY/m3+FH/C4PAH/Q02P5t/hQAfGD/kkHiP8A69D/AOhCuyj/ANUn+6K8i+J3xO8Gax8Mtc0/TPENpc3dxbFIokJy5yOBxXUp8X/AAjUHxTY5AHdv8KAO2ori/wDhcHgD/oabH82/wo/4XB4A/wChpsfzb/CgDtKK4v8A4XB4A/6Gmx/Nv8KP+FweAP8AoabH82/woA7SiuL/AOFweAP+hpsfzb/Cj/hcHgD/AKGmx/Nv8KAMr4Of8zx/2Nt9/wCyV6TXiHwu+I/hDR/+Et/tPXrW2+2eJLu6t/MJ/eRNt2uOOhwa7v8A4XB4A/6Gmx/Nv8KAO0ori/8AhcHgD/oabH82/wAKP+FweAP+hpsfzb/CgDtKK4v/AIXB4A/6Gmx/Nv8ACj/hcHgD/oabH82/woA7SuJ8Yf8AJSPAP/X7d/8ApJJTv+FweAP+hpsfzb/CsDUPGvhzxV8TvA8Ph3VrfUJILq7eVYc/IDayAE5HrQB6nRRRQAUUUUAFFFFABRRRQAUUUUAFIUVjllBPuKWigBvlp/cX8qPLT+4v5U6igBvlp/cX8qPLT+4v5U6igBvlp/cX8qPLT+4v5U6igBvlp/cX8qPLT+4v5U6igBvlp/cX8qPLT+4v5U6igBvlp/cX8qPLT+4v5U6igBvlp/cX8qPLT+4v5U6igBvlp/cX8qPLT+4v5U6igBvlp/cX8qPLT+4v5U6igBvlp/cX8qPLT+4v5U6igBvlp/cX8qPLT+4v5U6igBvlp/cX8qPLT+4v5U6igBvlp/cX8qPLT+4v5U6igBvlp/cX8qPLT+4v5U6igBvlp/cX8qPLT+4v5U6igBvlp/cX8qPLT+4v5U6igBvlp/cX8qPLT+4v5U6igBvlp/cX8qPLT+4v5U6igBvlp/cX8qPLT+4v5U6igBvlp/cX8qPLT+4v5U6igBvlp/cX8qPLT+4v5U6igBvlp/cX8qPLT+4v5U6igBvlp/cX8qPLT+4v5U6igBvlp/cX8qPLT+4v5U6igBvlp/cX8qPLT+4v5U6igBvlp/cX8qPLT+4v5U6igBvlp/cX8qPLT+4v5U6igBvlp/cX8qPLT+4v5U6igBvlp/cX8qPLT+4v5U6igBvlp/cX8qPLT+4v5U6igBvlp/cX8qPLT+4v5U6igBvlp/cX8qPLT+4v5U6igBvlp/cX8qPLT+4v5U6igBvlp/cX8qPLT+4v5U6igBvlp/cX8qPLT+4v5U6igBvlp/cX8qPLT+4v5U6igBvlp/cX8qAiA5CqD7CnUUAFFFFABRRRQAUUUUAFFFFABRRRQAUUUUAFFFFABRRRQAUUUUAFFFFABRRRQAUUUUAFFFFABRRRQAUUUUAFFFFABRRRQAUUUUAFFFFABRRRQAUUUUAFFFFABRRRQAUUUUAFFFFABRRRQAUUUUAFFFFABRRRQAUUUUAFFFFABRRRQAUUUUAFFFFABRRRQAUUUUAFFFFABRRRQAUUUUAFFFFABRRRQAUUUUAFFFFABRRRQAUUUUAFFFFABRRRQAUUUUAFFFFABRRRQAUUUUAFFFFABRRRQAUUUUAFFFFABRRRQAUUUUAFFFFABRRRQAUUUUAFFFFABRRRQAUUUUAFFFFABRRRQAUUUUAFFFFABRRRQAUUUUAFFFFABRRRQAUUUUAFFFFABRRRQAUUUUAFFFFABRRRQAUUUUAFFFFABRRRQAUUUUAFFFFABRRRQAUUUUAFFFFABRRRQAUUUUAFFFFABRRRQB//2Q==)\n"
      ]
    },
    {
      "cell_type": "code",
      "execution_count": null,
      "metadata": {
        "id": "ksAQl6GLlvDj"
      },
      "outputs": [],
      "source": [
        "import random\n",
        "from deap import algorithms, base, creator, tools"
      ]
    },
    {
      "cell_type": "markdown",
      "metadata": {
        "id": "5eTGrCy2lvDj"
      },
      "source": [
        "# Defining individuals"
      ]
    },
    {
      "cell_type": "code",
      "execution_count": null,
      "metadata": {
        "scrolled": true,
        "id": "Q3TJqVUClvDj"
      },
      "outputs": [],
      "source": [
        "creator.create(\"FitnessMax\", base.Fitness, weights=(1.0,))\n",
        "creator.create(\"Individual\", list, fitness=creator.FitnessMax)"
      ]
    },
    {
      "cell_type": "code",
      "execution_count": null,
      "metadata": {
        "id": "3aGM6PDilvDk"
      },
      "outputs": [],
      "source": [
        "toolbox = base.Toolbox()"
      ]
    },
    {
      "cell_type": "code",
      "execution_count": null,
      "metadata": {
        "id": "vLk7u53slvDk"
      },
      "outputs": [],
      "source": [
        "toolbox.register(\"attr_bool\", random.randint, 0, 1)\n",
        "toolbox.register(\"individual\", tools.initRepeat, creator.Individual, toolbox.attr_bool, n=100)\n",
        "toolbox.register(\"population\", tools.initRepeat, list, toolbox.individual)"
      ]
    },
    {
      "cell_type": "markdown",
      "metadata": {
        "id": "eSeiY0NjlvDk"
      },
      "source": [
        "# Defining evolutionary operators"
      ]
    },
    {
      "cell_type": "code",
      "execution_count": null,
      "metadata": {
        "id": "MWzPMHDClvDk"
      },
      "outputs": [],
      "source": [
        "def evalOneMax(individual):\n",
        "    return (sum(individual),)"
      ]
    },
    {
      "cell_type": "code",
      "execution_count": null,
      "metadata": {
        "id": "B_67ociklvDl"
      },
      "outputs": [],
      "source": [
        "toolbox.register(\"evaluate\", evalOneMax)\n",
        "toolbox.register(\"select\", tools.selTournament, tournsize=3)\n",
        "\n",
        "toolbox.register(\"mate\", tools.cxUniform, indpb=0.1)\n",
        "toolbox.register(\"mutate\", tools.mutFlipBit, indpb=0.01)\n",
        "\n",
        "#logbook = tools.Logbook()"
      ]
    },
    {
      "cell_type": "markdown",
      "metadata": {
        "id": "ZFuPZtsslvDl"
      },
      "source": [
        "# Coding the main body of the algorithm"
      ]
    },
    {
      "cell_type": "code",
      "execution_count": null,
      "metadata": {
        "scrolled": true,
        "id": "Z6WqFg_ulvDl"
      },
      "outputs": [],
      "source": [
        "pop = toolbox.population(n=300)\n",
        "\n",
        "fitnesses = list(map(toolbox.evaluate, pop))\n",
        "for ind, fit in zip(pop, fitnesses):\n",
        "    ind.fitness.values = fit\n",
        "\n",
        "NGEN = 50\n",
        "\n",
        "for g in range(NGEN):\n",
        "    print(\"-- Generation %i --\" % g)\n",
        "\n",
        "    offspring = toolbox.select(pop, len(pop))\n",
        "    offspring = list(map(toolbox.clone, offspring))\n",
        "\n",
        "    for child1, child2 in zip(offspring[::2], offspring[1::2]):\n",
        "        toolbox.mate(child1, child2)\n",
        "        del child1.fitness.values\n",
        "        del child2.fitness.values\n",
        "\n",
        "    for mutant in offspring:\n",
        "        toolbox.mutate(mutant)\n",
        "        del mutant.fitness.values\n",
        "\n",
        "    invalid_ind = [ind for ind in offspring if not ind.fitness.valid]\n",
        "    fitnesses = map(toolbox.evaluate, invalid_ind)\n",
        "    for ind, fit in zip(invalid_ind, fitnesses):\n",
        "         ind.fitness.values = fit\n",
        "\n",
        "    pop[:] = offspring\n",
        "\n",
        "    #record = stats.compile(pop)\n",
        "    #logbook.record(gen=g, **record)"
      ]
    },
    {
      "cell_type": "markdown",
      "metadata": {
        "id": "gnVQJWgRlvDm"
      },
      "source": [
        "Now let's have a look at the best individual"
      ]
    },
    {
      "cell_type": "code",
      "execution_count": null,
      "metadata": {
        "id": "buKdNPE7lvDm"
      },
      "outputs": [],
      "source": [
        "best_ind = tools.selBest(pop, 1)[0]\n",
        "print(\"Best individual is %s\" % (best_ind))\n",
        "print(\"With fitness %s\" % (best_ind.fitness.values))"
      ]
    },
    {
      "cell_type": "markdown",
      "metadata": {
        "id": "tW7ytec4lvDm"
      },
      "source": [
        "An interesting thing about this example is that if you don't have mutation set low, it's difficult to find a good solution. Why is this?"
      ]
    },
    {
      "cell_type": "markdown",
      "metadata": {
        "id": "dUaG1g24lvDm"
      },
      "source": [
        "# Basic statistics for tracking progress"
      ]
    },
    {
      "cell_type": "markdown",
      "metadata": {
        "id": "3LDa-hHFlvDn"
      },
      "source": [
        "The toolbox also has a statistics tracker. Below, we define a new statistics tracker. Note that we need to provide it with a function (hence the lambda). All we actually supply is the fitness value, which is the thing we want to perform the statistics on."
      ]
    },
    {
      "cell_type": "code",
      "execution_count": null,
      "metadata": {
        "id": "1eD-UcB2lvDn"
      },
      "outputs": [],
      "source": [
        "stats = tools.Statistics(key=lambda ind: ind.fitness.values)"
      ]
    },
    {
      "cell_type": "markdown",
      "metadata": {
        "id": "FGBB6HVolvDn"
      },
      "source": [
        "We then register the statistics that we want to record. Here, we register some basic numpy functions."
      ]
    },
    {
      "cell_type": "code",
      "execution_count": null,
      "metadata": {
        "id": "QVKbrA7elvDn"
      },
      "outputs": [],
      "source": [
        "import numpy\n",
        "stats.register(\"avg\", numpy.mean)\n",
        "stats.register(\"std\", numpy.std)\n",
        "stats.register(\"min\", numpy.min)\n",
        "stats.register(\"max\", numpy.max)"
      ]
    },
    {
      "cell_type": "markdown",
      "metadata": {
        "id": "ZEcxlnQ2lvDn"
      },
      "source": [
        "To record statistics for the current population, all you need to do is use the compile function on the population."
      ]
    },
    {
      "cell_type": "code",
      "execution_count": null,
      "metadata": {
        "id": "32vO7pCplvDo"
      },
      "outputs": [],
      "source": [
        "record = stats.compile(pop)"
      ]
    },
    {
      "cell_type": "code",
      "execution_count": null,
      "metadata": {
        "id": "SLLbBD-BlvDo"
      },
      "outputs": [],
      "source": [
        "print(record)"
      ]
    },
    {
      "cell_type": "markdown",
      "metadata": {
        "id": "UwHN9-bWlvDo"
      },
      "source": [
        "What if we want to log all of the records, e.g., over generations or different runs of our algorithm? For this we could use the logbook within generations."
      ]
    },
    {
      "cell_type": "code",
      "execution_count": null,
      "metadata": {
        "id": "_YLyhJy3lvDo"
      },
      "outputs": [],
      "source": [
        "logbook = tools.Logbook()\n",
        "logbook.record(gen=0, evals=30, **record)"
      ]
    },
    {
      "cell_type": "markdown",
      "metadata": {
        "id": "D9E-Q6mAlvDo"
      },
      "source": [
        "The code creates a logbook and then records the first record. We have added the generation and number of evaluations, and then include all of the statistics that we just took by including the record object. The ** is Python magic to unpack the records. You can then chose to order the logbook."
      ]
    },
    {
      "cell_type": "code",
      "execution_count": null,
      "metadata": {
        "id": "OpDZyhZ5lvDp"
      },
      "outputs": [],
      "source": [
        "logbook.header = \"gen\", \"avg\", \"evals\", \"std\", \"min\", \"max\""
      ]
    },
    {
      "cell_type": "code",
      "execution_count": null,
      "metadata": {
        "scrolled": true,
        "id": "LAdQ9nDUlvDp"
      },
      "outputs": [],
      "source": [
        "print(logbook)"
      ]
    },
    {
      "cell_type": "markdown",
      "metadata": {
        "id": "srpMlQsWlvDp"
      },
      "source": [
        "# Plotting basic stats"
      ]
    },
    {
      "cell_type": "markdown",
      "metadata": {
        "id": "zuYVhrxNlvDp"
      },
      "source": [
        "We can use MatplotLib to have a look at how our run went."
      ]
    },
    {
      "cell_type": "code",
      "execution_count": null,
      "metadata": {
        "id": "EbGEhWUglvDq"
      },
      "outputs": [],
      "source": [
        "import matplotlib.pyplot as plt\n",
        "%matplotlib inline"
      ]
    },
    {
      "cell_type": "code",
      "execution_count": null,
      "metadata": {
        "id": "9lOE-xA1lvDq"
      },
      "outputs": [],
      "source": [
        "gen = logbook.select(\"gen\")\n",
        "avgs = logbook.select(\"avg\")\n",
        "stds = logbook.select(\"std\")"
      ]
    },
    {
      "cell_type": "code",
      "execution_count": null,
      "metadata": {
        "scrolled": true,
        "id": "pDUDE8P1lvDq"
      },
      "outputs": [],
      "source": [
        "plt.rc('axes', labelsize=14)\n",
        "plt.rc('xtick', labelsize=14)\n",
        "plt.rc('ytick', labelsize=14)\n",
        "plt.rc('legend', fontsize=14)\n",
        "\n",
        "fig, ax1 = plt.subplots()\n",
        "#line1 = ax1.plot(gen, avgs)\n",
        "line1 = ax1.errorbar(gen, avgs, yerr=stds, errorevery=2)\n",
        "ax1.set_xlabel(\"Generation\")\n",
        "ax1.set_ylabel(\"Mean Fitness\")"
      ]
    },
    {
      "cell_type": "markdown",
      "metadata": {
        "id": "xkfpE6LulvDq"
      },
      "source": [
        "It is important to remember that this is only the result of a single run over time. Because these algorithms are stochastic, you are likely to get a different result every time you run it."
      ]
    },
    {
      "cell_type": "markdown",
      "metadata": {
        "id": "H3gzJ6lslvDq"
      },
      "source": [
        "# Built-in algorithms"
      ]
    },
    {
      "cell_type": "markdown",
      "metadata": {
        "id": "IJDj-SLllvDr"
      },
      "source": [
        "DEAP has built-in algorithms that run through all the processes in each generation. We will not be using this for three reasons.\n",
        "1. Because I want you to understand explicitly what is going on in the algorithm.\n",
        "2. I want you to take ownership over every decision taken in the algorithm.\n",
        "3. This will provide you with more flexibility moving forward."
      ]
    },
    {
      "cell_type": "markdown",
      "metadata": {
        "id": "V91qxPFIlvDr"
      },
      "source": [
        "But for your information, the built-in algorithms can be used as in the example below."
      ]
    },
    {
      "cell_type": "code",
      "execution_count": null,
      "metadata": {
        "id": "Ur2NXkPdlvDr"
      },
      "outputs": [],
      "source": [
        "pop = toolbox.population(n=200)"
      ]
    },
    {
      "cell_type": "code",
      "execution_count": null,
      "metadata": {
        "id": "JYW2mk6ElvDr"
      },
      "outputs": [],
      "source": [
        "result = algorithms.eaSimple(pop, toolbox, cxpb=0.5, mutpb=0.2,\n",
        "                             ngen=100, verbose=False)"
      ]
    },
    {
      "cell_type": "code",
      "execution_count": null,
      "metadata": {
        "scrolled": true,
        "id": "ckQwEnzTlvDr"
      },
      "outputs": [],
      "source": [
        "print('Current best fitness:', evalOneMax(tools.selBest(pop, k=1)[0]))"
      ]
    }
  ],
  "metadata": {
    "kernelspec": {
      "display_name": "Python 3",
      "language": "python",
      "name": "python3"
    },
    "language_info": {
      "codemirror_mode": {
        "name": "ipython",
        "version": 3
      },
      "file_extension": ".py",
      "mimetype": "text/x-python",
      "name": "python",
      "nbconvert_exporter": "python",
      "pygments_lexer": "ipython3",
      "version": "3.8.3"
    },
    "colab": {
      "provenance": []
    }
  },
  "nbformat": 4,
  "nbformat_minor": 0
}