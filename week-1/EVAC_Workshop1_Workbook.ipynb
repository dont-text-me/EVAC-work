{
 "cells": [
  {
   "cell_type": "markdown",
   "metadata": {
    "id": "EZfLs7Qk3ySB"
   },
   "source": [
    "# <span style=\"color:blue\">EVAC Workshop 1: Introduction to GAs in DEAP</span>"
   ]
  },
  {
   "cell_type": "markdown",
   "metadata": {
    "id": "vta6gn6h3ySD"
   },
   "source": [
    "**Module leader**\n",
    "\n",
    "Simon O'Keefe: simon.okeefe@york.ac.uk\n",
    "\n",
    "**Graduate Teaching Assistants**\n",
    "\n",
    "Danny Roberts: danny.roberts@york.ac.uk\n",
    "\n",
    "Tianda Sun: tianda.sun@york.ac.uk"
   ]
  },
  {
   "cell_type": "markdown",
   "metadata": {
    "id": "IDnTSTJI3ySE"
   },
   "source": [
    "## <span style=\"color:#0073e6\">Prerequisites</span>"
   ]
  },
  {
   "cell_type": "markdown",
   "metadata": {
    "id": "jqFYslkO3ySE"
   },
   "source": [
    "Before participating in this practical make sure that you have watched the pre-wrokshop materials:\n",
    "- Lectures 1, 2a and 2b\n",
    "- Code walkthroughs 1 and 2"
   ]
  },
  {
   "cell_type": "markdown",
   "source": [
    "# Colab Packages Install"
   ],
   "metadata": {
    "id": "KzgxUl8V4XG5"
   }
  },
  {
   "cell_type": "code",
   "source": [
    "!pip install deap"
   ],
   "metadata": {
    "id": "pbJaHtpj4SQJ",
    "ExecuteTime": {
     "end_time": "2024-02-05T14:23:31.084623800Z",
     "start_time": "2024-02-05T14:23:14.584677500Z"
    }
   },
   "execution_count": 4,
   "outputs": [
    {
     "name": "stdout",
     "output_type": "stream",
     "text": [
      "Collecting deap"
     ]
    },
    {
     "name": "stderr",
     "output_type": "stream",
     "text": [
      "WARNING: Ignoring invalid distribution -ip (c:\\users\\ivanb\\appdata\\local\\programs\\python\\python39\\lib\\site-packages)\n",
      "WARNING: Ignoring invalid distribution -ip (c:\\users\\ivanb\\appdata\\local\\programs\\python\\python39\\lib\\site-packages)\n",
      "WARNING: Ignoring invalid distribution -ip (c:\\users\\ivanb\\appdata\\local\\programs\\python\\python39\\lib\\site-packages)\n",
      "WARNING: Ignoring invalid distribution -ip (c:\\users\\ivanb\\appdata\\local\\programs\\python\\python39\\lib\\site-packages)\n",
      "WARNING: Ignoring invalid distribution -ip (c:\\users\\ivanb\\appdata\\local\\programs\\python\\python39\\lib\\site-packages)\n",
      "WARNING: Ignoring invalid distribution -ip (c:\\users\\ivanb\\appdata\\local\\programs\\python\\python39\\lib\\site-packages)\n",
      "WARNING: Ignoring invalid distribution -ip (c:\\users\\ivanb\\appdata\\local\\programs\\python\\python39\\lib\\site-packages)\n",
      "WARNING: You are using pip version 21.3.1; however, version 24.0 is available.\n",
      "You should consider upgrading via the 'C:\\users\\ivanb\\appdata\\local\\programs\\python\\python39\\python.exe -m pip install --upgrade pip' command.\n"
     ]
    },
    {
     "name": "stdout",
     "output_type": "stream",
     "text": [
      "\n",
      "  Downloading deap-1.4.1-cp39-cp39-win_amd64.whl (109 kB)\n",
      "Requirement already satisfied: numpy in c:\\users\\ivanb\\appdata\\local\\programs\\python\\python39\\lib\\site-packages (from deap) (1.19.4)\n",
      "Installing collected packages: deap\n",
      "Successfully installed deap-1.4.1\n"
     ]
    }
   ]
  },
  {
   "cell_type": "markdown",
   "metadata": {
    "id": "Ja9j1zmy3ySE"
   },
   "source": [
    "## <span style=\"color:#0073e6\">Learning objectives</span>"
   ]
  },
  {
   "cell_type": "markdown",
   "metadata": {
    "id": "ZZ8-J-Re3ySF"
   },
   "source": [
    "- To gain familiarity with the DEAP toolbox for Python\n",
    "- To understand how to code a simple GA\n",
    "- To understand crossover, selection, representation, and fitness functions\n",
    "- To appreciate how algorithm parameterization can affect performance"
   ]
  },
  {
   "cell_type": "markdown",
   "metadata": {
    "id": "-3adw1Yz3ySF"
   },
   "source": [
    "# <span style=\"color:blue\">Practical Instructions</span>"
   ]
  },
  {
   "cell_type": "markdown",
   "metadata": {
    "id": "n5cORryy3ySF"
   },
   "source": [
    "Below is a max-ones problem implementation (mentioned in the walkthrough) along with a simple GA solution in DEAP. Run the problem and examine the results. Then follow the exercises that follow the code."
   ]
  },
  {
   "cell_type": "markdown",
   "metadata": {
    "id": "sVvziZoE3ySG"
   },
   "source": [
    "# <span style=\"color:blue\">Max Ones implementation</span>"
   ]
  },
  {
   "cell_type": "code",
   "execution_count": 5,
   "metadata": {
    "id": "i67C4WuZ3ySG",
    "ExecuteTime": {
     "end_time": "2024-02-05T14:24:41.295915200Z",
     "start_time": "2024-02-05T14:24:39.730190600Z"
    }
   },
   "outputs": [],
   "source": [
    "import random\n",
    "import numpy\n",
    "import matplotlib.pyplot as plt\n",
    "from deap import algorithms, base, creator, tools"
   ]
  },
  {
   "cell_type": "code",
   "execution_count": 6,
   "metadata": {
    "id": "hmdToxD33ySH",
    "ExecuteTime": {
     "end_time": "2024-02-05T14:24:47.915323800Z",
     "start_time": "2024-02-05T14:24:47.757319700Z"
    }
   },
   "outputs": [],
   "source": [
    "creator.create(\"FitnessMax\", base.Fitness, weights=(1.0,))\n",
    "creator.create(\"Individual\", list, fitness=creator.FitnessMax)\n",
    "\n",
    "toolbox = base.Toolbox()\n",
    "\n",
    "toolbox.register(\"attr_bool\", random.randint, 0, 1)\n",
    "toolbox.register(\"individual\", tools.initRepeat, creator.Individual, toolbox.attr_bool, n=100)\n",
    "toolbox.register(\"population\", tools.initRepeat, list, toolbox.individual)\n",
    "\n",
    "def evalOneMax(individual):\n",
    "    return (sum(individual),)\n",
    "\n",
    "toolbox.register(\"evaluate\", evalOneMax)\n",
    "toolbox.register(\"select\", tools.selTournament, tournsize=3)\n",
    "\n",
    "toolbox.register(\"mate\", tools.cxTwoPoint)\n",
    "toolbox.register(\"mutate\", tools.mutFlipBit, indpb=0.01)"
   ]
  },
  {
   "cell_type": "code",
   "execution_count": 7,
   "metadata": {
    "id": "6WImJJZy3ySI",
    "ExecuteTime": {
     "end_time": "2024-02-05T14:25:10.163711900Z",
     "start_time": "2024-02-05T14:25:10.144705400Z"
    }
   },
   "outputs": [],
   "source": [
    "logbook = tools.Logbook()\n",
    "stats = tools.Statistics(key=lambda ind: ind.fitness.values)\n",
    "stats.register(\"avg\", numpy.mean)\n",
    "stats.register(\"std\", numpy.std)\n",
    "stats.register(\"min\", numpy.min)\n",
    "stats.register(\"max\", numpy.max)"
   ]
  },
  {
   "cell_type": "code",
   "execution_count": 8,
   "metadata": {
    "id": "U7qshLVN3ySI",
    "ExecuteTime": {
     "end_time": "2024-02-05T14:25:14.727661100Z",
     "start_time": "2024-02-05T14:25:14.710659100Z"
    }
   },
   "outputs": [],
   "source": [
    "pop = toolbox.population(n=100)\n",
    "fitnesses = list(map(toolbox.evaluate, pop))\n",
    "for ind, fit in zip(pop, fitnesses):\n",
    "    ind.fitness.values = fit"
   ]
  },
  {
   "cell_type": "code",
   "execution_count": 9,
   "metadata": {
    "scrolled": true,
    "id": "u0UiKoQG3ySJ",
    "ExecuteTime": {
     "end_time": "2024-02-05T14:25:23.281329100Z",
     "start_time": "2024-02-05T14:25:21.170970200Z"
    }
   },
   "outputs": [
    {
     "name": "stdout",
     "output_type": "stream",
     "text": [
      "-- Generation 0 --\n",
      "-- Generation 1 --\n",
      "-- Generation 2 --\n",
      "-- Generation 3 --\n",
      "-- Generation 4 --\n",
      "-- Generation 5 --\n",
      "-- Generation 6 --\n",
      "-- Generation 7 --\n",
      "-- Generation 8 --\n",
      "-- Generation 9 --\n",
      "-- Generation 10 --\n",
      "-- Generation 11 --\n",
      "-- Generation 12 --\n",
      "-- Generation 13 --\n",
      "-- Generation 14 --\n",
      "-- Generation 15 --\n",
      "-- Generation 16 --\n",
      "-- Generation 17 --\n",
      "-- Generation 18 --\n",
      "-- Generation 19 --\n",
      "-- Generation 20 --\n",
      "-- Generation 21 --\n",
      "-- Generation 22 --\n",
      "-- Generation 23 --\n",
      "-- Generation 24 --\n",
      "-- Generation 25 --\n",
      "-- Generation 26 --\n",
      "-- Generation 27 --\n",
      "-- Generation 28 --\n",
      "-- Generation 29 --\n",
      "-- Generation 30 --\n",
      "-- Generation 31 --\n",
      "-- Generation 32 --\n",
      "-- Generation 33 --\n",
      "-- Generation 34 --\n",
      "-- Generation 35 --\n",
      "-- Generation 36 --\n",
      "-- Generation 37 --\n",
      "-- Generation 38 --\n",
      "-- Generation 39 --\n",
      "-- Generation 40 --\n",
      "-- Generation 41 --\n",
      "-- Generation 42 --\n",
      "-- Generation 43 --\n",
      "-- Generation 44 --\n",
      "-- Generation 45 --\n",
      "-- Generation 46 --\n",
      "-- Generation 47 --\n",
      "-- Generation 48 --\n",
      "-- Generation 49 --\n",
      "-- Generation 50 --\n",
      "-- Generation 51 --\n",
      "-- Generation 52 --\n",
      "-- Generation 53 --\n",
      "-- Generation 54 --\n",
      "-- Generation 55 --\n",
      "-- Generation 56 --\n",
      "-- Generation 57 --\n",
      "-- Generation 58 --\n",
      "-- Generation 59 --\n",
      "-- Generation 60 --\n",
      "-- Generation 61 --\n",
      "-- Generation 62 --\n",
      "-- Generation 63 --\n",
      "-- Generation 64 --\n",
      "-- Generation 65 --\n",
      "-- Generation 66 --\n",
      "-- Generation 67 --\n",
      "-- Generation 68 --\n",
      "-- Generation 69 --\n",
      "-- Generation 70 --\n",
      "-- Generation 71 --\n",
      "-- Generation 72 --\n",
      "-- Generation 73 --\n",
      "-- Generation 74 --\n",
      "-- Generation 75 --\n",
      "-- Generation 76 --\n",
      "-- Generation 77 --\n",
      "-- Generation 78 --\n",
      "-- Generation 79 --\n",
      "-- Generation 80 --\n",
      "-- Generation 81 --\n",
      "-- Generation 82 --\n",
      "-- Generation 83 --\n",
      "-- Generation 84 --\n",
      "-- Generation 85 --\n",
      "-- Generation 86 --\n",
      "-- Generation 87 --\n",
      "-- Generation 88 --\n",
      "-- Generation 89 --\n",
      "-- Generation 90 --\n",
      "-- Generation 91 --\n",
      "-- Generation 92 --\n",
      "-- Generation 93 --\n",
      "-- Generation 94 --\n",
      "-- Generation 95 --\n",
      "-- Generation 96 --\n",
      "-- Generation 97 --\n",
      "-- Generation 98 --\n",
      "-- Generation 99 --\n"
     ]
    }
   ],
   "source": [
    "NGEN = 100\n",
    "for g in range(NGEN):\n",
    "    print(\"-- Generation %i --\" % g)\n",
    "\n",
    "    offspring = toolbox.select(pop, len(pop))\n",
    "    offspring = list(map(toolbox.clone, offspring))\n",
    "\n",
    "    for child1, child2 in zip(offspring[::2], offspring[1::2]):\n",
    "        toolbox.mate(child1, child2)\n",
    "        del child1.fitness.values\n",
    "        del child2.fitness.values\n",
    "\n",
    "    for mutant in offspring:\n",
    "        toolbox.mutate(mutant)\n",
    "        del mutant.fitness.values\n",
    "\n",
    "    invalid_ind = [ind for ind in offspring if not ind.fitness.valid]\n",
    "    fitnesses = map(toolbox.evaluate, invalid_ind)\n",
    "    for ind, fit in zip(invalid_ind, fitnesses):\n",
    "         ind.fitness.values = fit\n",
    "\n",
    "    pop[:] = offspring\n",
    "\n",
    "    record = stats.compile(pop)\n",
    "    logbook.record(gen=g, **record)"
   ]
  },
  {
   "cell_type": "code",
   "execution_count": 10,
   "metadata": {
    "id": "SdZ37e253ySJ",
    "ExecuteTime": {
     "end_time": "2024-02-05T14:25:40.643174400Z",
     "start_time": "2024-02-05T14:25:40.608178800Z"
    }
   },
   "outputs": [],
   "source": [
    "logbook.header = \"gen\", \"avg\", \"std\", \"min\", \"max\"\n",
    "gen = logbook.select(\"gen\")\n",
    "avgs = logbook.select(\"avg\")\n",
    "stds = logbook.select(\"std\")"
   ]
  },
  {
   "cell_type": "code",
   "execution_count": 11,
   "metadata": {
    "id": "RbKgifGe3ySK",
    "ExecuteTime": {
     "end_time": "2024-02-05T14:25:44.706109800Z",
     "start_time": "2024-02-05T14:25:44.290109Z"
    }
   },
   "outputs": [
    {
     "data": {
      "text/plain": "Text(0, 0.5, 'Mean Fitness')"
     },
     "execution_count": 11,
     "metadata": {},
     "output_type": "execute_result"
    },
    {
     "data": {
      "text/plain": "<Figure size 432x288 with 1 Axes>",
      "image/png": "[encoded data removed]"
     },
     "metadata": {
      "needs_background": "light"
     },
     "output_type": "display_data"
    }
   ],
   "source": [
    "plt.rc('axes', labelsize=14)\n",
    "plt.rc('xtick', labelsize=14)\n",
    "plt.rc('ytick', labelsize=14)\n",
    "plt.rc('legend', fontsize=14)\n",
    "fig, ax1 = plt.subplots()\n",
    "#line1 = ax1.plot(gen, avgs)\n",
    "line1 = ax1.errorbar(gen, avgs, yerr=stds, errorevery=2)\n",
    "ax1.set_xlabel(\"Generation\")\n",
    "ax1.set_ylabel(\"Mean Fitness\")"
   ]
  },
  {
   "cell_type": "code",
   "execution_count": 12,
   "metadata": {
    "scrolled": true,
    "id": "kwJwDT6F3ySK",
    "ExecuteTime": {
     "end_time": "2024-02-05T14:25:50.452962500Z",
     "start_time": "2024-02-05T14:25:50.365961700Z"
    }
   },
   "outputs": [
    {
     "name": "stdout",
     "output_type": "stream",
     "text": [
      "gen\tavg  \tstd    \tmin\tmax\n",
      "0  \t54.34\t4.46815\t46 \t67 \n",
      "1  \t57.71\t3.74245\t50 \t67 \n",
      "2  \t60.16\t3.56292\t53 \t68 \n",
      "3  \t62.63\t3.41073\t54 \t71 \n",
      "4  \t65.24\t3.32902\t58 \t75 \n",
      "5  \t67.56\t3.21658\t59 \t75 \n",
      "6  \t69.65\t3.00791\t61 \t80 \n",
      "7  \t71.63\t3.35158\t66 \t79 \n",
      "8  \t74.08\t2.7917 \t67 \t81 \n",
      "9  \t75.55\t2.73633\t69 \t83 \n",
      "10 \t76.96\t2.7818 \t70 \t84 \n",
      "11 \t79.19\t3.05841\t72 \t87 \n",
      "12 \t80.91\t2.96343\t74 \t87 \n",
      "13 \t82.86\t2.67215\t76 \t88 \n",
      "14 \t84.13\t2.33519\t78 \t90 \n",
      "15 \t85.3 \t2.18861\t80 \t91 \n",
      "16 \t86.34\t2.13176\t81 \t91 \n",
      "17 \t87.64\t2.22495\t83 \t93 \n",
      "18 \t88.53\t2.13286\t84 \t94 \n",
      "19 \t89.47\t2.17005\t84 \t95 \n",
      "20 \t90.13\t2.18016\t85 \t96 \n",
      "21 \t91.1 \t2.04695\t86 \t96 \n",
      "22 \t92.08\t2.02326\t86 \t96 \n",
      "23 \t92.76\t1.83368\t88 \t96 \n",
      "24 \t93.05\t1.91507\t88 \t98 \n",
      "25 \t93.62\t1.72499\t90 \t99 \n",
      "26 \t94.16\t1.92208\t88 \t99 \n",
      "27 \t94.93\t1.74502\t90 \t99 \n",
      "28 \t95.28\t1.73828\t91 \t99 \n",
      "29 \t95.94\t1.66625\t91 \t99 \n",
      "30 \t96.27\t1.52876\t91 \t99 \n",
      "31 \t96.6 \t1.31909\t93 \t99 \n",
      "32 \t96.7 \t1.38203\t93 \t100\n",
      "33 \t96.84\t1.64754\t91 \t100\n",
      "34 \t96.95\t1.51245\t91 \t100\n",
      "35 \t97.31\t1.58553\t90 \t100\n",
      "36 \t97.65\t1.30671\t93 \t100\n",
      "37 \t97.75\t1.34443\t94 \t100\n",
      "38 \t97.71\t1.48523\t94 \t100\n",
      "39 \t97.89\t1.38488\t93 \t100\n",
      "40 \t97.98\t1.42113\t94 \t100\n",
      "41 \t98.16\t1.29399\t95 \t100\n",
      "42 \t98.04\t1.13947\t95 \t100\n",
      "43 \t98.13\t1.22192\t94 \t100\n",
      "44 \t98.19\t1.03629\t95 \t100\n",
      "45 \t97.96\t1.29553\t94 \t100\n",
      "46 \t98.14\t1.36396\t95 \t100\n",
      "47 \t98.3 \t1.32288\t95 \t100\n",
      "48 \t98.27\t1.42025\t94 \t100\n",
      "49 \t98.41\t1.29688\t95 \t100\n",
      "50 \t98.2 \t1.19164\t95 \t100\n",
      "51 \t98.1 \t1.29228\t94 \t100\n",
      "52 \t97.98\t1.19983\t95 \t100\n",
      "53 \t97.83\t1.3788 \t93 \t100\n",
      "54 \t97.9 \t1.19583\t95 \t100\n",
      "55 \t97.99\t1.43871\t94 \t100\n",
      "56 \t98.12\t1.44416\t94 \t100\n",
      "57 \t98.26\t1.32378\t94 \t100\n",
      "58 \t98.1 \t1.40357\t92 \t100\n",
      "59 \t98.25\t1.21963\t95 \t100\n",
      "60 \t98.19\t1.45393\t94 \t100\n",
      "61 \t97.99\t1.34533\t94 \t100\n",
      "62 \t97.92\t1.54713\t93 \t100\n",
      "63 \t98.29\t1.18571\t94 \t100\n",
      "64 \t98.15\t1.25996\t94 \t100\n",
      "65 \t98.05\t1.35185\t94 \t100\n",
      "66 \t98.2 \t1.27279\t94 \t100\n",
      "67 \t98.27\t1.29503\t93 \t100\n",
      "68 \t98.17\t1.4146 \t95 \t100\n",
      "69 \t98.57\t1.05124\t96 \t100\n",
      "70 \t98.61\t1.05731\t96 \t100\n",
      "71 \t98.53\t1.0436 \t96 \t100\n",
      "72 \t98.41\t1.1584 \t96 \t100\n",
      "73 \t98.43\t1.30579\t93 \t100\n",
      "74 \t98.31\t1.15495\t95 \t100\n",
      "75 \t98.2 \t1.14891\t95 \t100\n",
      "76 \t98.16\t1.25475\t94 \t100\n",
      "77 \t98.23\t1.27165\t93 \t100\n",
      "78 \t98.29\t1.15148\t96 \t100\n",
      "79 \t97.96\t1.19933\t95 \t100\n",
      "80 \t97.97\t1.46598\t94 \t100\n",
      "81 \t98.2 \t1.31909\t93 \t100\n",
      "82 \t98.25\t1.29904\t94 \t100\n",
      "83 \t98.26\t1.28546\t95 \t100\n",
      "84 \t98.15\t1.35923\t95 \t100\n",
      "85 \t98.42\t1.22621\t94 \t100\n",
      "86 \t98.26\t1.30092\t94 \t100\n",
      "87 \t98.12\t1.098  \t95 \t100\n",
      "88 \t98.04\t1.26428\t94 \t100\n",
      "89 \t97.73\t1.37735\t94 \t100\n",
      "90 \t97.87\t1.1546 \t95 \t100\n",
      "91 \t97.74\t1.39011\t93 \t100\n",
      "92 \t97.73\t1.3554 \t94 \t100\n",
      "93 \t97.69\t1.45393\t92 \t100\n",
      "94 \t98.03\t1.20379\t94 \t100\n",
      "95 \t97.88\t1.43722\t93 \t100\n",
      "96 \t98.06\t1.23142\t94 \t100\n",
      "97 \t98.11\t1.15668\t95 \t100\n",
      "98 \t98.02\t1.19983\t95 \t100\n",
      "99 \t98.07\t1.32102\t95 \t100\n"
     ]
    }
   ],
   "source": [
    "print(logbook)"
   ]
  },
  {
   "cell_type": "markdown",
   "metadata": {
    "id": "SBVvl3eR3ySK"
   },
   "source": [
    "# <span style=\"color:blue\">Exercise 1: Getting to know the GA</span>"
   ]
  },
  {
   "cell_type": "markdown",
   "metadata": {
    "id": "Qy-O8Ntc3ySL"
   },
   "source": [
    "- Try playing with the crossover and mutation probabilities. Can you tweak these parameters to improve performance? Why does the performance improve / not improve / get worse?"
   ]
  },
  {
   "cell_type": "markdown",
   "metadata": {
    "id": "O94t7bc03ySL"
   },
   "source": [
    "- Change the line that creates the fitness class, change weights=(1.0,) to weights=(-1.0,)). This changes the problem from a maximization problem to a minimization problem. What effect does this have?"
   ]
  },
  {
   "cell_type": "markdown",
   "metadata": {
    "id": "suAmla9d3ySL"
   },
   "source": [
    "- This code currently using two-point crossover to combine the genomes of selected parents to produce offspring. This produces offspring by selecting two random positions on the genome, and swapping values between these two positions. Uniform crossover randomly swaps values at each location in the genome with a given probability. Let’s begin customizing our algorithm using uniform crossover instead. Find the definition of the crossover operator, which has been registered in the toolbox as the function ‘mate’. Now change the operator (you can use the Library Reference to find the built-in command for this). Run the program.\n",
    "\n",
    "You might see the following error:  \n",
    "\n",
    "``TypeError: cxUniform() takes exactly 3 arguments (2 given)``  \n",
    "\n",
    "A quick look at the documentation for the cxUniform function will show you that this is because the new crossover function takes an extra argument: the probability of a swap at each position (locus) in the genome. Find the part of the code where mating occurs and pass the toolbox.mate command the extra parameter value (say 0.1). Alternatively, you can define the comment when you register cxUnifrom as “mate”. Now your code will run.\n"
   ]
  },
  {
   "cell_type": "markdown",
   "metadata": {
    "id": "4fGbJXqM3ySL"
   },
   "source": [
    "# <span style=\"color:blue\">Exercise 2: Implement a Real Valued Version</span>"
   ]
  },
  {
   "cell_type": "markdown",
   "metadata": {
    "id": "SdDtWt1W3ySM"
   },
   "source": [
    "Modify the code so that instead of counting binary 1s, the problem is to maximize the total value of genes whose values are real numbers between 0 and 1, inclusive. For example [0.5, 0.2, 0.1, 0.3] would give a fitness value of 1.1."
   ]
  },
  {
   "cell_type": "markdown",
   "metadata": {
    "id": "ZmeIAIan3ySM"
   },
   "source": [
    "# <span style=\"color:blue\">Exercise 3: Write your own operator</span>"
   ]
  },
  {
   "cell_type": "markdown",
   "metadata": {
    "id": "RQbLlRIr3ySM"
   },
   "source": [
    "Let’s write our own mutation operator and register it in the toolbox.  Implement a uniform operator for the real valued version that replaces each value in the genome with a random uniform number between 0 and 1 using a fixed mutation probability per gene, or that adds a float number to the gene.\n",
    "To do this, you need to write your own Python function that takes in an individual, and anything else you need (e.g. probability of mutation per gene) and modifies the individual. The function should return a tuple, with the individual as the first element  e.g. return individual,"
   ]
  },
  {
   "cell_type": "markdown",
   "metadata": {
    "id": "qM66WkP23ySM"
   },
   "source": [
    "# <span style=\"color:blue\">Exercise 4: Change the problem to a ‘deceptive’ problem</span>"
   ]
  },
  {
   "cell_type": "markdown",
   "metadata": {
    "id": "1NMnNt4v3ySM"
   },
   "source": [
    "This exercise will test your understanding of the principles in this practical and teach you about the impact of choices of representation.\n",
    "\n",
    "First, revert back to the original Max Ones code. Now modify the Max Ones problem to implement the following ‘deceptive’ problem. A deceptive problem is just a problem that has local optima in which the algorithm can become trapped. Note that the standard Max Ones problem only has a global optimum.\n",
    "\n",
    "In this problem, the bit string should be split into six blocks of three bits, where each block is assigned a partial fitness based on the number of ones in that block. Here is an example individual:"
   ]
  },
  {
   "cell_type": "markdown",
   "metadata": {
    "id": "XqRM8IsH3ySN"
   },
   "source": [
    "![maxOnes.png](data:image/png;base64,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)"
   ]
  },
  {
   "cell_type": "markdown",
   "metadata": {
    "id": "XFglrgIW3ySN"
   },
   "source": [
    "The fitness for each block of three is given as follows:\n",
    "- 0 ones: partial fitness 0.9\n",
    "- 1 ones: partial fitness 0.8\n",
    "- 2 ones: partial fitness 0.0\n",
    "- 3 ones: partial fitness 1.0"
   ]
  },
  {
   "cell_type": "markdown",
   "metadata": {
    "id": "jyRXfyST3ySN"
   },
   "source": [
    "The fitness of the entire string is then determined by calculating the summed value over all blocks. For example, the individual above has a fitness of:  \n",
    "``(0.8 + 0.0 + 1.0 + 0.8 + 1.0 + 0.9) = 4.5``"
   ]
  },
  {
   "cell_type": "markdown",
   "metadata": {
    "id": "AwnDNtbN3ySO"
   },
   "source": [
    "**Your task: Set the length of the individuals to 18 and implement this problem.**"
   ]
  },
  {
   "cell_type": "markdown",
   "metadata": {
    "id": "ow4abDQk3ySO"
   },
   "source": [
    "<span style=\"color:green\">Questions to think about:  </span>\n",
    "- <span style=\"color:green\">What is it about this fitness landscape that makes it (for some algorithms) difficult to traverse?  </span>\n",
    "- <span style=\"color:green\">What is the global optimum for this problem? What do you think the fitness landscape looks like?  </span>\n",
    "- <span style=\"color:green\">Run the algorithm multiple times. Do you get the same result each time?  </span>\n",
    "- <span style=\"color:green\">Does your algorithm find the global optimum? Why?  </span>\n",
    "- <span style=\"color:green\">Can you improve the result by changing parameters or operators?</span>"
   ]
  },
  {
   "cell_type": "markdown",
   "metadata": {
    "id": "poG-ZBYw3ySO"
   },
   "source": [
    "# <span style=\"color:blue\">Exercise 5: Multiple runs</span>"
   ]
  },
  {
   "cell_type": "markdown",
   "metadata": {
    "id": "icimxB563ySP"
   },
   "source": [
    "Genetic algorithms are stochastic. As such, you might get a different result every time you run it; sometimes, for example, getting stuck on local optima and sometimes now. Try to modify the algorithm to run 50 times. Then record and plot a distribution of the final mean fitness scores. The matplotlib code for a density plot is:  \n",
    "\n",
    "```plt.hist(avgRuns, density=True, bins=10)```  \n",
    "(You might need to change the number of bins)."
   ]
  },
  {
   "cell_type": "markdown",
   "metadata": {
    "id": "xXFMd0qX3ySQ"
   },
   "source": [
    "You should see that, for this problem, there's no a lot of variation. But this is unusual with harder problems."
   ]
  }
 ],
 "metadata": {
  "kernelspec": {
   "display_name": "Python 3",
   "language": "python",
   "name": "python3"
  },
  "language_info": {
   "codemirror_mode": {
    "name": "ipython",
    "version": 3
   },
   "file_extension": ".py",
   "mimetype": "text/x-python",
   "name": "python",
   "nbconvert_exporter": "python",
   "pygments_lexer": "ipython3",
   "version": "3.8.3"
  },
  "colab": {
   "provenance": []
  }
 },
 "nbformat": 4,
 "nbformat_minor": 0
}
