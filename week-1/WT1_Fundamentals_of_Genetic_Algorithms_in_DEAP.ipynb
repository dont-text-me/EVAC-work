{
  "cells": [
    {
      "cell_type": "markdown",
      "metadata": {
        "id": "nhYybC6xlvCI"
      },
      "source": [
        "# Fundamentals of Genetic Algorithms in DEAP\n",
        "\n",
        "Welcome to the first code walkthrough for EVAC. Here we will be taking a look at the elements that comprise a basic evolutionary algorithm using the package DEAP in Python."
      ]
    },
    {
      "cell_type": "markdown",
      "metadata": {
        "id": "923CptOLlvCY"
      },
      "source": [
        "# Elements to take into account using any evolutionary algorithms\n",
        "\n",
        "* **Individual representation**\n",
        "* **Evaluation** and **fitness assignment**\n",
        "\n",
        "The above two are key considerations that need the most thought. But there's also:\n",
        "\n",
        "* **Selection**\n",
        "* **Variation**, produced by applying operators, such as **crossover**, and **mutation**\n",
        "* **Stopping criterion**, that determines when the algorithm shoulod be stopped, either because the optimum was reach or because the optimization process is not progressing."
      ]
    },
    {
      "cell_type": "markdown",
      "metadata": {
        "id": "7GfrMO13lvCb"
      },
      "source": [
        "## The general structure of a generic algorithm\n",
        "\n",
        "    def evolutionary_algorithm():\n",
        "\n",
        "        population = [] # a list with all the individuals in the population\n",
        "\n",
        "        population =  initialize_population(pop_size)\n",
        "        t = 0\n",
        "\n",
        "        while not stop_criterion( population[t] ):\n",
        "            fitnesses = evaluate( population[t] )\n",
        "            populations[t+1] = environmental_selection( population[t], offspring )\n",
        "            offspring = mating_and_mutation( population[t], fitnesses )\n",
        "            t = t+1"
      ]
    },
    {
      "cell_type": "markdown",
      "metadata": {
        "id": "s3D_irQZlvCd"
      },
      "source": [
        "## DEAP: A Python library for evolutionary computation\n",
        "\n",
        "https://deap.readthedocs.io/en/master/\n",
        "\n",
        "\n"
      ]
    },
    {
      "cell_type": "markdown",
      "metadata": {
        "id": "Txn5NtsXlvCf"
      },
      "source": [
        "# Essential features of a DEAP Genetic Algorithm\n",
        "\n",
        "- deap.creator: meta-factory allowing to create classes that will fulfill the needs of your evolutionary algorithms.\n",
        "- deap.base.Toolbox: A toolbox for evolution that contains the evolutionary operators. You may populate the toolbox with any other function by using the register() method\n",
        "- deap.base.Fitness([values]): The fitness is a measure of quality of a solution. If values are provided as a tuple, the fitness is initalized using those values, otherwise it is empty (or invalid). You should inherit from this class to define your custom fitnesses."
      ]
    },
    {
      "cell_type": "markdown",
      "metadata": {
        "id": "yiIyp_3NlvCh"
      },
      "source": [
        "# Defining an individual and their representation"
      ]
    },
    {
      "cell_type": "markdown",
      "metadata": {
        "id": "ZtowUFyPlvCi"
      },
      "source": [
        "First import the required modules and register the different functions required to create individuals that are a list of floats with a minimizin objective\n",
        "fitness."
      ]
    },
    {
      "cell_type": "code",
      "execution_count": null,
      "metadata": {
        "id": "e5PGkk2jlvCk"
      },
      "outputs": [],
      "source": [
        "import random\n",
        "\n",
        "from deap import base\n",
        "from deap import creator\n",
        "from deap import tools"
      ]
    },
    {
      "cell_type": "code",
      "execution_count": null,
      "metadata": {
        "id": "pCnml-7VlvCq"
      },
      "outputs": [],
      "source": [
        "IND_SIZE = 5"
      ]
    },
    {
      "cell_type": "code",
      "execution_count": null,
      "metadata": {
        "id": "W3jgg7GklvCs"
      },
      "outputs": [],
      "source": [
        "creator.create(\"FitnessMin\", base.Fitness, weights=(-1.0,))\n",
        "creator.create(\"Individual\", list, fitness=creator.FitnessMin)\n",
        "\n",
        "toolbox1 = base.Toolbox()\n",
        "toolbox1.register(\"attr_float\", random.random)\n",
        "toolbox1.register(\"individual\", tools.initRepeat, creator.Individual,\n",
        "                 toolbox1.attr_float, n=IND_SIZE)"
      ]
    },
    {
      "cell_type": "markdown",
      "metadata": {
        "id": "O7sjzU_OlvCu"
      },
      "source": [
        "The first individual can now be constructed"
      ]
    },
    {
      "cell_type": "code",
      "execution_count": null,
      "metadata": {
        "id": "uBcVq2zslvCu"
      },
      "outputs": [],
      "source": [
        "ind1 = toolbox1.individual()"
      ]
    },
    {
      "cell_type": "markdown",
      "metadata": {
        "id": "t-ojbq0mlvCw"
      },
      "source": [
        "Printing the individual ind1 and checking if its fitness is valid will give something like this"
      ]
    },
    {
      "cell_type": "code",
      "execution_count": null,
      "metadata": {
        "id": "d_3v7vnmlvCw"
      },
      "outputs": [],
      "source": [
        "print(ind1)"
      ]
    },
    {
      "cell_type": "code",
      "execution_count": null,
      "metadata": {
        "id": "DikVyfKalvCx"
      },
      "outputs": [],
      "source": [
        "ind1.fitness.valid"
      ]
    },
    {
      "cell_type": "markdown",
      "metadata": {
        "id": "T2iZytJclvCy"
      },
      "source": [
        "The individual is printed as its base class representation (here a list) and the fitness is invalid because it contains no values."
      ]
    },
    {
      "cell_type": "markdown",
      "metadata": {
        "id": "BtJMsJ_llvCz"
      },
      "source": [
        "# Defining a population of individuals"
      ]
    },
    {
      "cell_type": "markdown",
      "metadata": {
        "id": "oFqfX-l_lvCz"
      },
      "source": [
        "We can now register a population in the toolbox to fill with our individuals"
      ]
    },
    {
      "cell_type": "code",
      "execution_count": null,
      "metadata": {
        "id": "fje_AbN7lvC0"
      },
      "outputs": [],
      "source": [
        "toolbox1.register(\"population\", tools.initRepeat, list, toolbox1.individual)"
      ]
    },
    {
      "cell_type": "markdown",
      "metadata": {
        "id": "fqmuGibalvC1"
      },
      "source": [
        "And then use it to create an initial population."
      ]
    },
    {
      "cell_type": "code",
      "execution_count": null,
      "metadata": {
        "id": "7mCLy53ElvC1"
      },
      "outputs": [],
      "source": [
        "pop = toolbox1.population(n=20)"
      ]
    },
    {
      "cell_type": "markdown",
      "metadata": {
        "id": "sG81RrvmlvC2"
      },
      "source": [
        "Let's look at the first individual"
      ]
    },
    {
      "cell_type": "code",
      "execution_count": null,
      "metadata": {
        "id": "_f67tGVFlvC2"
      },
      "outputs": [],
      "source": [
        "print( pop[0] )"
      ]
    },
    {
      "cell_type": "markdown",
      "metadata": {
        "id": "0v_65ReelvC3"
      },
      "source": [
        "# Evaluation and fitness"
      ]
    },
    {
      "cell_type": "markdown",
      "metadata": {
        "id": "gdf13f55lvC4"
      },
      "source": [
        "The evaluation is the part of the algorithm that evaluates fitness. For some problems evaluation can be done in many different ways, with some being better than others. But this can be a bit of an art and takes some thinking and some experience. In DEAP:\n",
        "- It is the only part of the library that you must always write yourself.\n",
        "- A typical evaluation function takes one individual as argument and return its fitness as a tuple.\n",
        "- A fitness is a list of floating point values and has a property valid to know if this individual shall be re-evaluated\n",
        "- The fitness is set by setting the values to the associated tuple."
      ]
    },
    {
      "cell_type": "markdown",
      "metadata": {
        "id": "DXxBKG97lvC4"
      },
      "source": [
        "For example, the following evaluates the previously created individual ind1 and assign its fitness to the corresponding values."
      ]
    },
    {
      "cell_type": "code",
      "execution_count": null,
      "metadata": {
        "id": "G9xoW7NJlvC5"
      },
      "outputs": [],
      "source": [
        "def evaluate(individual):\n",
        "    # Do some computing on the individual\n",
        "    a = sum(individual)\n",
        "    return a,"
      ]
    },
    {
      "cell_type": "markdown",
      "metadata": {
        "id": "mqspmAotlvC5"
      },
      "source": [
        "We will usually return just one fitness measure, but we could return more than one.\n"
      ]
    },
    {
      "cell_type": "code",
      "execution_count": null,
      "metadata": {
        "id": "S-89ANqMlvC6"
      },
      "outputs": [],
      "source": [
        "def evaluate(individual):\n",
        "    # Do some computing on the individual\n",
        "    a = (1. / sum(individual))\n",
        "    b = len(individual)\n",
        "    return a, b"
      ]
    },
    {
      "cell_type": "markdown",
      "metadata": {
        "id": "jEFiIElolvC7"
      },
      "source": [
        "When returning a single fitness measure, the evaluation function must still return a tuple because single-measure fitness is treated as a special case of multi-objective fitness."
      ]
    },
    {
      "cell_type": "markdown",
      "metadata": {
        "id": "uDiXnD94lvC7"
      },
      "source": [
        "To evaluate an individual you can now just call your evaluate function. You pass the full individual, and get back to fitness tuple, which you assign to the individuals fitness value."
      ]
    },
    {
      "cell_type": "code",
      "execution_count": null,
      "metadata": {
        "id": "_11Q5VVslvC8"
      },
      "outputs": [],
      "source": [
        "ind1 = pop[0]\n",
        "ind1.fitness.values = evaluate(ind1)"
      ]
    },
    {
      "cell_type": "code",
      "execution_count": null,
      "metadata": {
        "id": "IfJpy-DglvC8"
      },
      "outputs": [],
      "source": [
        "print(ind1.fitness.valid)"
      ]
    },
    {
      "cell_type": "code",
      "execution_count": null,
      "metadata": {
        "id": "VZMv5Z1DlvC9"
      },
      "outputs": [],
      "source": [
        "print(ind1.fitness)"
      ]
    },
    {
      "cell_type": "markdown",
      "metadata": {
        "id": "U5EViPrWlvC9"
      },
      "source": [
        "# Selection"
      ]
    },
    {
      "cell_type": "markdown",
      "metadata": {
        "id": "SyCUDHeRlvC-"
      },
      "source": [
        "Once you have evaluated the fitness of all individuals in the population, you can select the individuals that have a chance to reproduct into the next generation."
      ]
    },
    {
      "cell_type": "markdown",
      "metadata": {
        "id": "inDUHuIllvC-"
      },
      "source": [
        "- Selection is made among a population by the selection operators that are available in the deap.operators module.\n",
        "- The selection operator usually takes as first argument an iterable container of individuals and the number of individuals to select. It returns a list containing the references to the selected individuals."
      ]
    },
    {
      "cell_type": "markdown",
      "metadata": {
        "id": "rGQQmZKslvC_"
      },
      "source": [
        "First we must evaluate the fitness of everyone. We only want to evaluate fitness for individuals who have changed. However, no-one's fitness will be known in the initial population, so we must first evaluate all individuals."
      ]
    },
    {
      "cell_type": "code",
      "execution_count": null,
      "metadata": {
        "id": "49ekCHnYlvDA"
      },
      "outputs": [],
      "source": [
        "fitnesses = list(map(evaluate, pop))"
      ]
    },
    {
      "cell_type": "markdown",
      "metadata": {
        "id": "jBNgS3mPlvDS"
      },
      "source": [
        "This gives us a list of fitness values corresponding to each individual in the population. Next we assign the fitness to each individual. To do this we use the Python zip command to line up the individuals with their corresponding fitness."
      ]
    },
    {
      "cell_type": "code",
      "execution_count": null,
      "metadata": {
        "id": "a8LwqNOblvDT"
      },
      "outputs": [],
      "source": [
        "for ind, fit in zip(pop, fitnesses):\n",
        "    ind.fitness.values = fit"
      ]
    },
    {
      "cell_type": "markdown",
      "metadata": {
        "id": "tU5O3ynvlvDU"
      },
      "source": [
        "In the following code, we use a naive approach of selecting the top 2 individuals in the population."
      ]
    },
    {
      "cell_type": "code",
      "execution_count": null,
      "metadata": {
        "id": "-5nChQ_7lvDV"
      },
      "outputs": [],
      "source": [
        "selected = tools.selBest(pop, 2)"
      ]
    },
    {
      "cell_type": "markdown",
      "metadata": {
        "id": "C7K0VJ5VlvDV"
      },
      "source": [
        "Let's see if individual at position 0 in the population managed to be selected"
      ]
    },
    {
      "cell_type": "code",
      "execution_count": null,
      "metadata": {
        "id": "Wix_zQuPlvDW"
      },
      "outputs": [],
      "source": [
        "pop[0] in selected"
      ]
    },
    {
      "cell_type": "code",
      "execution_count": null,
      "metadata": {
        "id": "5rbtAw2QlvDW"
      },
      "outputs": [],
      "source": [
        "print( selected )"
      ]
    },
    {
      "cell_type": "markdown",
      "metadata": {
        "id": "mYm6grsylvDW"
      },
      "source": [
        "Thus, we end up with a list of individuals in 'selected' that may be able to reproduce into the next generation."
      ]
    },
    {
      "cell_type": "markdown",
      "metadata": {
        "id": "mJ-hSDFVlvDX"
      },
      "source": [
        "# Mutation"
      ]
    },
    {
      "cell_type": "markdown",
      "metadata": {
        "id": "T9Do1qyrlvDX"
      },
      "source": [
        "- There are a variety of mutation operators in the deap.tools module.\n",
        "- Each mutation has its own characteristics and may be applied to different type of individual.\n",
        "- Be sure to read the documentation of the selected operator in order to avoid undesirable behaviour.\n",
        "\n",
        "To apply a mutation (here a gaussian mutation) on the first individual, simply apply the desired function."
      ]
    },
    {
      "cell_type": "code",
      "execution_count": null,
      "metadata": {
        "id": "mjkS3GwWlvDX"
      },
      "outputs": [],
      "source": [
        "pop[0]"
      ]
    },
    {
      "cell_type": "code",
      "execution_count": null,
      "metadata": {
        "id": "uFokGp-tlvDY"
      },
      "outputs": [],
      "source": [
        "tools.mutGaussian(pop[0], mu=0.0, sigma=0.2, indpb=0.2)"
      ]
    },
    {
      "cell_type": "markdown",
      "metadata": {
        "id": "pUgIg-sxlvDY"
      },
      "source": [
        "Mu and sigma are the mean and standard deviation for the Guassian curve, and indpb is the independent probability of mutation per gene."
      ]
    },
    {
      "cell_type": "markdown",
      "metadata": {
        "id": "MKYASP3mlvDZ"
      },
      "source": [
        "You also need to delete the fitness.value for the individual, because it has changed and needs to be re-evaluated the next time we need to its fitness."
      ]
    },
    {
      "cell_type": "code",
      "execution_count": null,
      "metadata": {
        "id": "hxutOXVblvDZ"
      },
      "outputs": [],
      "source": [
        "del pop[0].fitness.values"
      ]
    },
    {
      "cell_type": "markdown",
      "metadata": {
        "id": "zyVEVBLWlvDa"
      },
      "source": [
        "Mutation operators in DEAP are destructive and mutate the original individual in-place. Thus, if you want to keep the original parent pre-mutation, you must make a copy in advance. You will need to do this, because we often want to select individuals 'with replacement', so that the same individual can be selected multiple times. You can clone an individual using the clone function in the toolbox."
      ]
    },
    {
      "cell_type": "code",
      "execution_count": null,
      "metadata": {
        "id": "C6zwRyXIlvDa"
      },
      "outputs": [],
      "source": [
        "mutant = toolbox1.clone(pop[0])\n",
        "tools.mutGaussian(mutant, mu=0.0, sigma=0.2, indpb=0.2)\n",
        "del mutant.fitness.values"
      ]
    },
    {
      "cell_type": "markdown",
      "metadata": {
        "id": "_bQXA9A5lvDa"
      },
      "source": [
        "# Crossover"
      ]
    },
    {
      "cell_type": "markdown",
      "metadata": {
        "id": "x3dDr4t8lvDb"
      },
      "source": [
        "- There are a variety of crossover operators in the deap.tools module.\n",
        "- Each operator has its own characteristics and may be applied to different type of individuals.\n",
        "- Be careful to read the documentation of the selected operator in order to avoid undesirable behaviour.\n",
        "\n",
        "As with mutaton, crossover is destructive and thus you often need to make copies of individuals first. Lets apply a crossover operation to produce the two children that are cloned beforehand. Here is an example of cloning the first two individuals in the population and then crossing them over with each other."
      ]
    },
    {
      "cell_type": "code",
      "execution_count": null,
      "metadata": {
        "id": "xuXRGp6RlvDb"
      },
      "outputs": [],
      "source": [
        "child1, child2 = [ toolbox1.clone(ind) for ind in (pop[0], pop[1]) ]\n",
        "tools.cxOnePoint(child1, child2)\n",
        "del child1.fitness.values\n",
        "del child2.fitness.values"
      ]
    },
    {
      "cell_type": "markdown",
      "metadata": {
        "id": "sWovSOSwlvDc"
      },
      "source": [
        "As with mutation, because you have made a change to the individuals, you need to delete their fitness.values so that they will be re-evaluated next time."
      ]
    },
    {
      "cell_type": "markdown",
      "metadata": {
        "id": "Jqk5xQS9lvDc"
      },
      "source": [
        "Note that the crossover function gives us two individuals, because we sliced two togehter."
      ]
    },
    {
      "cell_type": "code",
      "execution_count": null,
      "metadata": {
        "id": "lngF8wRGlvDc"
      },
      "outputs": [],
      "source": [
        "print(pop[0])\n",
        "print(pop[1])"
      ]
    },
    {
      "cell_type": "code",
      "execution_count": null,
      "metadata": {
        "id": "MQO0jy14lvDd"
      },
      "outputs": [],
      "source": [
        "print(child1)\n",
        "print(child2)"
      ]
    },
    {
      "cell_type": "markdown",
      "metadata": {
        "id": "-9GdWQfylvDd"
      },
      "source": [
        "Typically you want to implement a probability of crossover."
      ]
    },
    {
      "cell_type": "code",
      "execution_count": null,
      "metadata": {
        "id": "VLVQ8J4SlvDd"
      },
      "outputs": [],
      "source": [
        "cxProb = 0.6\n",
        "\n",
        "if random.random() < cxProb:\n",
        "    child1, child2 = [ toolbox1.clone(ind) for ind in (pop[0], pop[1]) ]\n",
        "    tools.cxOnePoint(child1, child2)\n",
        "    del child1.fitness.values\n",
        "    del child2.fitness.values"
      ]
    },
    {
      "cell_type": "markdown",
      "metadata": {
        "id": "agCdcpSBlvDe"
      },
      "source": [
        "# Using operators with the toolbox"
      ]
    },
    {
      "cell_type": "markdown",
      "metadata": {
        "id": "y7jc5Y9WlvDe"
      },
      "source": [
        "So far we have only used the toolbox to represent the individual. But the toolbox is also intended to contain all the evolutionary tools, from the object initializers to the evaluation operator. It allows easy configuration of each algorithms.\n",
        "- The toolbox has basically two methods, register() and unregister(), that are used to add or remove tools from the toolbox.\n",
        "- The usual names for the evolutionary tools are mate(), mutate(), evaluate() and select(), however, any name can be registered as long as it is unique. Here is how they are registered in the toolbox.\n",
        "- The main reason to register with the toolbox is to set up an operator with pre-defined parameters."
      ]
    },
    {
      "cell_type": "markdown",
      "metadata": {
        "id": "nXLyg972lvDe"
      },
      "source": [
        "Remember that we have already defined our toolbox when we defined the individual like this"
      ]
    },
    {
      "cell_type": "markdown",
      "metadata": {
        "id": "0-yEr9D5lvDe"
      },
      "source": [
        ">from deap import base  \n",
        ">from deap import tools  \n",
        ">  \n",
        ">toolbox1 = base.Toolbox()  \n",
        ">\n",
        ">toolbox1.register(\"attr_float\", random.random)  \n",
        ">toolbox1.register(\"individual\", tools.initRepeat, creator.Individual, toolbox1.attr_float, n=IND_SIZE)"
      ]
    },
    {
      "cell_type": "markdown",
      "metadata": {
        "id": "G2QywWTdlvDf"
      },
      "source": [
        "You can register your operators with your toolbox like this"
      ]
    },
    {
      "cell_type": "code",
      "execution_count": null,
      "metadata": {
        "id": "uOZqKYi9lvDf"
      },
      "outputs": [],
      "source": [
        "def evaluateInd(individual):\n",
        "    # Your evaluation code here\n",
        "    return result,\n",
        "\n",
        "toolbox1.register(\"mate\", tools.cxOnePoint)\n",
        "toolbox1.register(\"mutate\", tools.mutGaussian, mu=0, sigma=1, indpb=0.2)\n",
        "toolbox1.register(\"select\", tools.selTournament, tournsize=3)\n",
        "toolbox1.register(\"evaluate\", evaluateInd)"
      ]
    },
    {
      "cell_type": "markdown",
      "metadata": {
        "id": "exEIJO4jlvDf"
      },
      "source": [
        "Now you can call, for example, mutate by calling the toolbox, and it will use the default parameters that you have registered (unless you override them)."
      ]
    },
    {
      "cell_type": "code",
      "execution_count": null,
      "metadata": {
        "id": "29yuUiNtlvDg"
      },
      "outputs": [],
      "source": [
        "mutant = toolbox1.clone(pop[0])\n",
        "toolbox1.mutate(mutant)\n",
        "del mutant.fitness.values"
      ]
    },
    {
      "cell_type": "markdown",
      "metadata": {
        "id": "YEy9sarSlvDg"
      },
      "source": [
        "# Tool Decorating"
      ]
    },
    {
      "cell_type": "markdown",
      "metadata": {
        "id": "6sD6bIZBlvDg"
      },
      "source": [
        "A decorator is a wrapper that is called in place of a function. It is asked to make some initialization and termination work before and after the actual function is called. For example, if values need to be constrained, you can apply a decorator to the mutation to keep any individual from going out-of-bounds."
      ]
    },
    {
      "cell_type": "markdown",
      "metadata": {
        "id": "IH7Ur6_LlvDh"
      },
      "source": [
        "The following defines a decorator that checks if any attribute of the individual is out-of-bounds and clips it if it is the case. The decorator is defined using three functions in order to receive the min and max arguments. Whenever the mutation or crossover is called, bounds will be check on the resulting individuals."
      ]
    },
    {
      "cell_type": "code",
      "execution_count": null,
      "metadata": {
        "id": "R_P9M5J7lvDh"
      },
      "outputs": [],
      "source": [
        "def checkBounds(min, max):\n",
        "    def decorator(func):\n",
        "        def wrapper(*args, **kargs):\n",
        "            individuals = func(*args, **kargs)\n",
        "            for indv in individuals:\n",
        "                for i in range(len(indv)):\n",
        "                    if indv[i] > max:\n",
        "                        indv[i] = max\n",
        "                    elif indv[i] < min:\n",
        "                        indv[i] = min\n",
        "            return individuals\n",
        "        return wrapper\n",
        "    return decorator\n",
        "\n",
        "toolbox1.register(\"mate_example\", tools.cxBlend, alpha=0.2)\n",
        "toolbox1.register(\"mutate_example\", tools.mutGaussian, mu=0, sigma=2)\n",
        "\n",
        "MIN = 0; MAX = 10\n",
        "\n",
        "toolbox1.decorate(\"mate_example\", checkBounds(MIN, MAX))\n",
        "toolbox1.decorate(\"mutate_example\", checkBounds(MIN, MAX))"
      ]
    },
    {
      "cell_type": "markdown",
      "metadata": {
        "id": "pIsS2qy9lvDi"
      },
      "source": [
        "This will work on crossover and mutation because both return a tuple of individuals. The mutation is often considered to return a single individual but again like for the evaluation, the single individual case is a special case of the multiple individual case."
      ]
    }
  ],
  "metadata": {
    "kernelspec": {
      "display_name": "Python 3",
      "language": "python",
      "name": "python3"
    },
    "language_info": {
      "codemirror_mode": {
        "name": "ipython",
        "version": 3
      },
      "file_extension": ".py",
      "mimetype": "text/x-python",
      "name": "python",
      "nbconvert_exporter": "python",
      "pygments_lexer": "ipython3",
      "version": "3.8.3"
    },
    "colab": {
      "provenance": []
    }
  },
  "nbformat": 4,
  "nbformat_minor": 0
}