{
 "cells": [
  {
   "cell_type": "markdown",
   "metadata": {
    "id": "C2mae32zQaGr"
   },
   "source": [
    "# <span style=\"color:blue\">EVAC Workshop 4A: Rule-Based GP in DEAP</span>"
   ]
  },
  {
   "cell_type": "markdown",
   "metadata": {
    "id": "Y0h6RCPdQaGt"
   },
   "source": [
    "**Module leader**\n",
    "\n",
    "Simon O'Keefe: simon.okeefe@york.ac.uk\n",
    "\n",
    "**Graduate Teaching Assistants**\n",
    "\n",
    "Danny Roberts: danny.roberts@york.ac.uk\n",
    "\n",
    "Tianda Sun: tianda.sun@york.ac.uk"
   ]
  },
  {
   "cell_type": "markdown",
   "metadata": {
    "id": "cHsfb1QKQaGu"
   },
   "source": [
    "You have already experienced how to use GP, so there is no walkthrough ahead of this workshop. Here, you will learning to program GP to produle a simple rule-based AI and deal with bloat."
   ]
  },
  {
   "cell_type": "markdown",
   "metadata": {
    "id": "oMWLiRkeQaGw"
   },
   "source": [
    "# <span style=\"color:#0073e6\">Learning Objectives</span>"
   ]
  },
  {
   "cell_type": "markdown",
   "metadata": {
    "id": "HVfn4LzBQaGw"
   },
   "source": [
    "- Learn how to program a GP to produce rule-based AI\n",
    "- Understand and deal with bloat"
   ]
  },
  {
   "cell_type": "markdown",
   "metadata": {
    "id": "tetOzAd2QaGw"
   },
   "source": [
    "# <span style=\"color:Blue\">Exercise: Santa Fe Ant Trail Problem</span>"
   ]
  },
  {
   "cell_type": "markdown",
   "metadata": {
    "id": "cBrqwaXSQaGw"
   },
   "source": [
    "# <span style=\"color:#0073e6\">Context</span>"
   ]
  },
  {
   "cell_type": "markdown",
   "metadata": {
    "id": "4i8FZeFMQaGx"
   },
   "source": [
    "The artificial ant problem (or Santa Fe Ant Problem) is a well-studied problem with a simple fitness function. The problem is to devise an agent that can successfully navigate an artificial ant along a trail on a square grid to collect as much food as possible within a maximum number of moves (here 600, but you can increase it). You can see a visualization of the problem here:\n",
    "https://www.youtube.com/watch?v=BKF7pGw8qbY"
   ]
  },
  {
   "cell_type": "markdown",
   "metadata": {
    "id": "hSI60y4xQaGx"
   },
   "source": [
    "# <span style=\"color:#0073e6\">Map Setup</span>"
   ]
  },
  {
   "cell_type": "markdown",
   "metadata": {
    "id": "AOtWAl9VQaGx"
   },
   "source": [
    "Make sure that you have the file santafe_trail.txt in the same folder as the notebook. This text file includes the map for the ants to solve. Open the map in a text editor. You can see that empty cells are represented with periods and food is represented with a hash. There is only one map to work with here, but you can create your own varitions of this in your text editor (e.g. even use code to flip the map)."
   ]
  },
  {
   "cell_type": "markdown",
   "metadata": {
    "id": "pc2AiLtzQaGx"
   },
   "source": [
    "# <span style=\"color:#0073e6\">The Ant Class</span>"
   ]
  },
  {
   "cell_type": "markdown",
   "metadata": {
    "id": "oDsmoBKmQaGy"
   },
   "source": [
    "In the code, an ant will follow the instructions provided to it from an individual (an evolved decision tree) evolved by GP. So there is a single ant agent that is used to evaluate your individuals, but a population of individuals that use the ant for evaluation.  A basic way to evaluate fitness is simply looking at how much a particular ant has eaten (ant.eaten), which is implemented here."
   ]
  },
  {
   "cell_type": "markdown",
   "metadata": {
    "id": "2x-sGxqBQaGy"
   },
   "source": [
    "An ant can navigate based on three operations:\n",
    "- Move_Forward\t- Move the ant forward one square\n",
    "- Turn_Right\t\t- Turn the ant to the right 90 degrees\n",
    "- Turn_Left\t\t- Turn the ant to the left 90 degrees.\n",
    "\n",
    "These three commands are therefore part of the terminal set in a GP. Each of these operations is assumed to take one time unit to execute.\n",
    "\n",
    "The sensing function if_food_ahead looks into the square the ant is currently facing and then executes one of its two arguments depending upon whether that square contains food or is empty. Two other functions, Prog2 and Prog3, are provided. These take two and three arguments respectively which are executed in sequence. These three functions are therefore also part of the primitive set."
   ]
  },
  {
   "cell_type": "markdown",
   "metadata": {
    "id": "HmjwkvzEQaGy"
   },
   "source": [
    "# <span style=\"color:Blue\">Exercise 1: Complete the GP algorithm</span>"
   ]
  },
  {
   "cell_type": "markdown",
   "metadata": {
    "id": "d74D5v6KQaGy"
   },
   "source": [
    "1. Go through the code below and try to understand what it the ant is doing and how the problem works.\n",
    "2. Complete the genetic programming algorithm to find a solution (as in previous examples). This mainly means completing the primitive set and registering fitness and operators.\n",
    "3. The best solution in terms of number of food items eaten is 89 for this problem. Can you improve the performance of your algorithm? Be sure to also output your final best solution as tree for examination."
   ]
  },
  {
   "cell_type": "markdown",
   "metadata": {
    "id": "3EcU5m9hQaGy"
   },
   "source": [
    "# <span style=\"color:#0073e6\">Ant Code</span>"
   ]
  },
  {
   "cell_type": "code",
   "execution_count": null,
   "metadata": {
    "id": "r8kDCp0_QaGz"
   },
   "outputs": [],
   "source": [
    "import copy\n",
    "from functools import partial"
   ]
  },
  {
   "cell_type": "code",
   "execution_count": null,
   "metadata": {
    "id": "URR9Gpr4QaGz"
   },
   "outputs": [],
   "source": [
    "class AntSimulator(object):\n",
    "    direction = [\"north\", \"east\", \"south\", \"west\"]\n",
    "    dir_row = [1, 0, -1, 0]\n",
    "    dir_col = [0, 1, 0, -1]\n",
    "\n",
    "    def __init__(self, max_moves):\n",
    "        self.max_moves = max_moves\n",
    "        self.moves = 0\n",
    "        self.eaten = 0\n",
    "        self.routine = None\n",
    "\n",
    "    def _reset(self):\n",
    "        self.row = self.row_start\n",
    "        self.col = self.col_start\n",
    "        self.dir = 1\n",
    "        self.moves = 0\n",
    "        self.eaten = 0\n",
    "        self.matrix_exc = copy.deepcopy(self.matrix)\n",
    "\n",
    "    @property\n",
    "    def position(self):\n",
    "        return (self.row, self.col, self.direction[self.dir])\n",
    "\n",
    "    def turn_left(self):\n",
    "        if self.moves < self.max_moves:\n",
    "            self.moves += 1\n",
    "            self.dir = (self.dir - 1) % 4\n",
    "\n",
    "    def turn_right(self):\n",
    "        if self.moves < self.max_moves:\n",
    "            self.moves += 1\n",
    "            self.dir = (self.dir + 1) % 4\n",
    "\n",
    "    def move_forward(self):\n",
    "        if self.moves < self.max_moves:\n",
    "            self.moves += 1\n",
    "            self.row = (self.row + self.dir_row[self.dir]) % self.matrix_row\n",
    "            self.col = (self.col + self.dir_col[self.dir]) % self.matrix_col\n",
    "            if self.matrix_exc[self.row][self.col] == \"food\":\n",
    "                self.eaten += 1\n",
    "            self.matrix_exc[self.row][self.col] = \"passed\"\n",
    "\n",
    "    def sense_food(self):\n",
    "        ahead_row = (self.row + self.dir_row[self.dir]) % self.matrix_row\n",
    "        ahead_col = (self.col + self.dir_col[self.dir]) % self.matrix_col\n",
    "        return self.matrix_exc[ahead_row][ahead_col] == \"food\"\n",
    "\n",
    "    def if_food_ahead(self, out1, out2):\n",
    "        return partial(if_then_else, self.sense_food, out1, out2)\n",
    "\n",
    "    def run(self, routine):\n",
    "        self._reset()\n",
    "        while self.moves < self.max_moves:\n",
    "            routine()\n",
    "\n",
    "    def parse_matrix(self, matrix):\n",
    "        self.matrix = list()\n",
    "        for i, line in enumerate(matrix):\n",
    "            self.matrix.append(list())\n",
    "            for j, col in enumerate(line):\n",
    "                if col == \"#\":\n",
    "                    self.matrix[-1].append(\"food\")\n",
    "                elif col == \".\":\n",
    "                    self.matrix[-1].append(\"empty\")\n",
    "                elif col == \"S\":\n",
    "                    self.matrix[-1].append(\"empty\")\n",
    "                    self.row_start = self.row = i\n",
    "                    self.col_start = self.col = j\n",
    "                    self.dir = 1\n",
    "        self.matrix_row = len(self.matrix)\n",
    "        self.matrix_col = len(self.matrix[0])\n",
    "        self.matrix_exc = copy.deepcopy(self.matrix)"
   ]
  },
  {
   "cell_type": "markdown",
   "metadata": {
    "id": "cIlJ811nQaG0"
   },
   "source": [
    "The 'parse_matrix' function processes the map and stores it in the 2D list 'matrix_exc', and the other functions simply move or turn the ant around."
   ]
  },
  {
   "cell_type": "markdown",
   "metadata": {
    "id": "W5lZVtZfQaG0"
   },
   "source": [
    "*Side note: in case you're not familiar @property is a standard Python decorator that allows you do to setting and getting variables. It's beyond the scope of the module to discuss this, and you don't need to understand it for this workshop. If you're interested you can read more here:\n",
    "https://www.programiz.com/python-programming/property*"
   ]
  },
  {
   "cell_type": "code",
   "execution_count": null,
   "metadata": {
    "id": "Gb2vTHScQaG0"
   },
   "outputs": [],
   "source": [
    "ant = AntSimulator(600)  # This is the number of moves\n",
    "\n",
    "with open(\"data/santafe_trail.txt\") as trail_file:\n",
    "    ant.parse_matrix(trail_file)"
   ]
  },
  {
   "cell_type": "markdown",
   "metadata": {
    "id": "MnYCcRgQQaG1"
   },
   "source": [
    "## <span style=\"color:#0073e6\">You need to decide on your GP below</span>"
   ]
  },
  {
   "cell_type": "markdown",
   "metadata": {
    "id": "eCHcUhrbQaG1"
   },
   "source": [
    "We now need to define our primitive set. There are some common mistakes when defining the \"Main\" function. You can see that the ant uses information from the environment. However, if you look at the code, the ant object directly accesses the environment, and it is not passed to the evolved function as an argment -- don't add these as arguments, this code has zero arguments. However, you could modify the code to pass the arguments, if you liked, and then would need to modify it here."
   ]
  },
  {
   "cell_type": "markdown",
   "metadata": {
    "id": "o8gaOYX6QaG1"
   },
   "source": [
    "Don't forget that here you might need to define and register progs (allowing multiple functions to connect together) and your own functions (e.g. if_then_else). No cheating and registering pre-programmed behaviour, though!\n",
    "\n",
    "Your terminals are the ant behaviour. So for example:\n",
    "> pset.addTerminal(ant.move_forward)"
   ]
  },
  {
   "cell_type": "markdown",
   "metadata": {
    "id": "Im8aK3FrQaG1"
   },
   "source": [
    "I have left a couple of examples in here to get you started with the primitive set."
   ]
  },
  {
   "cell_type": "code",
   "execution_count": null,
   "metadata": {
    "id": "qsCtOlfCQaG2"
   },
   "outputs": [],
   "source": [
    "def progn(*args):\n",
    "    for arg in args:\n",
    "        arg()\n",
    "\n",
    "\n",
    "def prog2(out1, out2):\n",
    "    return partial(\n",
    "        progn, out1, out2\n",
    "    )  # partial allows this to be a more specific (two argument) version of progn\n",
    "\n",
    "\n",
    "pset.addPrimitive(prog2, 2)\n",
    "pset.addTerminal(ant.move_forward)"
   ]
  },
  {
   "cell_type": "markdown",
   "metadata": {
    "id": "778ZgjSTQaG2"
   },
   "source": [
    "For the **evaluation function** for this task, you can see that the ant class has a routine to run through your compiled solution a number of timesteps."
   ]
  },
  {
   "cell_type": "markdown",
   "metadata": {
    "id": "4H-wbdJQQaG2"
   },
   "source": [
    "# <span style=\"color:Blue\">Exercise 2: Dealing with Bloat</span>"
   ]
  },
  {
   "cell_type": "markdown",
   "metadata": {
    "id": "uwouvERdQaG2"
   },
   "source": [
    "You should see from plotting the tree of the best individual, that there is bloat. Let's examine how to deal with this."
   ]
  },
  {
   "cell_type": "markdown",
   "metadata": {
    "id": "8PqqEhH7QaG2"
   },
   "source": [
    "1. Try a simple modification to the evaluation function by adding a ‘parsimony penalty’ term to the fitness. This is a penality that increases as a function of the height of the tree ( individual.height ).\n",
    "2. Now remove the bloat penalty. If parsimony penalties like this are not done carefully for some problems, it could give undesirable results. Instead implement a double tournament. Go to the DEAP library reference (https://deap.readthedocs.io/en/master/api/index.html) and look for the selection operator selDoubleTournament(). This will vastly help you to contain bloat in a better manner. Implement this, and play with the parameters a little. Then have a look at the final tree structure compared to before. This is also explained in the lecture.\n",
    "3. Double tournaments typically work well when depth limits are also used with operators.  For example:  \n",
    "```toolbox.decorate(\"mate\", gp.staticDepthLimit(20))\n",
    "toolbox.decorate(\"mutate\", gp.staticDepthLimit(20))```  \n",
    "Which will limit the height of all individuals produced to 20 at most. 20 might be a good compromise between search space exploration and bloat control for a problem. However, you may adapt this threshold to your problem. You can decorate the mutation operator too. Note that some level of bloat is needed, because evolution often makes use of or builds upon redundancy."
   ]
  },
  {
   "cell_type": "markdown",
   "metadata": {
    "id": "AndgYJDbQaHB"
   },
   "source": [
    "## <span style=\"color:#0073e6\">A note on the maximum tree depth in DEAP</span>"
   ]
  },
  {
   "cell_type": "markdown",
   "metadata": {
    "id": "1yRb_X1bQaHB"
   },
   "source": [
    "Since DEAP uses the Python parser to compile the code represented by the trees, it inherits from its limitations. The most commonly encountered restriction is the parsing stack limit. The Python interpreter parser stack limit is usually fixed between 92 and 99. This means that an expression can at most be composed of 91 succeeding primitives. In other words, a tree can have a maximum depth of 91 in DEAP."
   ]
  }
 ],
 "metadata": {
  "colab": {
   "provenance": []
  },
  "kernelspec": {
   "display_name": "Python 3",
   "language": "python",
   "name": "python3"
  },
  "language_info": {
   "codemirror_mode": {
    "name": "ipython",
    "version": 3
   },
   "file_extension": ".py",
   "mimetype": "text/x-python",
   "name": "python",
   "nbconvert_exporter": "python",
   "pygments_lexer": "ipython3",
   "version": "3.8.3"
  }
 },
 "nbformat": 4,
 "nbformat_minor": 0
}
