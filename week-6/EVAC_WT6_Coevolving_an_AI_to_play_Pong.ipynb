{
 "cells": [
  {
   "cell_type": "markdown",
   "metadata": {
    "id": "UtWvLSxvDuHv"
   },
   "source": [
    "# EVAC Walkthrough 6: Coevolving an AI to play Pong"
   ]
  },
  {
   "cell_type": "code",
   "execution_count": 2,
   "metadata": {
    "ExecuteTime": {
     "end_time": "2024-03-15T17:24:13.527014Z",
     "start_time": "2024-03-15T17:24:13.524726Z"
    },
    "colab": {
     "base_uri": "https://localhost:8080/"
    },
    "id": "PurcRINxDuH2",
    "outputId": "1a44dc98-6088-4a66-e051-bc045a68c3ec"
   },
   "outputs": [],
   "source": [
    "from turtle import Turtle, Screen, Shape\n",
    "import random\n",
    "import tkinter as TK\n",
    "import math\n",
    "import numpy as np\n",
    "import time\n",
    "\n",
    "# random.seed(98)"
   ]
  },
  {
   "cell_type": "markdown",
   "metadata": {
    "id": "7igjFy_9PErL"
   },
   "source": [
    "### Turtle code"
   ]
  },
  {
   "cell_type": "code",
   "execution_count": 3,
   "metadata": {
    "ExecuteTime": {
     "end_time": "2024-03-15T17:24:17.122102Z",
     "start_time": "2024-03-15T17:24:17.117244Z"
    },
    "id": "eWDQeTErDuH7"
   },
   "outputs": [],
   "source": [
    "class UndrawnTurtle:  # We use this to keep track of the turtles without having to draw them\n",
    "    def __init__(self):\n",
    "        self.x, self.y, self.x_prev, self.y_prev, self.angle = 0.0, 0.0, 0.0, 0.0, 0.0\n",
    "\n",
    "    def position(self):\n",
    "        return self.x, self.y\n",
    "\n",
    "    def xcor(self):\n",
    "        return self.x\n",
    "\n",
    "    def ycor(self):\n",
    "        return self.y\n",
    "\n",
    "    def xcor_prev(self):\n",
    "        return self.x_prev\n",
    "\n",
    "    def ycor_prev(self):\n",
    "        self.y_prev = self.y\n",
    "        return self.y_prev\n",
    "\n",
    "    def setx(self, xcor):\n",
    "        self.x_prev = self.x\n",
    "        self.x = xcor\n",
    "\n",
    "    def sety(self, ycor):\n",
    "        self.y = ycor\n",
    "\n",
    "    def forward(self, distance):\n",
    "        angle_radians = math.radians(self.angle)\n",
    "        self.x_prev = self.x\n",
    "        self.y_prev = self.y\n",
    "        self.x += math.cos(angle_radians) * distance\n",
    "        self.y += math.sin(angle_radians) * distance\n",
    "\n",
    "    def backward(self, distance):\n",
    "        self.forward(-distance)\n",
    "\n",
    "    def right(self, angle):\n",
    "        self.angle -= angle\n",
    "\n",
    "    def left(self, angle):\n",
    "        self.angle += angle\n",
    "\n",
    "    def setpos(self, x, y=None):\n",
    "        # Can be passed either a tuple or two numbers\n",
    "        self.x_prev = self.x\n",
    "        self.y_prev = self.y\n",
    "        if y is None:\n",
    "            self.x = x[0]\n",
    "            self.y = y[1]\n",
    "        else:\n",
    "            self.x = x\n",
    "            self.y = y"
   ]
  },
  {
   "cell_type": "markdown",
   "metadata": {
    "id": "fNop_yiONUuV"
   },
   "source": [
    "### Code for the neural network"
   ]
  },
  {
   "cell_type": "code",
   "execution_count": 4,
   "metadata": {
    "ExecuteTime": {
     "end_time": "2024-03-15T17:24:19.828444Z",
     "start_time": "2024-03-15T17:24:19.821410Z"
    },
    "id": "6_rthQg4DuH9"
   },
   "outputs": [],
   "source": [
    "class MLP(object):\n",
    "    def __init__(self, numInput, numHidden1, numHidden2, numOutput):\n",
    "        self.fitness = 0\n",
    "        self.numInput = numInput\n",
    "        self.numHidden1 = numHidden1\n",
    "        self.numHidden2 = numHidden2\n",
    "        self.numOutput = numOutput\n",
    "\n",
    "        self.w_i_h1 = np.random.randn(self.numHidden1, self.numInput)\n",
    "        self.w_h1_h2 = np.random.randn(self.numHidden2, self.numHidden1)\n",
    "        self.w_h2_o = np.random.randn(self.numOutput, self.numHidden2)\n",
    "\n",
    "        self.b_i_h1 = [0] * numHidden1\n",
    "        self.b_i_h2 = [0] * numHidden2\n",
    "        self.b_i_output = [0] * numOutput\n",
    "\n",
    "        self.ReLU = lambda x: max(0, x)\n",
    "\n",
    "    def sigmoid(self, x):\n",
    "        try:\n",
    "            ans = 1 / (1 + math.exp(-x))\n",
    "        except OverflowError:\n",
    "            ans = float(\"inf\")\n",
    "        return ans\n",
    "\n",
    "    def softmax(self, x):\n",
    "        e_x = np.exp(x - np.max(x))\n",
    "        return e_x / e_x.sum()\n",
    "\n",
    "    def feed_forward(self, inputs):\n",
    "        h1 = np.dot(self.w_i_h1, inputs)  # feed input to hidden layer 1\n",
    "        h1 = [h + b for h, b in zip(h1, self.b_i_h1)]\n",
    "\n",
    "        h1 = [self.ReLU(x) for x in h1]  # Activate hidden layer1\n",
    "\n",
    "        h2 = np.dot(self.w_h1_h2, h1)  # feed layer 1 to hidden layer 2\n",
    "        h2 = [h + b for h, b in zip(h2, self.b_i_h2)]\n",
    "        h2 = [self.ReLU(x) for x in h2]  # Activate hidden layer 2\n",
    "\n",
    "        output = np.dot(self.w_h2_o, h2)  # feed to output layer\n",
    "        output = [o + b for o, b in zip(output, self.b_i_output)]\n",
    "        # output = [math.tanh(x) for x in output]      # Activate output layer\n",
    "        output = self.softmax(output)\n",
    "        return output\n",
    "\n",
    "    # Weights get set as:\n",
    "    # Weights to layer h1, h2, o\n",
    "    # Biases to layer h1, h2, o\n",
    "    def set_weights_linear(self, Wgenome):\n",
    "        numWeights_I_H1 = self.numHidden1 * self.numInput\n",
    "        numWeights_H1_H2 = self.numHidden2 * self.numHidden1\n",
    "        numWeights_H2_O = self.numOutput * self.numHidden2\n",
    "\n",
    "        # Weights (multi-dimensional arrays)\n",
    "\n",
    "        first_slice_end = numWeights_I_H1\n",
    "\n",
    "        self.w_i_h1 = np.array(Wgenome[:first_slice_end])\n",
    "        self.w_i_h1 = self.w_i_h1.reshape((self.numHidden1, self.numInput))\n",
    "\n",
    "        second_slice_end = first_slice_end + numWeights_H1_H2\n",
    "\n",
    "        self.w_h1_h2 = np.array(Wgenome[first_slice_end:second_slice_end])\n",
    "        self.w_h1_h2 = self.w_h1_h2.reshape((self.numHidden2, self.numHidden1))\n",
    "\n",
    "        third_slice_end = second_slice_end + numWeights_H2_O\n",
    "\n",
    "        self.w_h2_o = np.array(Wgenome[second_slice_end:third_slice_end])\n",
    "        self.w_h2_o = self.w_h2_o.reshape((self.numOutput, self.numHidden2))\n",
    "\n",
    "        # Biases (flat arrays for each layer)\n",
    "\n",
    "        fourth_slice_end = third_slice_end + self.numHidden1\n",
    "\n",
    "        self.b_i_h1 = np.array(Wgenome[third_slice_end:fourth_slice_end])\n",
    "\n",
    "        fith_slice_end = fourth_slice_end + self.numHidden2\n",
    "\n",
    "        self.b_i_h2 = np.array(Wgenome[fourth_slice_end:fith_slice_end])\n",
    "\n",
    "        self.b_i_output = np.array(Wgenome[fith_slice_end:])"
   ]
  },
  {
   "cell_type": "markdown",
   "metadata": {
    "id": "eMPzBRA9DuH_"
   },
   "source": [
    "### This is the class containing all the game display code"
   ]
  },
  {
   "cell_type": "code",
   "execution_count": 5,
   "metadata": {
    "ExecuteTime": {
     "end_time": "2024-03-15T17:24:23.797187Z",
     "start_time": "2024-03-15T17:24:23.790477Z"
    },
    "id": "2vxybHe1DuIA"
   },
   "outputs": [],
   "source": [
    "class DisplayGame:\n",
    "    def __init__(self, window_height, window_width, bat_w_half, bat_h_half):\n",
    "        # SCREEN\n",
    "        self.screen = Screen()\n",
    "        self.screen.setup(window_height, window_width)  # width, height\n",
    "        self.screen.tracer(0)  # We will handle displaying of frames ourselves\n",
    "\n",
    "        # PLAY ARENA\n",
    "        self.play_top = window_height / 2 - 80  # top of screen minus 100 units\n",
    "        self.play_bottom = -window_height / 2 + 80  # 100 from bottom\n",
    "        self.play_left = -window_width / 2 + 50  # 50 from left\n",
    "        self.play_right = window_width / 2 - 50  # 50 from right\n",
    "\n",
    "        self.area = Turtle()\n",
    "        self.area.hideturtle()\n",
    "\n",
    "        # batS\n",
    "        self.L = Turtle()\n",
    "        self.R = Turtle()\n",
    "        self.L.penup()\n",
    "        self.R.penup()\n",
    "\n",
    "        # bats shape\n",
    "        self.bat_shape = Shape(\"compound\")\n",
    "        self.bat_points = (\n",
    "            (-bat_h_half, -bat_w_half),\n",
    "            (-bat_h_half, bat_w_half),\n",
    "            (bat_h_half, bat_w_half),\n",
    "            (bat_h_half, -bat_w_half),\n",
    "        )\n",
    "        self.bat_shape.addcomponent(self.bat_points, \"blue\")\n",
    "        self.screen.register_shape(\"bat\", self.bat_shape)\n",
    "        self.L.shape(\"bat\")\n",
    "        self.R.shape(\"bat\")\n",
    "\n",
    "        # SCORE\n",
    "        self.score_turtle = Turtle()\n",
    "        self.score_turtle.penup()\n",
    "        self.score_turtle.hideturtle()\n",
    "\n",
    "        # BALL\n",
    "        self.ball = Turtle()\n",
    "        self.ball.penup()\n",
    "        self.ball.shape(\"circle\")  # Use the built-in shape \"circle\"\n",
    "        self.ball.color(\"blue\")\n",
    "        self.ball.shapesize(0.5, 0.5)  # Stretch it to half default size\n",
    "\n",
    "        self.reset()\n",
    "\n",
    "    def reset(self):\n",
    "        self.area.penup()\n",
    "        self.area.goto(self.play_right, self.play_top)\n",
    "        self.area.pendown()\n",
    "        self.area.goto(self.play_left, self.play_top)\n",
    "        self.area.goto(self.play_left, self.play_bottom)\n",
    "        self.area.goto(self.play_right, self.play_bottom)\n",
    "        self.area.goto(self.play_right, self.play_top)\n",
    "\n",
    "        # Move bats into position\n",
    "        self.L.setx(self.play_left + 10)\n",
    "        self.R.setx(self.play_right - 10)\n",
    "\n",
    "        self.update_score(0, 0)\n",
    "        self.screen.update()\n",
    "\n",
    "    def update_ball_position(self, ball_x_pos, ball_y_pos):\n",
    "        self.ball.setpos(ball_x_pos, ball_y_pos)\n",
    "\n",
    "    def update_L_bat_position(self, L_x_pos, L_y_pos):\n",
    "        self.L.setpos(L_x_pos, L_y_pos)\n",
    "\n",
    "    def update_R_bat_position(self, R_x_pos, R_y_pos):\n",
    "        self.R.setpos(R_x_pos, R_y_pos)\n",
    "\n",
    "    def update_score(self, L_score, R_score):\n",
    "        self.score_turtle.clear()\n",
    "        self.score_turtle.goto(\n",
    "            -self.screen.window_width() / 4, self.screen.window_height() / 2 - 40\n",
    "        )\n",
    "        self.score_turtle.write(L_score, align=\"center\", font=(\"Arial\", 32, \"bold\"))\n",
    "        self.score_turtle.goto(\n",
    "            self.screen.window_width() / 4, self.screen.window_height() / 2 - 40\n",
    "        )\n",
    "        self.score_turtle.write(R_score, align=\"center\", font=(\"Arial\", 32, \"bold\"))"
   ]
  },
  {
   "cell_type": "markdown",
   "metadata": {
    "id": "yo3DmCL2DuIB"
   },
   "source": [
    "### This is the class containing all the game code"
   ]
  },
  {
   "cell_type": "code",
   "execution_count": 6,
   "metadata": {
    "ExecuteTime": {
     "end_time": "2024-03-15T17:24:27.947745Z",
     "start_time": "2024-03-15T17:24:27.929668Z"
    },
    "id": "Z8iEPQODDuIC"
   },
   "outputs": [],
   "source": [
    "class Pong:\n",
    "    def __init__(self):\n",
    "        self.window_height = 600\n",
    "        self.window_width = 550\n",
    "\n",
    "        # PLAY ARENA\n",
    "        self.play_top = self.window_height / 2 - 80  # top of screen minus 100 units\n",
    "        self.play_bottom = -self.window_height / 2 + 80  # 100 from bottom\n",
    "        self.play_left = -self.window_width / 2 + 50  # 50 from left\n",
    "        self.play_right = self.window_width / 2 - 50  # 50 from right\n",
    "\n",
    "        self.area = UndrawnTurtle()\n",
    "\n",
    "        # batS\n",
    "        self.L = UndrawnTurtle()\n",
    "        self.R = UndrawnTurtle()\n",
    "\n",
    "        # bat size\n",
    "        self.bat_w_half = 5\n",
    "        self.bat_h_half = 35\n",
    "\n",
    "        # BALL\n",
    "        self.ball = UndrawnTurtle()\n",
    "        self.ball_radius = 10 * 0.5\n",
    "\n",
    "        self.ball_move_horiz = 0  # current x speed\n",
    "        self.ball_move_vert = 0  # current y speed\n",
    "        self.slow_ball_speed = 3\n",
    "        self.fast_ball_speed = self.slow_ball_speed * 2\n",
    "\n",
    "        self.ball_speed = self.slow_ball_speed\n",
    "        self.maxBounceAngleRadians = 1.04  # ~60 degrees\n",
    "\n",
    "        self.reset()\n",
    "\n",
    "    def reset(self):\n",
    "        # Move bats into position\n",
    "        self.L.setx(self.play_left + 10)\n",
    "        self.R.setx(self.play_right - 10)\n",
    "\n",
    "        self.bat_L_move_direction = 0  # L bat movement direction in next frame\n",
    "        self.bat_R_move_direction = 0  # R bat movement direction in next frame\n",
    "\n",
    "        self.bat_move_vert = 4\n",
    "\n",
    "        self.score_L = 0\n",
    "        self.score_R = 0\n",
    "\n",
    "        if random.random() > 0.5:\n",
    "            self.direction_horiz = 1\n",
    "        else:\n",
    "            self.direction_horiz = -1\n",
    "\n",
    "        self.start_ball_direction = self.direction_horiz\n",
    "\n",
    "        self.reset_ball()\n",
    "\n",
    "    def bat_is_allowed_to_move_here(self, new_y_pos):\n",
    "        if self.play_bottom > new_y_pos - self.bat_h_half:\n",
    "            return False\n",
    "        if new_y_pos + self.bat_h_half > self.play_top:\n",
    "            return False\n",
    "        return True\n",
    "\n",
    "    def update_bat_positions(self):\n",
    "        L_new_y_pos = self.L.ycor() + (self.bat_L_move_direction * self.bat_move_vert)\n",
    "        R_new_y_pos = self.R.ycor() + (self.bat_R_move_direction * self.bat_move_vert)\n",
    "        if self.bat_is_allowed_to_move_here(L_new_y_pos):\n",
    "            self.L.sety(L_new_y_pos)\n",
    "        if self.bat_is_allowed_to_move_here(R_new_y_pos):\n",
    "            self.R.sety(R_new_y_pos)\n",
    "\n",
    "    def L_up(self):\n",
    "        self.bat_L_move_direction = 1\n",
    "\n",
    "    def L_down(self):\n",
    "        self.bat_L_move_direction = -1\n",
    "\n",
    "    def L_off(self):\n",
    "        self.bat_L_move_direction = 0\n",
    "\n",
    "    def R_up(self):\n",
    "        self.bat_R_move_direction = 1\n",
    "\n",
    "    def R_down(self):\n",
    "        self.bat_R_move_direction = -1\n",
    "\n",
    "    def R_off(self):\n",
    "        self.bat_R_move_direction = 0\n",
    "\n",
    "    def check_if_someone_scores(self):\n",
    "        if (self.ball.xcor() + self.ball_radius) >= self.play_right:\n",
    "            self.score_L += 1\n",
    "            self.reset_ball()\n",
    "            return True\n",
    "        elif self.play_left >= (self.ball.xcor() - self.ball_radius):\n",
    "            self.score_R += 1\n",
    "            self.reset_ball()\n",
    "            return True\n",
    "        else:\n",
    "            return False\n",
    "\n",
    "    def ball_collides_with_bat(self, bat):\n",
    "        self.ball_speed = (\n",
    "            self.fast_ball_speed\n",
    "        )  # Set it to full speed after the first hit\n",
    "        x_distance = abs(bat.xcor() - self.ball.xcor())\n",
    "        y_distance = abs(bat.ycor() - self.ball.ycor())\n",
    "        overlap_horizontally = self.ball_radius + self.bat_w_half >= x_distance\n",
    "        overlap_vertically = self.ball_radius + self.bat_h_half >= y_distance\n",
    "        return overlap_horizontally and overlap_vertically\n",
    "\n",
    "    def update_ball_position(self):\n",
    "        if (self.ball.ycor() + self.ball_radius > self.play_top) and (\n",
    "            self.ball_move_vert > 0\n",
    "        ):\n",
    "            self.ball_move_vert *= -1\n",
    "        elif (self.play_bottom > self.ball.ycor() - self.ball_radius) and (\n",
    "            self.ball_move_vert < 0\n",
    "        ):\n",
    "            self.ball_move_vert *= -1\n",
    "\n",
    "        if self.ball_collides_with_bat(self.L) and self.ball_move_horiz < 0:\n",
    "            relativeIntersectY = self.ball.ycor() - self.L.ycor()\n",
    "            normalizedRelativeIntersectionY = relativeIntersectY / self.bat_h_half\n",
    "            bounceAngle = normalizedRelativeIntersectionY * self.maxBounceAngleRadians\n",
    "            self.ball_move_vert = self.ball_speed * math.sin(bounceAngle)\n",
    "            self.ball_move_horiz = self.ball_speed * math.cos(bounceAngle)\n",
    "        elif self.ball_collides_with_bat(self.R) and self.ball_move_horiz > 0:\n",
    "            relativeIntersectY = self.ball.ycor() - self.R.ycor()\n",
    "            normalizedRelativeIntersectionY = relativeIntersectY / self.bat_h_half\n",
    "            bounceAngle = normalizedRelativeIntersectionY * self.maxBounceAngleRadians\n",
    "            self.ball_move_vert = self.ball_speed * math.sin(bounceAngle)\n",
    "            self.ball_move_horiz = self.ball_speed * -math.cos(bounceAngle)\n",
    "\n",
    "        self.ball.setx(self.ball.xcor() + self.ball_move_horiz)\n",
    "        self.ball.sety(self.ball.ycor() + self.ball_move_vert)\n",
    "\n",
    "    def reset_ball(self):\n",
    "        self.ball_speed = self.slow_ball_speed\n",
    "\n",
    "        if self.start_ball_direction == 1:\n",
    "            self.direction_horiz = -1\n",
    "            self.start_ball_direction = -1\n",
    "            self.ball.setpos(\n",
    "                (self.window_width / 2) - 100, (self.window_height / 2) - 50\n",
    "            )\n",
    "        else:\n",
    "            self.direction_horiz = 1\n",
    "            self.start_ball_direction = 1\n",
    "            self.ball.setpos(\n",
    "                (-self.window_width / 2) + 100, (self.window_height / 2) - 50\n",
    "            )\n",
    "\n",
    "        bounceAngle = random.uniform(0.2, self.maxBounceAngleRadians)\n",
    "\n",
    "        self.ball_move_vert = self.ball_speed * math.sin(bounceAngle)\n",
    "        self.ball_move_horiz = self.ball_speed * (\n",
    "            self.direction_horiz * math.cos(bounceAngle)\n",
    "        )\n",
    "\n",
    "    #    def L_move_AI(self): # Simple AI for moving the left bat\n",
    "    #        if self.ball.xcor() < 60:\n",
    "    #            if self.L.ycor() < (self.ball.ycor() -40 ):\n",
    "    #                self.bat_L_move_direction = 1\n",
    "    #            elif self.L.ycor() > (self.ball.ycor() + 40 ):\n",
    "    #                self.bat_L_move_direction = -1\n",
    "    #            else:\n",
    "    #                self.bat_L_move_direction = 0\n",
    "\n",
    "    def L_move_AI(self, AIbrain):\n",
    "        observed_y_velocity = self.ball.ycor() - self.ball.ycor_prev()\n",
    "        observed_x_velocity = self.ball.xcor() - self.ball.xcor_prev()\n",
    "        output = AIbrain.feed_forward(\n",
    "            [\n",
    "                self.ball.ycor(),\n",
    "                self.ball.xcor(),\n",
    "                observed_y_velocity,\n",
    "                observed_x_velocity,\n",
    "                self.L.ycor(),\n",
    "            ]\n",
    "        )\n",
    "        decision = np.argmax(output, axis=0)\n",
    "        if decision == 1:\n",
    "            self.bat_L_move_direction = 1\n",
    "        elif decision == 2:\n",
    "            self.bat_L_move_direction = -1\n",
    "        else:\n",
    "            self.bat_L_move_direction = 0\n",
    "        \"\"\"\n",
    "        if self.ball.xcor() < 60:\n",
    "            if self.L.ycor() < (self.ball.ycor() -40 ):\n",
    "                self.bat_L_move_direction = 1\n",
    "            elif self.L.ycor() > (self.ball.ycor() + 40 ):\n",
    "                self.bat_L_move_direction = -1\n",
    "            else:\n",
    "                self.bat_L_move_direction = 0\n",
    "        \"\"\"\n",
    "\n",
    "    def R_move_AI(self, AIbrain):\n",
    "        observed_y_velocity = self.ball.ycor() - self.ball.ycor_prev()\n",
    "        observed_x_velocity = self.ball.xcor() - self.ball.xcor_prev()\n",
    "        output = AIbrain.feed_forward(\n",
    "            [\n",
    "                self.ball.ycor(),\n",
    "                self.ball.xcor(),\n",
    "                observed_y_velocity,\n",
    "                observed_x_velocity,\n",
    "                self.R.ycor(),\n",
    "            ]\n",
    "        )\n",
    "        decision = np.argmax(output, axis=0)\n",
    "        if decision == 1:\n",
    "            self.bat_R_move_direction = 1\n",
    "        elif decision == 2:\n",
    "            self.bat_R_move_direction = -1\n",
    "        else:\n",
    "            self.bat_R_move_direction = 0"
   ]
  },
  {
   "cell_type": "code",
   "execution_count": 7,
   "metadata": {
    "ExecuteTime": {
     "end_time": "2024-03-15T17:24:35.084539Z",
     "start_time": "2024-03-15T17:24:35.080623Z"
    },
    "id": "OICRC0fvDuIF"
   },
   "outputs": [],
   "source": [
    "def playGame(\n",
    "    PongGame, AIbrain1, AIbrain2, headless=False, maxTimesteps=5000\n",
    "):  # Pass your evolved AI in to here\n",
    "    PongGame.reset()\n",
    "    # running = True\n",
    "    timesteps = 0\n",
    "    if not headless:\n",
    "        pongDisplay = DisplayGame(\n",
    "            pongGame.window_height,\n",
    "            pongGame.window_width,\n",
    "            pongGame.bat_w_half,\n",
    "            pongGame.bat_h_half,\n",
    "        )\n",
    "\n",
    "    for timesteps in range(maxTimesteps):\n",
    "        pongGame.L_move_AI(AIbrain1)\n",
    "        pongGame.R_move_AI(AIbrain2)\n",
    "        pongGame.update_bat_positions()\n",
    "        pongGame.update_ball_position()\n",
    "        score_changed = pongGame.check_if_someone_scores()\n",
    "\n",
    "        # Let your algorithm decide on its move here (the options are L.up, L.down, or L.off)\n",
    "        if not headless:\n",
    "            time.sleep(0.005)\n",
    "            pongDisplay.update_ball_position(pongGame.ball.xcor(), pongGame.ball.ycor())\n",
    "            pongDisplay.update_L_bat_position(pongGame.L.xcor(), pongGame.L.ycor())\n",
    "            pongDisplay.update_R_bat_position(pongGame.R.xcor(), pongGame.R.ycor())\n",
    "            if score_changed:\n",
    "                pongDisplay.update_score(pongGame.score_L, pongGame.score_R)\n",
    "            pongDisplay.screen.update()\n",
    "\n",
    "    # print(\"Game Over! Scores - L: \", pongGame.score_L, \" R: \", pongGame.score_R)\n",
    "    if not headless:\n",
    "        TK.mainloop()  # terminate window\n",
    "    # Returns fitness of right bat and bitness of left bat\n",
    "    return (\n",
    "        (pongGame.score_L - pongGame.score_R),\n",
    "        (pongGame.score_R - pongGame.score_L),\n",
    "    )"
   ]
  },
  {
   "cell_type": "code",
   "execution_count": null,
   "metadata": {
    "id": "ab3t7UOyO2Zu"
   },
   "outputs": [],
   "source": []
  },
  {
   "cell_type": "markdown",
   "metadata": {
    "id": "GE2epnMADuIH"
   },
   "source": [
    "### The coevolutionary algorithm"
   ]
  },
  {
   "cell_type": "code",
   "execution_count": 8,
   "metadata": {
    "ExecuteTime": {
     "end_time": "2024-03-15T17:24:39.589565Z",
     "start_time": "2024-03-15T17:24:39.583652Z"
    },
    "id": "Lr5rEdH4DuIJ"
   },
   "outputs": [],
   "source": [
    "from deap import base\n",
    "from deap import creator\n",
    "from deap import tools"
   ]
  },
  {
   "cell_type": "code",
   "execution_count": 9,
   "metadata": {
    "ExecuteTime": {
     "end_time": "2024-03-15T17:24:41.659756Z",
     "start_time": "2024-03-15T17:24:41.657856Z"
    },
    "id": "9_ucnPzrDuIK"
   },
   "outputs": [],
   "source": [
    "NGEN, MUT_PROB = (\n",
    "    50,\n",
    "    0.5,\n",
    ")  # Remember MUT_PROB is the probability of an individual being mutated at all"
   ]
  },
  {
   "cell_type": "code",
   "execution_count": 19,
   "metadata": {
    "ExecuteTime": {
     "end_time": "2024-03-15T17:25:43.391072Z",
     "start_time": "2024-03-15T17:25:43.388749Z"
    },
    "id": "9JAa7TFZDuIK"
   },
   "outputs": [],
   "source": [
    "NUM_OPPONENTS = 2"
   ]
  },
  {
   "cell_type": "code",
   "execution_count": 10,
   "metadata": {
    "ExecuteTime": {
     "end_time": "2024-03-15T17:24:44.385370Z",
     "start_time": "2024-03-15T17:24:44.382705Z"
    },
    "id": "tQjUAYQpDuIL"
   },
   "outputs": [],
   "source": [
    "num_input_nodes = 5\n",
    "num_hidden_nodes_1 = 4\n",
    "num_hidden_nodes_2 = 4\n",
    "num_output_nodes = 3\n",
    "\n",
    "NUM_WEIGHTS = (\n",
    "    (num_input_nodes * num_hidden_nodes_1)\n",
    "    + (num_hidden_nodes_1 * num_hidden_nodes_2)\n",
    "    + (num_hidden_nodes_2 * num_output_nodes)\n",
    ")\n",
    "NUM_BIASES = num_hidden_nodes_1 + num_hidden_nodes_2 + num_output_nodes\n",
    "\n",
    "IND_SIZE = NUM_WEIGHTS + NUM_BIASES"
   ]
  },
  {
   "cell_type": "code",
   "execution_count": 11,
   "metadata": {
    "ExecuteTime": {
     "end_time": "2024-03-15T17:24:46.832151Z",
     "start_time": "2024-03-15T17:24:46.829454Z"
    },
    "id": "3uynsggSDuIM"
   },
   "outputs": [],
   "source": [
    "player_1_network = MLP(\n",
    "    num_input_nodes, num_hidden_nodes_1, num_hidden_nodes_2, num_output_nodes\n",
    ")\n",
    "player_2_network = MLP(\n",
    "    num_input_nodes, num_hidden_nodes_1, num_hidden_nodes_2, num_output_nodes\n",
    ")"
   ]
  },
  {
   "cell_type": "code",
   "execution_count": 12,
   "metadata": {
    "ExecuteTime": {
     "end_time": "2024-03-15T17:24:49.680922Z",
     "start_time": "2024-03-15T17:24:49.678689Z"
    },
    "id": "Ds_eJTzZDuIN"
   },
   "outputs": [],
   "source": [
    "pongGame = Pong()"
   ]
  },
  {
   "cell_type": "code",
   "execution_count": 13,
   "metadata": {
    "ExecuteTime": {
     "end_time": "2024-03-15T17:24:51.543994Z",
     "start_time": "2024-03-15T17:24:51.541357Z"
    },
    "id": "dx_4H8zQDuIN"
   },
   "outputs": [],
   "source": [
    "creator.create(\"FitnessMax\", base.Fitness, weights=(1.0,))\n",
    "creator.create(\"Individual\", list, fitness=creator.FitnessMax)\n",
    "\n",
    "toolbox = base.Toolbox()\n",
    "toolbox.register(\"attr_float\", random.uniform, -1.0, 1.0)\n",
    "toolbox.register(\n",
    "    \"individual\", tools.initRepeat, creator.Individual, toolbox.attr_float, n=IND_SIZE\n",
    ")"
   ]
  },
  {
   "cell_type": "markdown",
   "metadata": {
    "id": "2CFjHlheDuIO"
   },
   "source": [
    "The evaluate function I've written is slightly different from what you've seen previously. It calculates the fitnesses for all individuals in a population, rather than just for an individual. I did this because there is more code and I wanted to keep it in one place. You don't have to do it this way."
   ]
  },
  {
   "cell_type": "markdown",
   "metadata": {
    "id": "7EPvUL0jDuIO"
   },
   "source": [
    "For efficiency this evaluation function pairs up individuals from both populations and gets the fitness of each population from the same sets of games. This avoids information wasteage in the above functions, at the expense of some diversity in evaluation."
   ]
  },
  {
   "cell_type": "code",
   "execution_count": 14,
   "metadata": {
    "ExecuteTime": {
     "end_time": "2024-03-15T17:24:55.583853Z",
     "start_time": "2024-03-15T17:24:55.580374Z"
    },
    "id": "-4yJucpVDuIP"
   },
   "outputs": [],
   "source": [
    "def evaluate(pop_L, pop_R, p_L_network, p_R_network, maxTimesteps):\n",
    "    fitnesses_L = [0.0] * len(pop_L)\n",
    "    fitnesses_R = [0.0] * len(pop_R)\n",
    "\n",
    "    playOrderL = list(range(len(popL)))\n",
    "    playOrderR = list(range(len(popR)))\n",
    "\n",
    "    # How many times does each individual play to get evaluated?\n",
    "    for i in list(range(NUM_OPPONENTS)):\n",
    "        # Randomize the order of pop L to play against corresponding individuals in pop R\n",
    "        random.shuffle(playOrderL)\n",
    "\n",
    "        for i_L, i_R in zip(playOrderL, playOrderR):\n",
    "            p_L_network.set_weights_linear(popL[i_L])\n",
    "            p_R_network.set_weights_linear(popR[i_R])\n",
    "            fitness_L, fitness_R = playGame(\n",
    "                pongGame,\n",
    "                p_L_network,\n",
    "                p_R_network,\n",
    "                headless=True,\n",
    "                maxTimesteps=maxTimesteps,\n",
    "            )\n",
    "            fitnesses_L[i_L] += fitness_L\n",
    "            fitnesses_R[i_R] += fitness_R\n",
    "\n",
    "    fitnesses_L[i] = fitnesses_L[i] / NUM_OPPONENTS\n",
    "    fitnesses_R[i] = fitnesses_R[i] / NUM_OPPONENTS\n",
    "\n",
    "    # Careful here, we are returning the lists of fitnesses of both pops\n",
    "    return fitnesses_L, fitnesses_R"
   ]
  },
  {
   "cell_type": "code",
   "execution_count": 15,
   "metadata": {
    "ExecuteTime": {
     "end_time": "2024-03-15T17:25:05.821200Z",
     "start_time": "2024-03-15T17:25:05.818516Z"
    },
    "id": "6ONXUoB_DuIQ"
   },
   "outputs": [],
   "source": [
    "# toolbox.register(\"evaluate\", evaluate)\n",
    "# toolbox.register(\"evaluateL\", evaluatePopL)\n",
    "# toolbox.register(\"evaluateR\", evaluatePopR)\n",
    "toolbox.register(\"evaluate\", evaluate)\n",
    "toolbox.register(\"select\", tools.selTournament, tournsize=3)\n",
    "\n",
    "toolbox.register(\"mutate\", tools.mutGaussian, mu=0.0, sigma=0.2, indpb=0.1)\n",
    "toolbox.register(\"population\", tools.initRepeat, list, toolbox.individual)"
   ]
  },
  {
   "cell_type": "code",
   "execution_count": 16,
   "metadata": {
    "ExecuteTime": {
     "end_time": "2024-03-15T17:25:08.419150Z",
     "start_time": "2024-03-15T17:25:08.416732Z"
    },
    "id": "qCvZxVnpDuIQ"
   },
   "outputs": [],
   "source": [
    "stats = tools.Statistics(key=lambda ind: ind.fitness.values)\n",
    "stats.register(\"avg\", np.mean)\n",
    "stats.register(\"std\", np.std)\n",
    "stats.register(\"min\", np.min)\n",
    "stats.register(\"max\", np.max)"
   ]
  },
  {
   "cell_type": "code",
   "execution_count": 17,
   "metadata": {
    "ExecuteTime": {
     "end_time": "2024-03-15T17:25:11.693053Z",
     "start_time": "2024-03-15T17:25:11.689687Z"
    },
    "id": "soM8wsIWDuIR"
   },
   "outputs": [],
   "source": [
    "popL = toolbox.population(n=50)\n",
    "popR = toolbox.population(n=50)"
   ]
  },
  {
   "cell_type": "code",
   "execution_count": 20,
   "metadata": {
    "ExecuteTime": {
     "end_time": "2024-03-15T17:25:50.756343Z",
     "start_time": "2024-03-15T17:25:48.376908Z"
    },
    "id": "8nsCioClDuIS"
   },
   "outputs": [],
   "source": [
    "fitnessesL, fitnessesR = toolbox.evaluate(\n",
    "    popL, popR, player_1_network, player_2_network, maxTimesteps=1000\n",
    ")\n",
    "for ind, fit in zip(popL, fitnessesL):\n",
    "    ind.fitness.values = (fit,)\n",
    "\n",
    "for ind, fit in zip(popR, fitnessesR):\n",
    "    ind.fitness.values = (fit,)"
   ]
  },
  {
   "cell_type": "code",
   "execution_count": 21,
   "metadata": {
    "ExecuteTime": {
     "end_time": "2024-03-15T17:25:58.003268Z",
     "start_time": "2024-03-15T17:25:58.000393Z"
    },
    "id": "PvSYBOfTDuIS"
   },
   "outputs": [],
   "source": [
    "logbookL = tools.Logbook()\n",
    "recordL = stats.compile(popL)\n",
    "logbookL.record(gen=0, **recordL)\n",
    "\n",
    "logbookR = tools.Logbook()\n",
    "recordR = stats.compile(popR)\n",
    "logbookR.record(gen=0, **recordR)"
   ]
  },
  {
   "cell_type": "code",
   "execution_count": 22,
   "metadata": {
    "ExecuteTime": {
     "end_time": "2024-03-15T17:27:02.239638Z",
     "start_time": "2024-03-15T17:26:02.457833Z"
    },
    "colab": {
     "base_uri": "https://localhost:8080/",
     "height": 721
    },
    "id": "CDFEEfBODuIT",
    "outputId": "d2296ac6-5b10-4d82-b096-3c1e359dd4f3",
    "scrolled": true
   },
   "outputs": [
    {
     "name": "stdout",
     "output_type": "stream",
     "text": [
      "-- Generation 0 --\n",
      "-- Generation 1 --\n",
      "-- Generation 2 --\n",
      "-- Generation 3 --\n",
      "-- Generation 4 --\n",
      "-- Generation 5 --\n",
      "-- Generation 6 --\n",
      "-- Generation 7 --\n",
      "-- Generation 8 --\n",
      "-- Generation 9 --\n",
      "-- Generation 10 --\n",
      "-- Generation 11 --\n",
      "-- Generation 12 --\n",
      "-- Generation 13 --\n",
      "-- Generation 14 --\n",
      "-- Generation 15 --\n",
      "-- Generation 16 --\n",
      "-- Generation 17 --\n",
      "-- Generation 18 --\n",
      "-- Generation 19 --\n",
      "-- Generation 20 --\n",
      "-- Generation 21 --\n",
      "-- Generation 22 --\n",
      "-- Generation 23 --\n",
      "-- Generation 24 --\n",
      "-- Generation 25 --\n",
      "-- Generation 26 --\n",
      "-- Generation 27 --\n",
      "-- Generation 28 --\n",
      "-- Generation 29 --\n",
      "-- Generation 30 --\n",
      "-- Generation 31 --\n",
      "-- Generation 32 --\n",
      "-- Generation 33 --\n",
      "-- Generation 34 --\n",
      "-- Generation 35 --\n",
      "-- Generation 36 --\n",
      "-- Generation 37 --\n",
      "-- Generation 38 --\n",
      "-- Generation 39 --\n",
      "-- Generation 40 --\n",
      "-- Generation 41 --\n",
      "-- Generation 42 --\n",
      "-- Generation 43 --\n",
      "-- Generation 44 --\n",
      "-- Generation 45 --\n",
      "-- Generation 46 --\n",
      "-- Generation 47 --\n",
      "-- Generation 48 --\n",
      "-- Generation 49 --\n"
     ]
    }
   ],
   "source": [
    "for g in range(NGEN):\n",
    "    print(\"-- Generation %i --\" % g)\n",
    "\n",
    "    selectedL = toolbox.select(popL, len(popL))\n",
    "    offspringL = list(map(toolbox.clone, selectedL))\n",
    "    for mutantL in offspringL:\n",
    "        if random.random() < MUT_PROB:\n",
    "            toolbox.mutate(mutantL)\n",
    "    popL[:] = offspringL\n",
    "\n",
    "    selectedR = toolbox.select(popR, len(popR))\n",
    "    offspringR = list(map(toolbox.clone, selectedR))\n",
    "    for mutantR in offspringR:\n",
    "        if random.random() < MUT_PROB:\n",
    "            toolbox.mutate(mutantR)\n",
    "    popR[:] = offspringR\n",
    "\n",
    "    fitnessesL, fitnessesR = toolbox.evaluate(\n",
    "        popL, popR, player_1_network, player_2_network, maxTimesteps=500\n",
    "    )\n",
    "    for ind, fit in zip(popL, fitnessesL):\n",
    "        ind.fitness.values = (fit,)\n",
    "\n",
    "    for ind, fit in zip(popR, fitnessesR):\n",
    "        ind.fitness.values = (fit,)\n",
    "\n",
    "    recordL = stats.compile(popL)\n",
    "    logbookL.record(gen=g, **recordL)\n",
    "\n",
    "    recordR = stats.compile(popR)\n",
    "    logbookR.record(gen=g, **recordR)"
   ]
  },
  {
   "cell_type": "code",
   "execution_count": 23,
   "metadata": {
    "ExecuteTime": {
     "end_time": "2024-03-15T17:27:07.721399Z",
     "start_time": "2024-03-15T17:27:07.541905Z"
    },
    "id": "EpJrHA5KDuIV"
   },
   "outputs": [],
   "source": [
    "import matplotlib.pyplot as plt\n",
    "\n",
    "%matplotlib inline\n",
    "\n",
    "genR = logbookR.select(\"gen\")\n",
    "_minR = logbookR.select(\"min\")\n",
    "_maxR = logbookR.select(\"max\")\n",
    "avgsR = logbookR.select(\"avg\")\n",
    "stdsR = logbookR.select(\"std\")\n",
    "\n",
    "genL = logbookL.select(\"gen\")\n",
    "_minL = logbookL.select(\"min\")\n",
    "_maxL = logbookL.select(\"max\")\n",
    "avgsL = logbookL.select(\"avg\")\n",
    "stdsL = logbookL.select(\"std\")"
   ]
  },
  {
   "cell_type": "code",
   "execution_count": 24,
   "metadata": {
    "ExecuteTime": {
     "end_time": "2024-03-15T17:27:10.103081Z",
     "start_time": "2024-03-15T17:27:10.000357Z"
    },
    "colab": {
     "base_uri": "https://localhost:8080/",
     "height": 459
    },
    "id": "z3-IV2MwDuIX",
    "outputId": "903cc5f5-0efe-4fa6-bd4e-adcc0704c607",
    "scrolled": true
   },
   "outputs": [
    {
     "data": {
      "image/png": "[encoded data removed]",
      "text/plain": "<Figure size 640x480 with 1 Axes>"
     },
     "metadata": {},
     "output_type": "display_data"
    }
   ],
   "source": [
    "plt.rc(\"axes\", labelsize=14)\n",
    "plt.rc(\"xtick\", labelsize=14)\n",
    "plt.rc(\"ytick\", labelsize=14)\n",
    "plt.rc(\"legend\", fontsize=14)\n",
    "\n",
    "fig, ax1 = plt.subplots()\n",
    "line1 = ax1.plot(genR, avgsR)\n",
    "ax1.set_xlabel(\"Generation\")\n",
    "ax1.set_ylabel(\"Fitness\")\n",
    "\n",
    "line2 = ax1.plot(genL, avgsL)"
   ]
  },
  {
   "cell_type": "markdown",
   "metadata": {
    "id": "0CsfsPQjDuIZ"
   },
   "source": [
    "\n",
    "### Save the best individual and watch them play"
   ]
  },
  {
   "cell_type": "code",
   "execution_count": 25,
   "metadata": {
    "ExecuteTime": {
     "end_time": "2024-03-15T17:27:17.704792Z",
     "start_time": "2024-03-15T17:27:17.702520Z"
    },
    "id": "pfogfbKeDuIZ"
   },
   "outputs": [],
   "source": [
    "bestIndR = tools.selBest(popR, 1)[0]\n",
    "bestIndL = tools.selBest(popL, 1)[0]"
   ]
  },
  {
   "cell_type": "code",
   "execution_count": 26,
   "metadata": {
    "ExecuteTime": {
     "end_time": "2024-03-15T17:27:20.803341Z",
     "start_time": "2024-03-15T17:27:20.801003Z"
    },
    "id": "jaqkuoLNDuIa"
   },
   "outputs": [],
   "source": [
    "player_2_network.set_weights_linear(bestIndR)\n",
    "player_1_network.set_weights_linear(bestIndL)"
   ]
  },
  {
   "cell_type": "code",
   "execution_count": 27,
   "metadata": {
    "ExecuteTime": {
     "end_time": "2024-03-15T17:27:43.042600Z",
     "start_time": "2024-03-15T17:27:23.948819Z"
    },
    "colab": {
     "base_uri": "https://localhost:8080/",
     "height": 287
    },
    "id": "389473maDuIa",
    "outputId": "b332b7f8-e18f-4911-d489-20777f783b1a",
    "scrolled": true
   },
   "outputs": [],
   "source": [
    "fitness = playGame(\n",
    "    pongGame, player_1_network, player_2_network, headless=False, maxTimesteps=2000\n",
    ")"
   ]
  },
  {
   "cell_type": "code",
   "execution_count": null,
   "metadata": {
    "id": "RoIOKRWrDuIb"
   },
   "outputs": [],
   "source": [
    "fitness"
   ]
  },
  {
   "cell_type": "code",
   "execution_count": null,
   "metadata": {
    "id": "KLm-4kiLDuIc"
   },
   "outputs": [],
   "source": [
    "logbookR.select(\"max\")"
   ]
  }
 ],
 "metadata": {
  "colab": {
   "provenance": []
  },
  "kernelspec": {
   "display_name": "Python 3 (ipykernel)",
   "language": "python",
   "name": "python3"
  },
  "language_info": {
   "codemirror_mode": {
    "name": "ipython",
    "version": 3
   },
   "file_extension": ".py",
   "mimetype": "text/x-python",
   "name": "python",
   "nbconvert_exporter": "python",
   "pygments_lexer": "ipython3",
   "version": "3.9.12"
  }
 },
 "nbformat": 4,
 "nbformat_minor": 1
}
