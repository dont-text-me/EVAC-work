{
 "cells": [
  {
   "cell_type": "markdown",
   "metadata": {
    "id": "dleekeoasfpj"
   },
   "source": [
    "# Multi-objective optimisation"
   ]
  },
  {
   "cell_type": "markdown",
   "metadata": {
    "id": "uPQp-07T7LFE"
   },
   "source": [
    "# <span style=\"color:blue\">Learning Objectives</span>"
   ]
  },
  {
   "cell_type": "markdown",
   "metadata": {
    "id": "0lgAHiHE7LFE"
   },
   "source": [
    "1. Implement multi objective evolution\n",
    "2. Implement individuals with non-standard structures (in this case a set)"
   ]
  },
  {
   "cell_type": "markdown",
   "metadata": {
    "id": "cUzAOIhl7LFF"
   },
   "source": [
    "# <span style=\"color:blue\">The knapsack problem</span>"
   ]
  },
  {
   "cell_type": "markdown",
   "metadata": {
    "id": "7VRV5sed7LFG"
   },
   "source": [
    "The knapsack problem is a multi-objective problem: Given a set of possible items, each with a weight and a value, maximize the value of items in the bag, while minimizing the weight. There is also a weight restriction and restriction on the number of items in the bag.\n",
    "\n"
   ]
  },
  {
   "cell_type": "markdown",
   "metadata": {
    "id": "nXZJcf_O7LFH"
   },
   "source": [
    "A fixed number of items can be put in the bag. So the objectives for the bag is:\n",
    "1. Min(weight)\n",
    "2. Max(bag_value)\n",
    "\n",
    "With the constraints:\n",
    "- weight < limit\n",
    "- numItems < maxItems"
   ]
  },
  {
   "cell_type": "markdown",
   "metadata": {
    "id": "Ip9sOvUS7LFI"
   },
   "source": [
    "## <span style=\"color:blue\">Defining the problem</span>"
   ]
  },
  {
   "cell_type": "code",
   "execution_count": 1,
   "metadata": {
    "id": "oO7wB5IL7LFJ",
    "ExecuteTime": {
     "end_time": "2024-02-21T21:37:53.578411Z",
     "start_time": "2024-02-21T21:37:53.426837Z"
    }
   },
   "outputs": [],
   "source": [
    "import random\n",
    "import numpy"
   ]
  },
  {
   "cell_type": "code",
   "execution_count": 2,
   "metadata": {
    "id": "P7mU8s6Y7LFM",
    "ExecuteTime": {
     "end_time": "2024-02-21T21:37:53.579311Z",
     "start_time": "2024-02-21T21:37:53.549931Z"
    }
   },
   "outputs": [],
   "source": [
    "NBR_ITEMS = 100  # The number of items to choose from\n",
    "MAX_ITEM = 50  # Max items that can be in the bag\n",
    "MAX_WEIGHT = 50  # Max weight of the bag\n",
    "IND_INIT_SIZE = 5  # The initial number of random items in a bag for a new individual"
   ]
  },
  {
   "cell_type": "markdown",
   "metadata": {
    "id": "bTAHragG7LFN"
   },
   "source": [
    "The below creates a dictionary of random items that can be added to the knapsack. Item name is an integer, and value is a (weight, value) tuple."
   ]
  },
  {
   "cell_type": "code",
   "execution_count": 3,
   "metadata": {
    "id": "r4GJtKho7LFN",
    "ExecuteTime": {
     "end_time": "2024-02-21T21:37:53.579700Z",
     "start_time": "2024-02-21T21:37:53.555950Z"
    }
   },
   "outputs": [],
   "source": [
    "items = {}\n",
    "for i in range(NBR_ITEMS):\n",
    "    items[i] = (random.randint(1, 10), random.uniform(0, 100))"
   ]
  },
  {
   "cell_type": "code",
   "execution_count": 4,
   "metadata": {
    "colab": {
     "base_uri": "https://localhost:8080/"
    },
    "id": "FUGOJxds7LFO",
    "outputId": "2537ff3a-4ed8-4730-aff0-32a559ca91f1",
    "scrolled": true,
    "ExecuteTime": {
     "end_time": "2024-02-21T21:37:53.595519Z",
     "start_time": "2024-02-21T21:37:53.568352Z"
    }
   },
   "outputs": [
    {
     "data": {
      "text/plain": "{0: (8, 48.96501037910277),\n 1: (8, 88.04266397726413),\n 2: (6, 44.46875243851953),\n 3: (10, 50.71764062013614),\n 4: (4, 85.55743790560639),\n 5: (9, 2.3201656616211985),\n 6: (10, 87.37456585337341),\n 7: (6, 25.85246873205125),\n 8: (2, 56.16887894193125),\n 9: (3, 72.73293169196279),\n 10: (1, 58.65489532668534),\n 11: (3, 20.325660578239415),\n 12: (9, 46.8388769811306),\n 13: (8, 5.244667804329673),\n 14: (9, 15.67987188643688),\n 15: (3, 83.8176667319339),\n 16: (3, 76.05351151880822),\n 17: (3, 40.540717856331995),\n 18: (1, 48.76670584650613),\n 19: (2, 84.39216114058543),\n 20: (5, 81.14487842397263),\n 21: (9, 33.506195217789305),\n 22: (5, 59.33973440733746),\n 23: (8, 56.46675651647859),\n 24: (10, 18.55555014410084),\n 25: (5, 63.33340198099949),\n 26: (3, 20.530571919128338),\n 27: (5, 96.52076269870835),\n 28: (7, 36.93306308577249),\n 29: (3, 67.46358204253602),\n 30: (3, 92.78748865729551),\n 31: (1, 6.504563365716686),\n 32: (9, 6.276974693817438),\n 33: (6, 26.70339693184367),\n 34: (1, 31.637480663951568),\n 35: (5, 2.9860763360074483),\n 36: (4, 3.6305607715128807),\n 37: (8, 94.65571716690258),\n 38: (4, 93.56922701796849),\n 39: (1, 19.260693113473735),\n 40: (8, 28.142692487560428),\n 41: (8, 56.81099862219129),\n 42: (3, 69.22958931680606),\n 43: (4, 2.7051482435311747),\n 44: (2, 87.68768255149786),\n 45: (10, 15.161388452000136),\n 46: (9, 15.094384985428523),\n 47: (8, 94.92423251011479),\n 48: (10, 61.096266114282535),\n 49: (2, 29.520651756406025),\n 50: (2, 7.293418730089329),\n 51: (8, 0.9513452689218105),\n 52: (10, 78.48855195799702),\n 53: (10, 30.14353348293436),\n 54: (2, 6.994838714002594),\n 55: (5, 72.3891914086331),\n 56: (3, 75.55020563044748),\n 57: (1, 80.53789179546294),\n 58: (5, 57.51565815042261),\n 59: (6, 48.89407847187157),\n 60: (9, 73.96730548257035),\n 61: (4, 12.436238740163418),\n 62: (10, 34.51851274312554),\n 63: (2, 73.53713750510579),\n 64: (10, 48.73168516104695),\n 65: (10, 57.18110744338492),\n 66: (9, 13.636672583940578),\n 67: (5, 6.437687475698873),\n 68: (1, 33.25199404993653),\n 69: (9, 20.262791323170415),\n 70: (4, 43.6723355952883),\n 71: (6, 38.991389763707794),\n 72: (7, 62.31559442180339),\n 73: (2, 62.09816994822973),\n 74: (2, 4.26188535067864),\n 75: (4, 95.46758019254972),\n 76: (7, 83.06913584443616),\n 77: (8, 8.500099786841231),\n 78: (9, 68.87234171383986),\n 79: (3, 98.9332291187885),\n 80: (2, 51.590406474036634),\n 81: (1, 83.28578814664218),\n 82: (5, 4.200807082088421),\n 83: (5, 14.276750057839083),\n 84: (2, 32.40383306135147),\n 85: (5, 24.37931140425681),\n 86: (2, 79.02731817642726),\n 87: (4, 47.06923806250527),\n 88: (2, 33.62496898217925),\n 89: (5, 85.48297836910523),\n 90: (8, 27.685367606412868),\n 91: (3, 69.20738824978045),\n 92: (4, 14.444610724759743),\n 93: (3, 68.55369907559187),\n 94: (1, 16.410715781807806),\n 95: (2, 17.413638567905963),\n 96: (5, 71.68246594842887),\n 97: (7, 79.64528101449908),\n 98: (7, 82.18367902070796),\n 99: (4, 36.99752595448466)}"
     },
     "execution_count": 4,
     "metadata": {},
     "output_type": "execute_result"
    }
   ],
   "source": [
    "items"
   ]
  },
  {
   "cell_type": "markdown",
   "metadata": {
    "id": "boTf0WfA7LFQ"
   },
   "source": [
    "## <span style=\"color:blue\">The GA</span>"
   ]
  },
  {
   "cell_type": "code",
   "execution_count": 25,
   "metadata": {
    "id": "O6anEywB7LFQ",
    "ExecuteTime": {
     "end_time": "2024-02-22T13:35:12.716628Z",
     "start_time": "2024-02-22T13:35:12.706702Z"
    }
   },
   "outputs": [],
   "source": [
    "from deap import algorithms\n",
    "from deap import base\n",
    "from deap import creator\n",
    "from deap import tools"
   ]
  },
  {
   "cell_type": "markdown",
   "metadata": {
    "id": "gRcrQ4KS7LFR"
   },
   "source": [
    "Many evolutionary algorithm textbooks mention that the best way to have an efficient algorithm is to have a representation close the problem. **Thus, we let our individuals inherit from the set class.** You can of course try different representations."
   ]
  },
  {
   "cell_type": "code",
   "execution_count": 26,
   "metadata": {
    "colab": {
     "base_uri": "https://localhost:8080/"
    },
    "id": "vdkmcP0J7LFR",
    "outputId": "2cec2d93-9bb3-44be-bd32-89d8ce507b45",
    "ExecuteTime": {
     "end_time": "2024-02-22T13:35:15.063546Z",
     "start_time": "2024-02-22T13:35:15.059801Z"
    }
   },
   "outputs": [
    {
     "name": "stderr",
     "output_type": "stream",
     "text": [
      "/Users/ivanbar/Library/Python/3.9/lib/python/site-packages/deap/creator.py:185: RuntimeWarning: A class named 'Fitness' has already been created and it will be overwritten. Consider deleting previous creation of that class or rename it.\n",
      "  warnings.warn(\"A class named '{0}' has already been created and it \"\n",
      "/Users/ivanbar/Library/Python/3.9/lib/python/site-packages/deap/creator.py:185: RuntimeWarning: A class named 'Individual' has already been created and it will be overwritten. Consider deleting previous creation of that class or rename it.\n",
      "  warnings.warn(\"A class named '{0}' has already been created and it \"\n"
     ]
    }
   ],
   "source": [
    "creator.create(\"Fitness\", base.Fitness, weights=(-1.0, 1.0))\n",
    "creator.create(\"Individual\", set, fitness=creator.Fitness)"
   ]
  },
  {
   "cell_type": "markdown",
   "metadata": {
    "id": "pre82X3u7LFS"
   },
   "source": [
    "Set up your toolbox below by adding attr_item and individual."
   ]
  },
  {
   "cell_type": "code",
   "execution_count": 27,
   "metadata": {
    "id": "awd0p89K7LFS",
    "ExecuteTime": {
     "end_time": "2024-02-22T13:35:17.380510Z",
     "start_time": "2024-02-22T13:35:17.376237Z"
    }
   },
   "outputs": [
    {
     "data": {
      "text/plain": "{12, 20, 85, 91, 99}"
     },
     "execution_count": 27,
     "metadata": {},
     "output_type": "execute_result"
    }
   ],
   "source": [
    "toolbox = base.Toolbox()\n",
    "toolbox.register(\"attr_item\", random.randrange, NBR_ITEMS)\n",
    "toolbox.register(\n",
    "    \"individual\", tools.initRepeat, creator.Individual, toolbox.attr_item, IND_INIT_SIZE\n",
    ")\n",
    "toolbox.register(\"population\", tools.initRepeat, list, toolbox.individual)\n",
    "toolbox.individual()"
   ]
  },
  {
   "cell_type": "markdown",
   "metadata": {
    "id": "o76s_01J7LFT"
   },
   "source": [
    "Next define your evaluation function.  \n",
    "\n",
    "Remember that now we need to return two fitness items (weight and value). To ensure overweighted bags are always dominated, set the weight high (10000) and the value to zero for those that violate the constrains."
   ]
  },
  {
   "cell_type": "code",
   "execution_count": 9,
   "metadata": {
    "id": "tKwhUwlr7LFT",
    "ExecuteTime": {
     "end_time": "2024-02-21T21:37:54.572785Z",
     "start_time": "2024-02-21T21:37:54.569793Z"
    }
   },
   "outputs": [],
   "source": [
    "def evalKnapsack(individual):\n",
    "    weight = 0.0\n",
    "    value = 0.0\n",
    "    for item in individual:\n",
    "        weight += items[item][0]\n",
    "        value += items[item][1]\n",
    "    if len(individual) > MAX_ITEM or weight > MAX_WEIGHT:\n",
    "        return 10000, 0\n",
    "    return weight, value"
   ]
  },
  {
   "cell_type": "markdown",
   "metadata": {
    "id": "d-PbyjD_7LFU"
   },
   "source": [
    "The crossover and mutation operators in DEAP cannot be applied directly on sets. So you need to define your own."
   ]
  },
  {
   "cell_type": "markdown",
   "metadata": {
    "id": "Mlj42gfL7LFU"
   },
   "source": [
    "We produce two children where the first child is the intersection of the two parent sets and the second child their absolute difference."
   ]
  },
  {
   "cell_type": "code",
   "execution_count": 10,
   "metadata": {
    "id": "hgKy3UZF7LFV",
    "ExecuteTime": {
     "end_time": "2024-02-21T21:37:54.584933Z",
     "start_time": "2024-02-21T21:37:54.573706Z"
    }
   },
   "outputs": [],
   "source": [
    "def cxSet(ind1, ind2):\n",
    "    temp = set(ind1)  # Used in order to keep type\n",
    "    ind1 &= ind2  # Intersection (inplace)\n",
    "    ind2 ^= temp  # Absolute difference (inplace)\n",
    "    return ind1, ind2"
   ]
  },
  {
   "cell_type": "markdown",
   "metadata": {
    "id": "siC6F_Ew7LFV"
   },
   "source": [
    "Items in sets cannot be changed, but you can remove or add elements. Thus, mutation pops or adds elements to the set (i.e. adds or removes an item from the bag)."
   ]
  },
  {
   "cell_type": "code",
   "execution_count": 11,
   "metadata": {
    "id": "4qFNwzuw7LFW",
    "ExecuteTime": {
     "end_time": "2024-02-21T21:37:54.585334Z",
     "start_time": "2024-02-21T21:37:54.576568Z"
    }
   },
   "outputs": [],
   "source": [
    "def mutSet(individual):\n",
    "    if random.random() < 0.5:\n",
    "        if len(individual) > 0:\n",
    "            individual.remove(random.choice(sorted(tuple(individual))))\n",
    "    else:\n",
    "        individual.add(random.randrange(NBR_ITEMS))\n",
    "    return (individual,)"
   ]
  },
  {
   "cell_type": "code",
   "execution_count": 12,
   "metadata": {
    "id": "ixz56ath7LFX",
    "ExecuteTime": {
     "end_time": "2024-02-21T21:37:54.585656Z",
     "start_time": "2024-02-21T21:37:54.578614Z"
    }
   },
   "outputs": [],
   "source": [
    "toolbox.register(\"evaluate\", evalKnapsack)\n",
    "toolbox.register(\"mate\", cxSet)\n",
    "toolbox.register(\"mutate\", mutSet)"
   ]
  },
  {
   "cell_type": "markdown",
   "metadata": {
    "id": "632UDdqt7LFY"
   },
   "source": [
    "We have registered our functions in the toolbox. For select we use tools.selNSGA2, to use the NSGA2 algorithm."
   ]
  },
  {
   "cell_type": "code",
   "execution_count": 13,
   "metadata": {
    "id": "3gN8Wnmj7LFZ",
    "ExecuteTime": {
     "end_time": "2024-02-21T21:37:54.586140Z",
     "start_time": "2024-02-21T21:37:54.580623Z"
    }
   },
   "outputs": [],
   "source": [
    "toolbox.register(\"select\", tools.selNSGA2)"
   ]
  },
  {
   "cell_type": "code",
   "execution_count": 14,
   "metadata": {
    "id": "_EA3DcnN7LFa",
    "ExecuteTime": {
     "end_time": "2024-02-21T21:37:54.586542Z",
     "start_time": "2024-02-21T21:37:54.582747Z"
    }
   },
   "outputs": [],
   "source": [
    "inv1 = toolbox.individual()"
   ]
  },
  {
   "cell_type": "code",
   "execution_count": 15,
   "metadata": {
    "colab": {
     "base_uri": "https://localhost:8080/"
    },
    "id": "2kf3HVgu7LFa",
    "outputId": "abcc4fe7-3296-42ed-af1a-b213b9ac16cb",
    "ExecuteTime": {
     "end_time": "2024-02-21T21:37:54.588370Z",
     "start_time": "2024-02-21T21:37:54.584840Z"
    }
   },
   "outputs": [
    {
     "name": "stdout",
     "output_type": "stream",
     "text": [
      "Individual({0, 46, 18, 62, 94})\n"
     ]
    }
   ],
   "source": [
    "print(inv1)"
   ]
  },
  {
   "cell_type": "markdown",
   "metadata": {
    "id": "TeIHu8iI7LFb"
   },
   "source": [
    "I next define a function for comparing whether two solutions are equal. The numpy.close function can also be given a tolerence, which you could increase.\n",
    "\n",
    "It is important to note that this function should typically work on the solution, rather than fitness. This is because we want variation in the solutions along the front, and different solutions might have similar fitnesses for more complex problems. However, here we variable solution lengths and this can be done on the fitness, which is likely to lead to similar results here.\n",
    "\n",
    "It would be possible to write your own function here that only returns true if the solution is the same length, and if they are then sorting and comparing the solutions. You can have a go at writing this in the workshop if you finish the workshop mateiral."
   ]
  },
  {
   "cell_type": "code",
   "execution_count": 16,
   "metadata": {
    "id": "Mi-03pSj7LFb",
    "ExecuteTime": {
     "end_time": "2024-02-21T21:37:54.590854Z",
     "start_time": "2024-02-21T21:37:54.586906Z"
    }
   },
   "outputs": [],
   "source": [
    "def pareto_eq(ind1, ind2):\n",
    "    return numpy.allclose(ind1.fitness.values, ind2.fitness.values)"
   ]
  },
  {
   "cell_type": "code",
   "execution_count": 17,
   "metadata": {
    "id": "s7swHRzs7LFb",
    "ExecuteTime": {
     "end_time": "2024-02-21T21:37:54.597667Z",
     "start_time": "2024-02-21T21:37:54.589105Z"
    }
   },
   "outputs": [],
   "source": [
    "NGEN = 250\n",
    "CXPB = 0.5\n",
    "MUTPB = 0.2\n",
    "popSize = MU = 200\n",
    "LAMBDA = 400"
   ]
  },
  {
   "cell_type": "code",
   "execution_count": 18,
   "metadata": {
    "id": "wqCRHNZl7LFc",
    "ExecuteTime": {
     "end_time": "2024-02-21T21:37:54.598457Z",
     "start_time": "2024-02-21T21:37:54.592259Z"
    }
   },
   "outputs": [],
   "source": [
    "pop = toolbox.population(n=popSize)\n",
    "hof = tools.ParetoFront(similar=pareto_eq)\n",
    "stats = tools.Statistics(lambda ind: ind.fitness.values)\n",
    "stats.register(\"avg\", numpy.mean, axis=0)\n",
    "stats.register(\"std\", numpy.std, axis=0)\n",
    "stats.register(\"min\", numpy.min, axis=0)\n",
    "stats.register(\"max\", numpy.max, axis=0)"
   ]
  },
  {
   "cell_type": "markdown",
   "metadata": {
    "id": "feSujTfk7LFd"
   },
   "source": [
    "Below, we use a built-in algorithm for brevity. Here, we use the Mu + Lambda algorithm. This just allows us to specify two more parameters. Lambda is the number of individuals to reproduce into the next generation (we just set it to a constant population size) and Mu is the number of children to produce in each generation. We set this to double the population size so that we have choice when it comes to selection."
   ]
  },
  {
   "cell_type": "code",
   "execution_count": 19,
   "metadata": {
    "colab": {
     "base_uri": "https://localhost:8080/"
    },
    "id": "QOQgboH67LFe",
    "outputId": "5e452b01-27ff-4275-bfe4-78365acc0293",
    "ExecuteTime": {
     "end_time": "2024-02-21T21:37:59.043098Z",
     "start_time": "2024-02-21T21:37:54.654194Z"
    }
   },
   "outputs": [
    {
     "name": "stdout",
     "output_type": "stream",
     "text": [
      "gen\tnevals\tavg                        \tstd                      \tmin                      \tmax                        \n",
      "0  \t200   \t[ 26.45       232.26559052]\t[ 6.72142098 71.50100784]\t[ 9.         66.24915407]\t[ 47.         418.23557178]\n",
      "1  \t288   \t[ 4.195      65.84396646]  \t[  8.70901688 128.66900211]\t[0. 0.]                  \t[ 38.         422.03524792]\n",
      "2  \t286   \t[ 1.065      18.93543271]  \t[ 4.8208687  75.67862264]  \t[0. 0.]                  \t[ 38.         422.03524792]\n",
      "3  \t294   \t[ 1.64       28.54157203]  \t[ 5.96073821 90.35289125]  \t[0. 0.]                  \t[ 38.         422.03524792]\n",
      "4  \t286   \t[ 1.47       33.40900627]  \t[ 4.08889961 86.28180514]  \t[0. 0.]                  \t[ 29.         454.56433139]\n",
      "5  \t265   \t[ 1.98       47.46675323]  \t[  4.72965115 102.81473684]\t[0. 0.]                  \t[ 29.         454.56433139]\n",
      "6  \t278   \t[ 2.93       71.90118911]  \t[  5.55113502 118.01212826]\t[0. 0.]                  \t[ 29.         454.56433139]\n",
      "7  \t273   \t[ 2.925      81.32710917]  \t[  4.79785108 115.31822954]\t[0. 0.]                  \t[ 22.         506.53207294]\n",
      "8  \t291   \t[ 2.43       62.73569951]  \t[  5.22638498 118.26988223]\t[0. 0.]                  \t[ 27.         565.87180735]\n",
      "9  \t267   \t[ 3.07       73.93350339]  \t[  6.52725823 142.12575625]\t[0. 0.]                  \t[ 27.         565.87180735]\n",
      "10 \t284   \t[ 3.92       96.89465529]  \t[  6.79364409 149.9430705 ]\t[0. 0.]                  \t[ 27.         565.87180735]\n",
      "11 \t269   \t[  4.455      105.93790475]\t[  7.01412682 155.98217077]\t[0. 0.]                  \t[ 25.         575.73946119]\n",
      "12 \t286   \t[ 3.21       85.63550248]  \t[  6.28298496 152.86015304]\t[0. 0.]                  \t[ 25.         582.58558446]\n",
      "13 \t280   \t[ 3.88       99.84246812]  \t[  7.18370378 175.00954317]\t[0. 0.]                  \t[ 25.         582.58558446]\n",
      "14 \t289   \t[  6.56       164.32873133]\t[  8.83665095 211.08549134]\t[0. 0.]                  \t[ 26.         631.35229031]\n",
      "15 \t289   \t[  7.64      189.4500318]  \t[  9.95943774 232.53700479]\t[0. 0.]                  \t[ 26.         631.35229031]\n",
      "16 \t278   \t[ 2.655      72.06861466]  \t[  7.01968482 175.77957399]\t[0. 0.]                  \t[ 27.         661.61290264]\n",
      "17 \t284   \t[  4.825     128.9609128]  \t[  8.97520891 223.57877006]\t[0. 0.]                  \t[ 29.         700.58187962]\n",
      "18 \t283   \t[  6.335      164.92846493]\t[ 10.04702817 244.02134661]\t[0. 0.]                  \t[ 33.         786.13931753]\n",
      "19 \t300   \t[  8.755      224.31400878]\t[ 11.08264296 263.81067038]\t[0. 0.]                  \t[ 33.         786.13931753]\n",
      "20 \t281   \t[ 3.01       92.28212466]  \t[  7.2601584  191.00669303]\t[0. 0.]                  \t[ 33.         786.13931753]\n",
      "21 \t302   \t[  4.195      130.99169053]\t[  8.32808351 216.61996056]\t[0. 0.]                  \t[ 33.         786.13931753]\n",
      "22 \t270   \t[  4.86       164.49879555]\t[  8.35526182 218.42915008]\t[0. 0.]                  \t[ 40.         823.07238062]\n",
      "23 \t279   \t[  5.275      149.10566036]\t[  9.90047347 257.79706636]\t[0. 0.]                  \t[ 40.         823.07238062]\n",
      "24 \t293   \t[  5.82       148.57351895]\t[ 11.73616632 283.34259731]\t[0. 0.]                  \t[ 40.         823.07238062]\n",
      "25 \t272   \t[  6.21       162.24513142]\t[ 11.83747862 285.90395372]\t[0. 0.]                  \t[ 40.         823.07238062]\n",
      "26 \t303   \t[  6.585     174.7255203]  \t[ 11.99678186 292.90866882]\t[0. 0.]                  \t[ 43.        872.1267258]  \n",
      "27 \t287   \t[ 10.35       265.58001816]\t[ 14.3825415  336.23302859]\t[0. 0.]                  \t[ 47.         875.75728657]\n",
      "28 \t272   \t[  7.105      187.28356788]\t[ 12.74221233 300.49817312]\t[0. 0.]                  \t[ 50.         910.44694647]\n",
      "29 \t264   \t[  5.47       166.43889466]\t[ 10.06673234 263.04945475]\t[0. 0.]                  \t[ 50.         910.44694647]\n",
      "30 \t280   \t[  7.435      229.62770382]\t[ 11.70152875 281.62454355]\t[0. 0.]                  \t[ 50.         910.44694647]\n",
      "31 \t285   \t[  8.725      291.27617907]\t[ 10.16215405 270.68028525]\t[0. 0.]                  \t[ 41.        956.7550126]  \n",
      "32 \t283   \t[  6.63       239.16208384]\t[  9.46430663 259.48305289]\t[0. 0.]                  \t[ 41.        956.7550126]  \n",
      "33 \t264   \t[  8.425      301.37686362]\t[ 10.79279273 268.77970721]\t[0. 0.]                  \t[ 41.        956.7550126]  \n",
      "34 \t266   \t[ 12.505      444.29802591]\t[ 11.62497204 218.6526739 ]\t[0. 0.]                  \t[ 41.        956.7550126]  \n",
      "35 \t275   \t[ 15.615      448.71551984]\t[ 14.9263785  324.11215359]\t[0. 0.]                  \t[  49.         1013.22176911]\n",
      "36 \t287   \t[ 15.045     430.5676705]  \t[ 15.28898214 352.31401612]\t[0. 0.]                  \t[  49.         1051.41072976]\n",
      "37 \t294   \t[  7.37       224.12847617]\t[ 12.5149151  325.90382204]\t[0. 0.]                  \t[  49.         1051.41072976]\n",
      "38 \t278   \t[ 10.69      333.9919866]  \t[ 13.46714149 338.19351016]\t[0. 0.]                  \t[  49.         1051.41072976]\n",
      "39 \t277   \t[ 17.525      536.51222011]\t[ 13.62422016 298.81124629]\t[0. 0.]                  \t[  49.         1051.41072976]\n",
      "40 \t289   \t[ 15.39       490.53222235]\t[ 14.08253883 289.20102672]\t[0. 0.]                  \t[  49.         1051.41072976]\n",
      "41 \t275   \t[ 12.255      399.23241076]\t[ 15.28495911 299.81007845]\t[0. 0.]                  \t[  49.         1051.41072976]\n",
      "42 \t272   \t[  9.775      345.84080789]\t[ 12.62514851 292.70429553]\t[0. 0.]                  \t[  44.        1074.8442691]  \n",
      "43 \t281   \t[  6.945      277.49330913]\t[  9.39265538 241.00783283]\t[0. 0.]                  \t[  50.         1133.36628133]\n",
      "44 \t275   \t[  6.355      209.32545197]\t[ 11.49082134 320.79642907]\t[0. 0.]                  \t[  50.         1133.36628133]\n",
      "45 \t283   \t[  9.765      308.63163176]\t[ 14.0124864 376.8731789]  \t[0. 0.]                  \t[  50.         1133.36628133]\n",
      "46 \t282   \t[ 14.665    471.303649]    \t[ 14.43131231 368.0981006 ]\t[0. 0.]                  \t[  49.         1146.52673505]\n",
      "47 \t263   \t[ 17.525      531.17342729]\t[ 16.75468218 396.74626222]\t[0. 0.]                  \t[  50.         1182.56517996]\n",
      "48 \t281   \t[ 15.675      496.77498571]\t[ 15.90375349 387.42179912]\t[0. 0.]                  \t[  50.         1182.56517996]\n",
      "49 \t281   \t[ 21.705      676.62469548]\t[ 16.41913442 321.43240124]\t[0. 0.]                  \t[  50.         1182.56517996]\n",
      "50 \t277   \t[ 32.075      872.78175893]\t[ 15.38211218 309.39186985]\t[0. 0.]                  \t[  50.         1182.56517996]\n",
      "51 \t285   \t[ 16.94       561.42761579]\t[ 15.04581005 392.60138154]\t[0. 0.]                  \t[  50.         1182.56517996]\n",
      "52 \t283   \t[ 17.015      565.25265073]\t[ 14.98281599 411.10442489]\t[0. 0.]                  \t[  50.         1182.56517996]\n",
      "53 \t277   \t[ 24.08       807.06094919]\t[ 11.03329507 217.91239192]\t[0. 0.]                  \t[  50.         1182.56517996]\n",
      "54 \t277   \t[ 23.815      746.64251192]\t[ 14.80813206 332.84866537]\t[0. 0.]                  \t[  50.         1252.80565726]\n",
      "55 \t278   \t[ 19.41       655.09160448]\t[ 13.89611097 363.16001361]\t[0. 0.]                  \t[  50.         1252.80565726]\n",
      "56 \t269   \t[ 24.225      815.49848515]\t[ 10.08237943 209.963016  ]\t[0. 0.]                  \t[  50.         1252.80565726]\n",
      "57 \t276   \t[ 19.2        674.81608604]\t[ 12.97690256 320.29376466]\t[0. 0.]                  \t[  50.         1252.80565726]\n",
      "58 \t262   \t[ 25.335      836.65273887]\t[ 12.22181554 241.70725141]\t[0. 0.]                  \t[  50.         1252.80565726]\n",
      "59 \t306   \t[ 23.96       754.65865913]\t[ 16.57493288 369.6820968 ]\t[0. 0.]                  \t[  50.         1252.80565726]\n",
      "60 \t278   \t[ 31.315      932.65080646]\t[ 14.51915201 274.2971659 ]\t[0. 0.]                  \t[  50.         1252.80565726]\n",
      "61 \t273   \t[ 29.535      835.72624691]\t[ 20.03768387 440.11094872]\t[0. 0.]                  \t[  50.         1252.80565726]\n",
      "62 \t275   \t[  39.755      1057.51020722]\t[ 16.73992159 347.32897266]\t[0. 0.]                  \t[  50.         1252.80565726]\n",
      "63 \t285   \t[  49.085      1237.79392056]\t[ 5.25906598 93.43215612]  \t[  5.         310.16625782]\t[  50.         1252.80565726]\n",
      "64 \t272   \t[  47.615      1210.18546404]\t[  8.48214448 166.25263218]\t[  3.        170.9734707]  \t[  50.         1252.80565726]\n",
      "65 \t284   \t[  45.715      1179.66998126]\t[ 10.92125336 202.84111416]\t[  3.        170.9734707]  \t[  50.         1252.80565726]\n",
      "66 \t283   \t[  50.         1252.80565726]\t[0.00000000e+00 2.72848411e-12]\t[  50.         1252.80565726]\t[  50.         1252.80565726]\n",
      "67 \t278   \t[  49.88       1251.16043225]\t[ 0.77820306 10.45335542]      \t[  43.         1173.16037625]\t[  50.         1252.80565726]\n",
      "68 \t274   \t[  49.845      1250.76220584]\t[ 0.91704689 11.81188237]      \t[  43.         1173.16037625]\t[  50.         1252.80565726]\n",
      "69 \t273   \t[  49.155      1242.52227513]\t[ 2.22956834 27.8840738 ]      \t[  40.         1089.34270952]\t[  50.         1268.62795644]\n",
      "70 \t280   \t[  49.41       1245.35809817]\t[ 2.112321   31.49763498]      \t[  38.         1071.92907095]\t[  50.         1268.62795644]\n",
      "71 \t273   \t[  48.265     1230.3326783]  \t[ 3.53196475 52.91323302]      \t[  38.         1071.92907095]\t[  50.         1275.13251981]\n",
      "72 \t278   \t[  43.545     1164.8249017]  \t[ 4.18305809 71.63440909]      \t[ 36.        984.2413884]    \t[  50.         1275.13251981]\n",
      "73 \t276   \t[  41.105      1136.04411377]\t[ 3.39175102 73.87895334]      \t[ 33.         905.60444479]  \t[  49.         1275.62279515]\n",
      "74 \t282   \t[  41.975      1156.79836811]\t[ 4.11878319 85.85351431]      \t[ 31.         893.58414439]  \t[  49.         1315.10069619]\n",
      "75 \t284   \t[  40.23       1128.41785236]\t[  5.648637   118.33246792]    \t[ 28.         892.03395145]  \t[  50.         1315.10069619]\n",
      "76 \t284   \t[  36.725      1067.98641264]\t[  6.14974593 128.24467146]    \t[ 23.         768.53358326]  \t[  50.         1349.16584824]\n",
      "77 \t260   \t[  37.13       1077.98620313]\t[ 3.87854354 84.36796535]      \t[ 22.         731.78288075]  \t[  48.         1349.16584824]\n",
      "78 \t288   \t[  34.785      1038.88999043]\t[  5.83084685 129.8662022 ]    \t[ 21.         731.00114239]  \t[  48.         1349.16584824]\n",
      "79 \t279   \t[  33.48       1020.71032826]\t[  5.51811562 125.92812646]    \t[ 18.         662.95941998]  \t[  48.         1349.16584824]\n",
      "80 \t269   \t[ 30.32       944.36096207]  \t[  7.04752439 164.07244088]    \t[ 17.         645.44370449]  \t[  48.         1349.16584824]\n",
      "81 \t279   \t[ 28.665      916.80222698]  \t[ 10.13325096 235.77142324]    \t[ 14.         569.39019297]  \t[  48.         1349.16584824]\n",
      "82 \t274   \t[  32.425      1005.69472156]\t[ 10.63693447 246.49751533]    \t[ 14.         569.39019297]  \t[  49.         1382.41784229]\n",
      "83 \t288   \t[  35.82       1088.06806782]\t[  8.98986096 202.7933498 ]    \t[ 12.         495.85305546]  \t[  49.         1382.41784229]\n",
      "84 \t269   \t[  34.675      1049.25541881]\t[ 14.04561764 329.94317898]    \t[ 11.         412.24263268]  \t[  50.         1411.26401818]\n",
      "85 \t278   \t[  42.93       1239.68294482]\t[ 10.25354085 233.78948354]    \t[  9.        403.0655668]    \t[  50.         1428.19316641]\n",
      "86 \t258   \t[  34.795      1056.20742021]\t[ 14.31058961 344.44818981]    \t[  6.         304.13233769]  \t[  50.         1428.19316641]\n",
      "87 \t281   \t[  39.7        1168.40181658]\t[ 13.12973724 305.52698689]    \t[  6.         304.13233769]  \t[  50.         1428.19316641]\n",
      "88 \t289   \t[ 25.74       851.95256568]  \t[ 13.43214056 344.0028236 ]    \t[  5.         230.98572311]  \t[  50.         1428.19316641]\n",
      "89 \t286   \t[ 26.485      887.70202402]  \t[ 12.43100056 326.70995215]    \t[  4.         147.69993497]  \t[  50.         1428.19316641]\n",
      "90 \t289   \t[ 26.06       878.49034144]  \t[ 12.73249386 329.84300351]    \t[ 1.         48.76670585]    \t[  50.         1428.19316641]\n",
      "91 \t291   \t[ 29.215     953.0258742]    \t[ 13.76222275 366.46974034]    \t[0. 0.]                      \t[  50.         1428.19316641]\n",
      "92 \t269   \t[ 31.355      994.32115143]  \t[ 15.61278242 409.66776731]    \t[0. 0.]                      \t[  50.         1428.19316641]\n",
      "93 \t282   \t[  33.375      1016.53937808]\t[ 18.92708047 511.60055783]    \t[0. 0.]                      \t[  50.         1428.19316641]\n",
      "94 \t265   \t[ 16.78       579.35338374]  \t[ 15.95435991 496.36111947]    \t[0. 0.]                      \t[  50.         1451.43792819]\n",
      "95 \t271   \t[ 23.205      788.33737811]  \t[ 15.83202372 456.24717019]    \t[0. 0.]                      \t[  50.         1451.43792819]\n",
      "96 \t282   \t[ 26.04      853.2299088]    \t[ 17.12946    492.05308675]    \t[0. 0.]                      \t[  50.         1451.43792819]\n",
      "97 \t291   \t[  34.645      1102.02893575]\t[ 12.96992579 319.64312855]    \t[0. 0.]                      \t[  50.         1451.43792819]\n",
      "98 \t271   \t[  33.255     1077.0428588]  \t[ 12.61942847 307.49195221]    \t[0. 0.]                      \t[  50.         1451.43792819]\n",
      "99 \t289   \t[ 25.175      871.40617615]  \t[ 13.28549491 371.74736606]    \t[0. 0.]                      \t[  50.         1451.43792819]\n",
      "100\t294   \t[ 27.71       960.71480935]  \t[ 10.45016268 264.42221993]    \t[0. 0.]                      \t[  50.         1451.43792819]\n",
      "101\t283   \t[  30.055      1012.73056801]\t[ 11.98465581 300.42139467]    \t[0. 0.]                      \t[  50.         1451.43792819]\n",
      "102\t280   \t[ 30.585      982.98182432]  \t[ 18.35763533 475.29144746]    \t[0. 0.]                      \t[  50.         1451.43792819]\n",
      "103\t259   \t[  37.955      1179.41513715]\t[ 14.43859325 362.67391135]    \t[0. 0.]                      \t[  50.         1451.43792819]\n",
      "104\t276   \t[  42.46       1279.00845135]\t[ 12.44822879 315.79651221]    \t[0. 0.]                      \t[  50.         1462.36993432]\n",
      "105\t283   \t[  33.9        1068.67123556]\t[ 16.9640797  453.53931376]    \t[0. 0.]                      \t[  50.         1462.36993432]\n",
      "106\t292   \t[  37.765      1177.74931777]\t[ 14.48550223 357.38703874]    \t[0. 0.]                      \t[  50.         1462.36993432]\n",
      "107\t280   \t[  35.845      1138.25358322]\t[ 14.49382541 359.17592781]    \t[0. 0.]                      \t[  50.         1462.36993432]\n",
      "108\t282   \t[  40.275     1231.5929057]  \t[ 13.85638391 352.51737425]    \t[0. 0.]                      \t[  50.         1462.36993432]\n",
      "109\t255   \t[ 25.285      870.71546119]  \t[ 16.05222025 446.75268996]    \t[0. 0.]                      \t[  50.         1462.36993432]\n",
      "110\t281   \t[ 17.815      649.80143261]  \t[ 16.11988756 484.74397348]    \t[0. 0.]                      \t[  50.         1462.36993432]\n",
      "111\t278   \t[ 23.865      844.60155934]  \t[ 16.24705435 442.67710751]    \t[0. 0.]                      \t[  50.         1462.36993432]\n",
      "112\t287   \t[ 23.39       859.69777959]  \t[ 13.15286661 351.78789378]    \t[0. 0.]                      \t[  50.         1486.13302436]\n",
      "113\t280   \t[ 25.625      890.63521614]  \t[ 16.28785974 462.98596849]    \t[0. 0.]                      \t[  50.         1486.13302436]\n",
      "114\t277   \t[ 23.045      830.33457329]  \t[ 15.63019434 428.19971442]    \t[0. 0.]                      \t[  50.         1486.13302436]\n",
      "115\t280   \t[ 20.52       758.11468036]  \t[ 15.86409783 430.88783625]    \t[0. 0.]                      \t[  50.         1486.13302436]\n",
      "116\t262   \t[  30.91       1061.05330377]\t[ 13.51857611 336.50559511]    \t[0. 0.]                      \t[  50.         1486.13302436]\n",
      "117\t259   \t[  36.085      1168.32448984]\t[ 14.10665712 337.9011368 ]    \t[0. 0.]                      \t[  50.         1486.13302436]\n",
      "118\t294   \t[ 23.74       884.29599752]  \t[ 11.79459198 350.52760212]    \t[0. 0.]                      \t[  50.         1486.13302436]\n",
      "119\t276   \t[ 17.8        661.66360256]  \t[ 15.83982323 484.8804721 ]    \t[0. 0.]                      \t[  50.         1486.13302436]\n",
      "120\t286   \t[ 16.405      596.36207359]  \t[ 16.60002937 530.25099859]    \t[0. 0.]                      \t[  50.         1486.13302436]\n",
      "121\t283   \t[ 19.795      703.84558663]  \t[ 17.20996732 538.77254115]    \t[0. 0.]                      \t[  50.         1486.13302436]\n",
      "122\t279   \t[ 22.13       817.53674362]  \t[ 14.47940261 423.98279423]    \t[0. 0.]                      \t[  48.         1492.79450554]\n",
      "123\t268   \t[ 26.155      953.41850454]  \t[ 11.42370233 340.95684012]    \t[0. 0.]                      \t[  48.         1492.79450554]\n",
      "124\t269   \t[ 26.35       929.31745576]  \t[ 14.4196914  446.34827467]    \t[0. 0.]                      \t[  48.         1492.79450554]\n",
      "125\t293   \t[  31.2        1079.02594028]\t[ 11.60258592 321.10982102]    \t[0. 0.]                      \t[  48.         1492.79450554]\n",
      "126\t292   \t[  30.905      1071.13199356]\t[ 11.46019088 316.44384606]    \t[0. 0.]                      \t[  48.         1492.79450554]\n",
      "127\t284   \t[ 22.44       835.46932846]  \t[ 14.03090874 429.53091336]    \t[0. 0.]                      \t[  48.         1492.79450554]\n",
      "128\t284   \t[ 18.775      693.03825152]  \t[ 16.3900694 519.4784361]      \t[0. 0.]                      \t[  48.         1492.79450554]\n",
      "129\t278   \t[ 20.625      752.04680647]  \t[ 16.56545728 526.04479218]    \t[0. 0.]                      \t[  48.         1492.79450554]\n",
      "130\t301   \t[ 14.91       562.35312607]  \t[ 15.26931236 524.34385357]    \t[0. 0.]                      \t[  50.         1529.22636468]\n",
      "131\t287   \t[ 20.435      747.74872977]  \t[ 15.86366209 523.61595749]    \t[0. 0.]                      \t[  50.         1529.22636468]\n",
      "132\t277   \t[ 17.84       650.94976057]  \t[ 16.74050178 557.24639468]    \t[0. 0.]                      \t[  50.         1529.22636468]\n",
      "133\t275   \t[ 20.33       745.10583721]  \t[ 16.2021943 531.7672528]      \t[0. 0.]                      \t[  50.         1574.39525533]\n",
      "134\t262   \t[  28.735      1045.05595261]\t[ 11.66810932 316.62000572]    \t[0. 0.]                      \t[  50.         1574.39525533]\n",
      "135\t272   \t[  28.12       1019.72015391]\t[ 13.36284401 369.26680369]    \t[0. 0.]                      \t[  50.         1574.39525533]\n",
      "136\t276   \t[  29.75       1058.28346655]\t[ 14.42627811 399.6087127 ]    \t[0. 0.]                      \t[  50.         1574.39525533]\n",
      "137\t298   \t[ 26.43       977.46366367]  \t[ 12.4801883  367.43914466]    \t[0. 0.]                      \t[  50.         1574.39525533]\n",
      "138\t273   \t[  27.855      1031.30801586]\t[ 11.53880301 313.71441535]    \t[0. 0.]                      \t[  50.         1574.39525533]\n",
      "139\t275   \t[ 26.125      987.44895796]  \t[ 10.49187185 291.2670478 ]    \t[0. 0.]                      \t[  50.         1574.39525533]\n",
      "140\t279   \t[ 24.4        885.67348782]  \t[ 16.55656969 492.27370288]    \t[0. 0.]                      \t[  50.         1574.39525533]\n",
      "141\t265   \t[ 29.17       999.47046185]  \t[ 18.73529023 560.47037419]    \t[0. 0.]                      \t[  50.         1574.39525533]\n",
      "142\t258   \t[  36.985      1245.05938447]\t[ 15.24056347 405.70214422]    \t[0. 0.]                      \t[  50.         1574.39525533]\n",
      "143\t276   \t[  42.295      1370.57844972]\t[ 14.62251603 401.99720637]    \t[0. 0.]                      \t[  50.         1574.39525533]\n",
      "144\t280   \t[  38.105      1264.89414278]\t[ 16.11936646 439.77228165]    \t[0. 0.]                      \t[  50.         1574.39525533]\n",
      "145\t292   \t[  46.18       1469.34457372]\t[ 11.44934933 329.7032949 ]    \t[0. 0.]                      \t[  50.         1574.39525533]\n",
      "146\t279   \t[  43.61       1401.49814557]\t[ 13.80825478 394.75089485]    \t[0. 0.]                      \t[  50.         1574.39525533]\n",
      "147\t282   \t[  43.75       1410.61121922]\t[ 12.74705848 356.90958266]    \t[0. 0.]                      \t[  50.         1574.39525533]\n",
      "148\t263   \t[  50.         1574.39525533]\t[0.00000000e+00 1.59161573e-12]\t[  50.         1574.39525533]\t[  50.         1574.39525533]\n",
      "149\t289   \t[  50.         1574.39525533]\t[0.00000000e+00 1.59161573e-12]\t[  50.         1574.39525533]\t[  50.         1574.39525533]\n",
      "150\t286   \t[  49.925      1572.82703863]\t[ 0.48925964 10.79648379]      \t[  46.         1480.82602831]\t[  50.         1574.39525533]\n",
      "151\t301   \t[  50.         1574.39525533]\t[0.00000000e+00 1.59161573e-12]\t[  50.         1574.39525533]\t[  50.         1574.39525533]\n",
      "152\t278   \t[  49.94       1573.10517012]\t[0.43174066 9.59074422]        \t[  46.         1480.82602831]\t[  50.         1574.39525533]\n",
      "153\t305   \t[  49.92       1572.63732398]\t[ 0.51341991 11.59018435]      \t[  46.         1480.82602831]\t[  50.         1574.39525533]\n",
      "154\t279   \t[  49.545      1564.46182817]\t[ 1.14803092 25.89515419]      \t[  44.         1438.37797421]\t[  50.         1578.49957256]\n",
      "155\t271   \t[  48.135     1533.8156981]  \t[ 1.74836352 40.32165915]      \t[  43.         1412.27232924]\t[  50.         1578.49957256]\n",
      "156\t283   \t[  47.125      1517.86902984]\t[ 1.36725089 34.17996115]      \t[  40.        1344.8087472]  \t[  50.         1578.49957256]\n",
      "157\t288   \t[  47.6        1535.30578382]\t[ 1.59687194 37.51548473]      \t[  38.         1315.28809544]\t[  50.         1582.48187892]\n",
      "158\t288   \t[  47.18       1524.96458909]\t[ 2.52341039 59.46282802]      \t[  35.         1231.47042871]\t[  50.         1582.48187892]\n",
      "159\t280   \t[  44.85       1469.39672347]\t[ 4.19136016 97.63925319]      \t[  35.         1231.47042871]\t[  50.         1582.48187892]\n",
      "160\t285   \t[  40.7        1373.41665166]\t[  4.67332858 105.52990815]    \t[  33.         1179.88002223]\t[  50.         1582.48187892]\n",
      "161\t281   \t[  40.105      1362.34779997]\t[  4.47816648 101.82179008]    \t[  33.         1179.88002223]\t[  50.         1582.48187892]\n",
      "162\t273   \t[  41.375      1389.74742155]\t[  5.57443943 128.43921328]    \t[  29.         1084.41244204]\t[  50.         1582.48187892]\n",
      "163\t287   \t[  41.93       1396.76575465]\t[  7.19827063 171.09634283]    \t[  29.         1084.41244204]\t[  50.         1582.48187892]\n",
      "164\t284   \t[  46.84       1514.05180107]\t[  4.88818985 113.02706575]    \t[  28.         1051.16044799]\t[  50.         1582.48187892]\n",
      "165\t283   \t[  46.905      1512.63333456]\t[  5.89796363 137.21695869]    \t[  28.         1051.16044799]\t[  50.         1582.48187892]\n",
      "166\t293   \t[  46.88       1513.30554297]\t[  5.31654023 122.94749496]    \t[  27.        1000.0202809]  \t[  50.         1582.48187892]\n",
      "167\t272   \t[  45.905      1492.11539373]\t[  5.66356557 133.26866607]    \t[ 26.         966.76828685]  \t[  50.         1582.48187892]\n",
      "168\t270   \t[  45.01       1474.88709368]\t[  5.06062249 116.84868964]    \t[ 25.         981.93085867]  \t[  50.         1582.48187892]\n",
      "169\t283   \t[  45.63       1485.28199896]\t[  6.22278876 143.83939753]    \t[ 25.         981.93085867]  \t[  50.         1582.48187892]\n",
      "170\t275   \t[  46.195      1495.62240215]\t[  7.08215892 166.43195288]    \t[ 24.         946.26076057]  \t[  50.         1582.48187892]\n",
      "171\t289   \t[  45.695      1485.76536805]\t[  6.87982376 161.29130818]    \t[ 23.         925.76197973]  \t[  50.         1582.48187892]\n",
      "172\t295   \t[  44.965      1469.43393054]\t[  7.21205761 170.91286559]    \t[ 23.         925.76197973]  \t[  50.         1582.48187892]\n",
      "173\t288   \t[  46.78       1509.59619944]\t[  6.70161175 157.80659205]    \t[ 23.         925.76197973]  \t[  50.         1582.48187892]\n",
      "174\t295   \t[  46.445      1502.63209307]\t[  6.94600425 164.27382628]    \t[ 23.         925.76197973]  \t[  50.         1582.48187892]\n",
      "175\t285   \t[  45.315      1477.80397719]\t[  7.72112524 184.07133251]    \t[ 23.         925.76197973]  \t[  50.         1582.48187892]\n",
      "176\t289   \t[  45.995      1495.15530561]\t[  7.06292963 168.08746985]    \t[ 18.         787.61029826]  \t[  50.         1582.48187892]\n",
      "177\t267   \t[  44.76       1461.70579166]\t[  8.47067884 201.5823893 ]    \t[ 18.         787.61029826]  \t[  50.         1582.48187892]\n",
      "178\t267   \t[  44.255      1452.90525684]\t[  8.006246   188.29999814]    \t[ 18.         787.61029826]  \t[  50.         1582.48187892]\n",
      "179\t287   \t[  44.69       1460.96982295]\t[  8.50610957 201.91847568]    \t[ 17.         738.84359242]  \t[  50.         1582.48187892]\n",
      "180\t278   \t[  49.51      1570.5581784]  \t[ 3.81836352 94.28404537]      \t[ 17.         756.92097956]  \t[  50.         1582.48187892]\n",
      "181\t281   \t[  48.73       1551.59658319]\t[  5.96633053 148.86750168]    \t[ 14.         657.98775044]  \t[  50.         1582.48187892]\n",
      "182\t279   \t[  50.         1582.48187892]\t[0.00000000e+00 2.27373675e-13]\t[  50.         1582.48187892]\t[  50.         1582.48187892]\n",
      "183\t267   \t[  49.92      1580.7130464]  \t[ 0.51341991 11.65232487]      \t[  46.        1488.9126519]  \t[  50.         1582.48187892]\n",
      "184\t268   \t[  49.9        1580.24520026]\t[ 0.58309519 13.3296179 ]      \t[  46.        1488.9126519]  \t[  50.         1582.48187892]\n",
      "185\t274   \t[  49.91       1580.73470331]\t[ 0.54945427 11.22726639]      \t[  45.         1483.73163785]\t[  50.         1582.48187892]\n",
      "186\t271   \t[  49.905     1580.5755571]  \t[ 0.62126886 12.58772852]      \t[  45.         1483.73163785]\t[  50.         1582.48187892]\n",
      "187\t283   \t[  50.         1582.48187892]\t[0.00000000e+00 2.27373675e-13]\t[  50.         1582.48187892]\t[  50.         1582.48187892]\n",
      "188\t276   \t[  50.         1582.48187892]\t[0.00000000e+00 2.27373675e-13]\t[  50.         1582.48187892]\t[  50.         1582.48187892]\n",
      "189\t289   \t[  50.         1582.48187892]\t[0.00000000e+00 2.27373675e-13]\t[  50.         1582.48187892]\t[  50.         1582.48187892]\n",
      "190\t283   \t[  49.9        1579.98648322]\t[ 0.53851648 13.05808565]      \t[  46.         1487.01429873]\t[  50.         1582.48187892]\n",
      "191\t285   \t[  49.865      1578.90244148]\t[ 0.73944236 19.66366395]      \t[  43.         1394.22681007]\t[  50.         1582.48187892]\n",
      "192\t263   \t[  50.         1582.48187892]\t[0.00000000e+00 2.27373675e-13]\t[  50.         1582.48187892]\t[  50.         1582.48187892]\n",
      "193\t292   \t[  50.         1582.48187892]\t[0.00000000e+00 2.27373675e-13]\t[  50.         1582.48187892]\t[  50.         1582.48187892]\n",
      "194\t290   \t[  50.         1582.48187892]\t[0.00000000e+00 2.27373675e-13]\t[  50.         1582.48187892]\t[  50.         1582.48187892]\n",
      "195\t279   \t[  49.945     1581.0679211]  \t[0.38983971 9.58642264]        \t[  46.         1487.01429873]\t[  50.         1582.48187892]\n",
      "196\t273   \t[  50.         1582.48187892]\t[0.00000000e+00 2.27373675e-13]\t[  50.         1582.48187892]\t[  50.         1582.48187892]\n",
      "197\t278   \t[  50.         1582.48187892]\t[0.00000000e+00 2.27373675e-13]\t[  50.         1582.48187892]\t[  50.         1582.48187892]\n",
      "198\t271   \t[  49.91       1580.55868424]\t[ 0.53094256 11.85307445]      \t[  46.        1488.9126519]  \t[  50.         1582.48187892]\n",
      "199\t291   \t[  49.86       1579.18521868]\t[ 0.78765475 19.03855139]      \t[  43.         1419.68306258]\t[  50.         1582.48187892]\n",
      "200\t287   \t[  49.855      1579.23425729]\t[ 0.77715829 18.09577462]      \t[  43.         1419.68306258]\t[  50.         1582.48187892]\n",
      "201\t280   \t[  49.315      1567.20142228]\t[ 1.40562264 32.71157219]      \t[  43.         1419.68306258]\t[  50.         1586.58619615]\n",
      "202\t275   \t[  48.375      1548.50590085]\t[ 1.91947258 44.56801718]      \t[  40.         1351.12936351]\t[  50.         1586.58619615]\n",
      "203\t290   \t[  47.405      1533.28266543]\t[ 1.2692419  33.50038178]      \t[  40.         1351.12936351]\t[  50.         1586.58619615]\n",
      "204\t270   \t[  47.135      1530.92671796]\t[ 2.16951031 50.99320236]      \t[  38.         1321.60871175]\t[  50.         1586.66111154]\n",
      "205\t289   \t[  46.8        1524.47001417]\t[ 3.11929479 72.68135296]      \t[  32.         1174.55072509]\t[  50.         1586.66111154]\n",
      "206\t278   \t[  43.49       1446.20208328]\t[  4.67866434 108.70650461]    \t[  32.         1174.55072509]\t[  50.         1586.66111154]\n",
      "207\t282   \t[  38.45       1328.34676339]\t[  4.58993464 106.03473619]    \t[  29.         1075.61749597]\t[  50.         1586.66111154]\n",
      "208\t284   \t[  37.545      1303.12433898]\t[  6.5649048  151.69150955]    \t[  29.         1098.49721357]\t[  50.         1586.66111154]\n",
      "209\t284   \t[  35.945    1265.302547]    \t[  6.85506929 158.55974128]    \t[  27.         1025.59435749]\t[  50.         1586.66111154]\n",
      "210\t270   \t[  38.525      1322.92428718]\t[  8.05229005 188.36031967]    \t[  26.         1009.07634058]\t[  50.         1586.66111154]\n",
      "211\t283   \t[  42.17       1404.84388351]\t[  9.06096573 216.22503265]    \t[ 25.         972.45773086]  \t[  50.         1586.66111154]\n",
      "212\t281   \t[  45.49       1484.55539061]\t[  7.07600876 164.81701769]    \t[ 22.         873.52450174]  \t[  50.         1586.66111154]\n",
      "213\t277   \t[  43.885      1448.77319547]\t[  7.34042063 172.39199602]    \t[ 22.         873.52450174]  \t[  50.         1586.66111154]\n",
      "214\t289   \t[  43.435      1437.11359956]\t[  8.17470336 193.05109758]    \t[ 22.         873.52450174]  \t[  50.         1586.66111154]\n",
      "215\t270   \t[  42.52       1416.32185162]\t[  8.96156236 210.69972772]    \t[ 17.         741.80541717]  \t[  50.         1586.66111154]\n",
      "216\t293   \t[  42.395      1412.61182383]\t[  9.22816206 219.05462685]    \t[ 17.         741.80541717]  \t[  50.         1586.66111154]\n",
      "217\t264   \t[  39.275      1343.82173036]\t[  8.64056566 204.88965221]    \t[ 17.         741.80541717]  \t[  50.         1586.66111154]\n",
      "218\t284   \t[  40.995      1382.21643557]\t[  9.06117956 212.87044083]    \t[ 17.         741.80541717]  \t[  50.         1586.66111154]\n",
      "219\t293   \t[  45.785      1486.71810879]\t[  8.75492861 211.89825333]    \t[ 17.         756.92097956]  \t[  50.         1586.66111154]\n",
      "220\t266   \t[  36.93       1278.12789404]\t[ 11.20067409 280.0695621 ]    \t[ 17.         756.92097956]  \t[  50.         1591.10327119]\n",
      "221\t276   \t[  35.63       1240.47735637]\t[ 12.62826591 320.69081649]    \t[ 14.         657.98775044]  \t[  50.         1591.10327119]\n",
      "222\t275   \t[  37.01       1271.50024932]\t[ 12.84834231 322.42557252]    \t[ 14.         657.98775044]  \t[  50.         1591.10327119]\n",
      "223\t281   \t[  42.38       1402.79079933]\t[ 10.66656458 262.49882383]    \t[ 12.         584.45061293]  \t[  50.         1591.10327119]\n",
      "224\t283   \t[  30.285    1113.046971]    \t[ 10.54057755 275.72270839]    \t[ 12.         595.88958049]  \t[  50.         1591.10327119]\n",
      "225\t276   \t[  34.32       1216.67722079]\t[ 10.52176791 268.98183954]    \t[ 10.         508.20189794]  \t[  50.         1591.10327119]\n",
      "226\t293   \t[  33.93       1214.01857356]\t[  8.70201701 224.29294339]    \t[ 10.         511.49741935]  \t[  50.         1591.10327119]\n",
      "227\t291   \t[  29.16       1081.68250998]\t[ 11.13931775 294.02004156]    \t[ 10.         511.49741935]  \t[  50.         1591.10327119]\n",
      "228\t276   \t[  32.705      1164.61118669]\t[ 13.01299255 346.90078518]    \t[  8.         432.47010117]  \t[  50.         1591.10327119]\n",
      "229\t299   \t[  27.665     1033.9166592]  \t[ 12.12529484 338.1425799 ]    \t[  8.         432.47010117]  \t[  50.         1596.06297044]\n",
      "230\t279   \t[  28.95       1075.27042528]\t[ 10.84838698 299.5005161 ]    \t[  6.         358.93296367]  \t[  50.         1596.06297044]\n",
      "231\t274   \t[ 25.42       970.76886832]  \t[ 12.3033979  340.03187941]    \t[  6.         358.93296367]  \t[  50.         1596.06297044]\n",
      "232\t290   \t[ 24.415      928.04753458]  \t[ 14.38098658 414.89776096]    \t[  5.         310.16625782]  \t[  50.         1603.85940094]\n",
      "233\t280   \t[  28.26       1030.91751729]\t[ 15.10107281 436.71116215]    \t[  5.         310.16625782]  \t[  50.         1603.85940094]\n",
      "234\t279   \t[ 21.095      816.02292586]  \t[ 15.87249114 470.06167947]    \t[  3.         222.47857527]  \t[  50.         1603.85940094]\n",
      "235\t286   \t[ 27.075      998.45754046]  \t[ 15.1601245  441.10612096]    \t[  3.         222.47857527]  \t[  50.         1603.85940094]\n",
      "236\t291   \t[  31.125      1122.75752889]\t[ 12.71020751 361.70275569]    \t[  2.         139.19278712]  \t[  50.         1603.85940094]\n",
      "237\t270   \t[  31.025      1129.70020356]\t[ 11.44047093 318.3881763 ]    \t[  2.         163.82367994]  \t[  50.         1603.85940094]\n",
      "238\t257   \t[  30.31       1089.63819646]\t[ 14.83016858 426.04705834]    \t[  2.         163.82367994]  \t[  50.         1603.85940094]\n",
      "239\t283   \t[ 23.32       876.92297354]  \t[ 16.92062647 498.81604308]    \t[  2.         163.82367994]  \t[  50.         1603.85940094]\n",
      "240\t289   \t[  29.935      1068.97161511]\t[ 16.18303973 479.45152994]    \t[ 1.         83.28578815]    \t[  50.         1603.85940094]\n",
      "241\t279   \t[  35.36       1228.99844918]\t[ 14.3122465  393.79024954]    \t[ 1.         83.28578815]    \t[  50.         1603.85940094]\n",
      "242\t275   \t[  33.835      1164.40807437]\t[ 18.18757199 522.77914811]    \t[ 1.         83.28578815]    \t[  50.         1603.85940094]\n",
      "243\t278   \t[  36.62       1244.76893199]\t[ 17.16407877 483.97198981]    \t[0. 0.]                      \t[  50.         1603.85940094]\n",
      "244\t289   \t[  36.835      1250.79450791]\t[ 16.83323424 479.43738893]    \t[0. 0.]                      \t[  50.         1603.85940094]\n",
      "245\t254   \t[  34.85       1202.58687725]\t[ 16.13404785 466.72022524]    \t[0. 0.]                      \t[  50.         1603.85940094]\n",
      "246\t278   \t[  37.415      1258.26152603]\t[ 17.43108645 506.03509605]    \t[0. 0.]                      \t[  50.         1603.85940094]\n",
      "247\t281   \t[  47.93       1545.05129043]\t[  8.73585142 258.36800019]    \t[0. 0.]                      \t[  50.         1603.85940094]\n",
      "248\t284   \t[  46.78       1512.06958475]\t[ 10.4900715  313.57370764]    \t[0. 0.]                      \t[  50.         1603.85940094]\n",
      "249\t276   \t[  50.         1603.85940094]\t[0.00000000e+00 5.45696821e-12]\t[  50.         1603.85940094]\t[  50.         1603.85940094]\n",
      "250\t286   \t[  49.935      1602.29449059]\t[ 0.41324932 10.004213  ]      \t[  46.         1510.29017392]\t[  50.         1603.85940094]\n"
     ]
    }
   ],
   "source": [
    "pop, log = algorithms.eaMuPlusLambda(\n",
    "    pop, toolbox, MU, LAMBDA, CXPB, MUTPB, NGEN, stats, halloffame=hof\n",
    ")"
   ]
  },
  {
   "cell_type": "code",
   "execution_count": 20,
   "metadata": {
    "id": "BO08JvZx7LFf",
    "ExecuteTime": {
     "end_time": "2024-02-21T21:37:59.258308Z",
     "start_time": "2024-02-21T21:37:59.043993Z"
    }
   },
   "outputs": [],
   "source": [
    "import matplotlib.pyplot as plt\n",
    "\n",
    "%matplotlib inline\n",
    "\n",
    "gen = log.select(\"gen\")\n",
    "avgs = log.select(\"avg\")\n",
    "stds = log.select(\"std\")"
   ]
  },
  {
   "cell_type": "code",
   "execution_count": 21,
   "metadata": {
    "id": "caQBGrzq7LFf",
    "ExecuteTime": {
     "end_time": "2024-02-21T21:37:59.265199Z",
     "start_time": "2024-02-21T21:37:59.259122Z"
    }
   },
   "outputs": [],
   "source": [
    "avgs_weight = [item[0] for item in avgs]\n",
    "avgs_value = [item[1] for item in avgs]"
   ]
  },
  {
   "cell_type": "code",
   "execution_count": 22,
   "metadata": {
    "colab": {
     "base_uri": "https://localhost:8080/"
    },
    "id": "-7hjwuG67LFg",
    "outputId": "6d63e124-d80f-4d2a-9187-0e6269432efd",
    "ExecuteTime": {
     "end_time": "2024-02-21T21:37:59.272408Z",
     "start_time": "2024-02-21T21:37:59.269391Z"
    }
   },
   "outputs": [
    {
     "data": {
      "text/plain": "[array([ 26.45      , 232.26559052]),\n array([ 4.195     , 65.84396646]),\n array([ 1.065     , 18.93543271]),\n array([ 1.64      , 28.54157203]),\n array([ 1.47      , 33.40900627]),\n array([ 1.98      , 47.46675323]),\n array([ 2.93      , 71.90118911]),\n array([ 2.925     , 81.32710917]),\n array([ 2.43      , 62.73569951]),\n array([ 3.07      , 73.93350339]),\n array([ 3.92      , 96.89465529]),\n array([  4.455     , 105.93790475]),\n array([ 3.21      , 85.63550248]),\n array([ 3.88      , 99.84246812]),\n array([  6.56      , 164.32873133]),\n array([  7.64     , 189.4500318]),\n array([ 2.655     , 72.06861466]),\n array([  4.825    , 128.9609128]),\n array([  6.335     , 164.92846493]),\n array([  8.755     , 224.31400878]),\n array([ 3.01      , 92.28212466]),\n array([  4.195     , 130.99169053]),\n array([  4.86      , 164.49879555]),\n array([  5.275     , 149.10566036]),\n array([  5.82      , 148.57351895]),\n array([  6.21      , 162.24513142]),\n array([  6.585    , 174.7255203]),\n array([ 10.35      , 265.58001816]),\n array([  7.105     , 187.28356788]),\n array([  5.47      , 166.43889466]),\n array([  7.435     , 229.62770382]),\n array([  8.725     , 291.27617907]),\n array([  6.63      , 239.16208384]),\n array([  8.425     , 301.37686362]),\n array([ 12.505     , 444.29802591]),\n array([ 15.615     , 448.71551984]),\n array([ 15.045    , 430.5676705]),\n array([  7.37      , 224.12847617]),\n array([ 10.69     , 333.9919866]),\n array([ 17.525     , 536.51222011]),\n array([ 15.39      , 490.53222235]),\n array([ 12.255     , 399.23241076]),\n array([  9.775     , 345.84080789]),\n array([  6.945     , 277.49330913]),\n array([  6.355     , 209.32545197]),\n array([  9.765     , 308.63163176]),\n array([ 14.665   , 471.303649]),\n array([ 17.525     , 531.17342729]),\n array([ 15.675     , 496.77498571]),\n array([ 21.705     , 676.62469548]),\n array([ 32.075     , 872.78175893]),\n array([ 16.94      , 561.42761579]),\n array([ 17.015     , 565.25265073]),\n array([ 24.08      , 807.06094919]),\n array([ 23.815     , 746.64251192]),\n array([ 19.41      , 655.09160448]),\n array([ 24.225     , 815.49848515]),\n array([ 19.2       , 674.81608604]),\n array([ 25.335     , 836.65273887]),\n array([ 23.96      , 754.65865913]),\n array([ 31.315     , 932.65080646]),\n array([ 29.535     , 835.72624691]),\n array([  39.755     , 1057.51020722]),\n array([  49.085     , 1237.79392056]),\n array([  47.615     , 1210.18546404]),\n array([  45.715     , 1179.66998126]),\n array([  50.        , 1252.80565726]),\n array([  49.88      , 1251.16043225]),\n array([  49.845     , 1250.76220584]),\n array([  49.155     , 1242.52227513]),\n array([  49.41      , 1245.35809817]),\n array([  48.265    , 1230.3326783]),\n array([  43.545    , 1164.8249017]),\n array([  41.105     , 1136.04411377]),\n array([  41.975     , 1156.79836811]),\n array([  40.23      , 1128.41785236]),\n array([  36.725     , 1067.98641264]),\n array([  37.13      , 1077.98620313]),\n array([  34.785     , 1038.88999043]),\n array([  33.48      , 1020.71032826]),\n array([ 30.32      , 944.36096207]),\n array([ 28.665     , 916.80222698]),\n array([  32.425     , 1005.69472156]),\n array([  35.82      , 1088.06806782]),\n array([  34.675     , 1049.25541881]),\n array([  42.93      , 1239.68294482]),\n array([  34.795     , 1056.20742021]),\n array([  39.7       , 1168.40181658]),\n array([ 25.74      , 851.95256568]),\n array([ 26.485     , 887.70202402]),\n array([ 26.06      , 878.49034144]),\n array([ 29.215    , 953.0258742]),\n array([ 31.355     , 994.32115143]),\n array([  33.375     , 1016.53937808]),\n array([ 16.78      , 579.35338374]),\n array([ 23.205     , 788.33737811]),\n array([ 26.04     , 853.2299088]),\n array([  34.645     , 1102.02893575]),\n array([  33.255    , 1077.0428588]),\n array([ 25.175     , 871.40617615]),\n array([ 27.71      , 960.71480935]),\n array([  30.055     , 1012.73056801]),\n array([ 30.585     , 982.98182432]),\n array([  37.955     , 1179.41513715]),\n array([  42.46      , 1279.00845135]),\n array([  33.9       , 1068.67123556]),\n array([  37.765     , 1177.74931777]),\n array([  35.845     , 1138.25358322]),\n array([  40.275    , 1231.5929057]),\n array([ 25.285     , 870.71546119]),\n array([ 17.815     , 649.80143261]),\n array([ 23.865     , 844.60155934]),\n array([ 23.39      , 859.69777959]),\n array([ 25.625     , 890.63521614]),\n array([ 23.045     , 830.33457329]),\n array([ 20.52      , 758.11468036]),\n array([  30.91      , 1061.05330377]),\n array([  36.085     , 1168.32448984]),\n array([ 23.74      , 884.29599752]),\n array([ 17.8       , 661.66360256]),\n array([ 16.405     , 596.36207359]),\n array([ 19.795     , 703.84558663]),\n array([ 22.13      , 817.53674362]),\n array([ 26.155     , 953.41850454]),\n array([ 26.35      , 929.31745576]),\n array([  31.2       , 1079.02594028]),\n array([  30.905     , 1071.13199356]),\n array([ 22.44      , 835.46932846]),\n array([ 18.775     , 693.03825152]),\n array([ 20.625     , 752.04680647]),\n array([ 14.91      , 562.35312607]),\n array([ 20.435     , 747.74872977]),\n array([ 17.84      , 650.94976057]),\n array([ 20.33      , 745.10583721]),\n array([  28.735     , 1045.05595261]),\n array([  28.12      , 1019.72015391]),\n array([  29.75      , 1058.28346655]),\n array([ 26.43      , 977.46366367]),\n array([  27.855     , 1031.30801586]),\n array([ 26.125     , 987.44895796]),\n array([ 24.4       , 885.67348782]),\n array([ 29.17      , 999.47046185]),\n array([  36.985     , 1245.05938447]),\n array([  42.295     , 1370.57844972]),\n array([  38.105     , 1264.89414278]),\n array([  46.18      , 1469.34457372]),\n array([  43.61      , 1401.49814557]),\n array([  43.75      , 1410.61121922]),\n array([  50.        , 1574.39525533]),\n array([  50.        , 1574.39525533]),\n array([  49.925     , 1572.82703863]),\n array([  50.        , 1574.39525533]),\n array([  49.94      , 1573.10517012]),\n array([  49.92      , 1572.63732398]),\n array([  49.545     , 1564.46182817]),\n array([  48.135    , 1533.8156981]),\n array([  47.125     , 1517.86902984]),\n array([  47.6       , 1535.30578382]),\n array([  47.18      , 1524.96458909]),\n array([  44.85      , 1469.39672347]),\n array([  40.7       , 1373.41665166]),\n array([  40.105     , 1362.34779997]),\n array([  41.375     , 1389.74742155]),\n array([  41.93      , 1396.76575465]),\n array([  46.84      , 1514.05180107]),\n array([  46.905     , 1512.63333456]),\n array([  46.88      , 1513.30554297]),\n array([  45.905     , 1492.11539373]),\n array([  45.01      , 1474.88709368]),\n array([  45.63      , 1485.28199896]),\n array([  46.195     , 1495.62240215]),\n array([  45.695     , 1485.76536805]),\n array([  44.965     , 1469.43393054]),\n array([  46.78      , 1509.59619944]),\n array([  46.445     , 1502.63209307]),\n array([  45.315     , 1477.80397719]),\n array([  45.995     , 1495.15530561]),\n array([  44.76      , 1461.70579166]),\n array([  44.255     , 1452.90525684]),\n array([  44.69      , 1460.96982295]),\n array([  49.51     , 1570.5581784]),\n array([  48.73      , 1551.59658319]),\n array([  50.        , 1582.48187892]),\n array([  49.92     , 1580.7130464]),\n array([  49.9       , 1580.24520026]),\n array([  49.91      , 1580.73470331]),\n array([  49.905    , 1580.5755571]),\n array([  50.        , 1582.48187892]),\n array([  50.        , 1582.48187892]),\n array([  50.        , 1582.48187892]),\n array([  49.9       , 1579.98648322]),\n array([  49.865     , 1578.90244148]),\n array([  50.        , 1582.48187892]),\n array([  50.        , 1582.48187892]),\n array([  50.        , 1582.48187892]),\n array([  49.945    , 1581.0679211]),\n array([  50.        , 1582.48187892]),\n array([  50.        , 1582.48187892]),\n array([  49.91      , 1580.55868424]),\n array([  49.86      , 1579.18521868]),\n array([  49.855     , 1579.23425729]),\n array([  49.315     , 1567.20142228]),\n array([  48.375     , 1548.50590085]),\n array([  47.405     , 1533.28266543]),\n array([  47.135     , 1530.92671796]),\n array([  46.8       , 1524.47001417]),\n array([  43.49      , 1446.20208328]),\n array([  38.45      , 1328.34676339]),\n array([  37.545     , 1303.12433898]),\n array([  35.945   , 1265.302547]),\n array([  38.525     , 1322.92428718]),\n array([  42.17      , 1404.84388351]),\n array([  45.49      , 1484.55539061]),\n array([  43.885     , 1448.77319547]),\n array([  43.435     , 1437.11359956]),\n array([  42.52      , 1416.32185162]),\n array([  42.395     , 1412.61182383]),\n array([  39.275     , 1343.82173036]),\n array([  40.995     , 1382.21643557]),\n array([  45.785     , 1486.71810879]),\n array([  36.93      , 1278.12789404]),\n array([  35.63      , 1240.47735637]),\n array([  37.01      , 1271.50024932]),\n array([  42.38      , 1402.79079933]),\n array([  30.285   , 1113.046971]),\n array([  34.32      , 1216.67722079]),\n array([  33.93      , 1214.01857356]),\n array([  29.16      , 1081.68250998]),\n array([  32.705     , 1164.61118669]),\n array([  27.665    , 1033.9166592]),\n array([  28.95      , 1075.27042528]),\n array([ 25.42      , 970.76886832]),\n array([ 24.415     , 928.04753458]),\n array([  28.26      , 1030.91751729]),\n array([ 21.095     , 816.02292586]),\n array([ 27.075     , 998.45754046]),\n array([  31.125     , 1122.75752889]),\n array([  31.025     , 1129.70020356]),\n array([  30.31      , 1089.63819646]),\n array([ 23.32      , 876.92297354]),\n array([  29.935     , 1068.97161511]),\n array([  35.36      , 1228.99844918]),\n array([  33.835     , 1164.40807437]),\n array([  36.62      , 1244.76893199]),\n array([  36.835     , 1250.79450791]),\n array([  34.85      , 1202.58687725]),\n array([  37.415     , 1258.26152603]),\n array([  47.93      , 1545.05129043]),\n array([  46.78      , 1512.06958475]),\n array([  50.        , 1603.85940094]),\n array([  49.935     , 1602.29449059])]"
     },
     "execution_count": 22,
     "metadata": {},
     "output_type": "execute_result"
    }
   ],
   "source": [
    "avgs"
   ]
  },
  {
   "cell_type": "code",
   "execution_count": 23,
   "metadata": {
    "colab": {
     "base_uri": "https://localhost:8080/",
     "height": 476
    },
    "id": "nW-EHcR37LFh",
    "outputId": "b8f37b18-62bf-42d8-e4c7-39f5edd41585",
    "ExecuteTime": {
     "end_time": "2024-02-21T21:37:59.431462Z",
     "start_time": "2024-02-21T21:37:59.293967Z"
    }
   },
   "outputs": [
    {
     "data": {
      "text/plain": "Text(0, 0.5, 'Fitness (weight)')"
     },
     "execution_count": 23,
     "metadata": {},
     "output_type": "execute_result"
    },
    {
     "data": {
      "text/plain": "<Figure size 640x480 with 1 Axes>",
      "image/png": "[encoded data removed]"
     },
     "metadata": {},
     "output_type": "display_data"
    }
   ],
   "source": [
    "plt.rc(\"axes\", labelsize=14)\n",
    "plt.rc(\"xtick\", labelsize=14)\n",
    "plt.rc(\"ytick\", labelsize=14)\n",
    "plt.rc(\"legend\", fontsize=14)\n",
    "\n",
    "fig, ax1 = plt.subplots()\n",
    "line1 = ax1.plot(gen, avgs_weight)\n",
    "ax1.set_xlabel(\"Generation\")\n",
    "ax1.set_ylabel(\"Fitness (weight)\")"
   ]
  },
  {
   "cell_type": "code",
   "execution_count": 24,
   "metadata": {
    "colab": {
     "base_uri": "https://localhost:8080/",
     "height": 479
    },
    "id": "0elNKWWo7LFi",
    "outputId": "b46e5156-e700-4eef-cedf-56dcfcef41dd",
    "ExecuteTime": {
     "end_time": "2024-02-21T21:37:59.533351Z",
     "start_time": "2024-02-21T21:37:59.422190Z"
    }
   },
   "outputs": [
    {
     "data": {
      "text/plain": "Text(0, 0.5, 'Fitness (value)')"
     },
     "execution_count": 24,
     "metadata": {},
     "output_type": "execute_result"
    },
    {
     "data": {
      "text/plain": "<Figure size 640x480 with 1 Axes>",
      "image/png": "[encoded data removed]"
     },
     "metadata": {},
     "output_type": "display_data"
    }
   ],
   "source": [
    "fig2, ax2 = plt.subplots()\n",
    "line2 = ax2.plot(gen, avgs_value)\n",
    "ax2.set_xlabel(\"Generation\")\n",
    "ax2.set_ylabel(\"Fitness (value)\")"
   ]
  },
  {
   "cell_type": "markdown",
   "metadata": {
    "id": "65emOyZR7LFk"
   },
   "source": [
    "Normally we would now plot the Pareto front. But here we have solutions that have anything from 0 upwards of solution dimensions (i.e. what is in the bag). So we can't plot the solution space very easily. You will, however, be doing this in the workshop."
   ]
  }
 ],
 "metadata": {
  "colab": {
   "provenance": []
  },
  "kernelspec": {
   "name": "python3",
   "language": "python",
   "display_name": "Python 3 (ipykernel)"
  },
  "language_info": {
   "codemirror_mode": {
    "name": "ipython",
    "version": 3
   },
   "file_extension": ".py",
   "mimetype": "text/x-python",
   "name": "python",
   "nbconvert_exporter": "python",
   "pygments_lexer": "ipython3",
   "version": "3.8.3"
  }
 },
 "nbformat": 4,
 "nbformat_minor": 0
}
